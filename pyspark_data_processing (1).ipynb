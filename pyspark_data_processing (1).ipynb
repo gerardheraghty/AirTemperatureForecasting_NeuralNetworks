{
 "cells": [
  {
   "cell_type": "code",
   "execution_count": 1,
   "id": "67cce6a5",
   "metadata": {},
   "outputs": [],
   "source": [
    "#importing the relevant packages\n",
    "import matplotlib.pyplot as plt\n",
    "from pyspark.sql import functions as F\n",
    "from pyspark.sql.functions import col, year,month, to_date,  col,isnan, when, count, mean,min,max\n",
    "from pyspark.sql import Window\n",
    "import time\n",
    "\n",
    "#supressing the warnings\n",
    "import warnings\n",
    "warnings.filterwarnings(\"ignore\")"
   ]
  },
  {
   "cell_type": "code",
   "execution_count": 2,
   "id": "8b803982",
   "metadata": {},
   "outputs": [
    {
     "data": {
      "text/html": [
       "\n",
       "        <div>\n",
       "            <p><b>SparkContext</b></p>\n",
       "\n",
       "            <p><a href=\"http://10.0.2.15:4042\">Spark UI</a></p>\n",
       "\n",
       "            <dl>\n",
       "              <dt>Version</dt>\n",
       "                <dd><code>v3.4.2</code></dd>\n",
       "              <dt>Master</dt>\n",
       "                <dd><code>local[*]</code></dd>\n",
       "              <dt>AppName</dt>\n",
       "                <dd><code>PySparkShell</code></dd>\n",
       "            </dl>\n",
       "        </div>\n",
       "        "
      ],
      "text/plain": [
       "<SparkContext master=local[*] appName=PySparkShell>"
      ]
     },
     "execution_count": 2,
     "metadata": {},
     "output_type": "execute_result"
    }
   ],
   "source": [
    "#looking at the spark context, showing the connection to the spark cluster\n",
    "sc"
   ]
  },
  {
   "cell_type": "markdown",
   "id": "224fe519",
   "metadata": {},
   "source": [
    "### Loading the dataset from HDFS"
   ]
  },
  {
   "cell_type": "code",
   "execution_count": 47,
   "id": "bed8f155",
   "metadata": {},
   "outputs": [
    {
     "name": "stdout",
     "output_type": "stream",
     "text": [
      "Total execution time: 0.6626979400007258 seconds\n"
     ]
    }
   ],
   "source": [
    "#reading in the dataset from hdfs and timing how long it takes for comparison to using pandas\n",
    "start_time = time.perf_counter()\n",
    "\n",
    "weather_df = spark.read.csv('/user/weather_station_data.csv',header=True)\n",
    "\n",
    "end_time = time.perf_counter()\n",
    "total_time = end_time - start_time\n",
    "\n",
    "print(f'Total execution time: {total_time} seconds')"
   ]
  },
  {
   "cell_type": "markdown",
   "id": "787988e8",
   "metadata": {},
   "source": [
    "### Performing exploratory data analysis on the dataset"
   ]
  },
  {
   "cell_type": "code",
   "execution_count": 48,
   "id": "b572ffe7",
   "metadata": {},
   "outputs": [],
   "source": [
    "#weather_df = spark.read.csv('/user/weather_station_data.csv',header=True, inferSchema=True)"
   ]
  },
  {
   "cell_type": "code",
   "execution_count": 49,
   "id": "7851bfb5",
   "metadata": {
    "scrolled": true
   },
   "outputs": [
    {
     "name": "stdout",
     "output_type": "stream",
     "text": [
      "+-----------------+---+----+-----+----+-----+----+-----+-----+----+------+-----+----+-----+-----+---+---+---+-----+----+-----+--------------+\n",
      "|             date|ind|rain|ind.1|temp|ind.2|wetb|dewpt|vappr|rhum|   msl|ind.3|wdsp|ind.4|wddir| ww|  w|sun|  vis|clht|clamt|  station_name|\n",
      "+-----------------+---+----+-----+----+-----+----+-----+-----+----+------+-----+----+-----+-----+---+---+---+-----+----+-----+--------------+\n",
      "|01-jan-1944 00:00|  2| 0.0|    0| 7.2|    0| 6.7|  6.1|  9.4|  93|1027.9|    1|  19|    1|  290| 50|  5|0.0|20000|  12|    8|Dublin Airport|\n",
      "|01-jan-1944 01:00|  0| 0.0|    0| 7.2|    0| 6.6|  6.1|  9.3|  91|1027.6|    1|  19|    1|  280|  2|  2|0.0|30000|  15|    7|Dublin Airport|\n",
      "|01-jan-1944 02:00|  2| 0.0|    0| 7.2|    0| 6.6|  6.1|  9.3|  92|1027.0|    1|  19|    1|  260| 50|  5|0.0|30000|  15|    8|Dublin Airport|\n",
      "|01-jan-1944 03:00|  2| 0.0|    0| 7.2|    0| 6.5|  5.5|  9.1|  90|1026.2|    1|  19|    1|  270| 50|  5|0.0|20000|  15|    7|Dublin Airport|\n",
      "|01-jan-1944 04:00|  0| 0.0|    0| 7.2|    0| 6.5|  5.5|  9.1|  89|1025.5|    1|  19|    1|  270|  2|  2|0.0|30000|  18|    7|Dublin Airport|\n",
      "+-----------------+---+----+-----+----+-----+----+-----+-----+----+------+-----+----+-----+-----+---+---+---+-----+----+-----+--------------+\n",
      "only showing top 5 rows\n",
      "\n"
     ]
    }
   ],
   "source": [
    "weather_df.show(5)"
   ]
  },
  {
   "cell_type": "code",
   "execution_count": 50,
   "id": "56f704d0",
   "metadata": {},
   "outputs": [
    {
     "data": {
      "text/plain": [
       "['date',\n",
       " 'ind',\n",
       " 'rain',\n",
       " 'ind.1',\n",
       " 'temp',\n",
       " 'ind.2',\n",
       " 'wetb',\n",
       " 'dewpt',\n",
       " 'vappr',\n",
       " 'rhum',\n",
       " 'msl',\n",
       " 'ind.3',\n",
       " 'wdsp',\n",
       " 'ind.4',\n",
       " 'wddir',\n",
       " 'ww',\n",
       " 'w',\n",
       " 'sun',\n",
       " 'vis',\n",
       " 'clht',\n",
       " 'clamt',\n",
       " 'station_name']"
      ]
     },
     "execution_count": 50,
     "metadata": {},
     "output_type": "execute_result"
    }
   ],
   "source": [
    "weather_df.columns"
   ]
  },
  {
   "cell_type": "code",
   "execution_count": 51,
   "id": "12413e94",
   "metadata": {},
   "outputs": [
    {
     "name": "stdout",
     "output_type": "stream",
     "text": [
      "root\n",
      " |-- date: string (nullable = true)\n",
      " |-- ind: string (nullable = true)\n",
      " |-- rain: string (nullable = true)\n",
      " |-- ind.1: string (nullable = true)\n",
      " |-- temp: string (nullable = true)\n",
      " |-- ind.2: string (nullable = true)\n",
      " |-- wetb: string (nullable = true)\n",
      " |-- dewpt: string (nullable = true)\n",
      " |-- vappr: string (nullable = true)\n",
      " |-- rhum: string (nullable = true)\n",
      " |-- msl: string (nullable = true)\n",
      " |-- ind.3: string (nullable = true)\n",
      " |-- wdsp: string (nullable = true)\n",
      " |-- ind.4: string (nullable = true)\n",
      " |-- wddir: string (nullable = true)\n",
      " |-- ww: string (nullable = true)\n",
      " |-- w: string (nullable = true)\n",
      " |-- sun: string (nullable = true)\n",
      " |-- vis: string (nullable = true)\n",
      " |-- clht: string (nullable = true)\n",
      " |-- clamt: string (nullable = true)\n",
      " |-- station_name: string (nullable = true)\n",
      "\n"
     ]
    }
   ],
   "source": [
    "weather_df.printSchema()"
   ]
  },
  {
   "cell_type": "code",
   "execution_count": 52,
   "id": "3e558f80",
   "metadata": {},
   "outputs": [],
   "source": [
    "#converting the date column from a string to a timestamp\n",
    "weather_df = weather_df.withColumn('date', F.to_timestamp('date',  \"dd-MMM-yyyy HH:mm\"))"
   ]
  },
  {
   "cell_type": "code",
   "execution_count": 53,
   "id": "6cd5bb75",
   "metadata": {},
   "outputs": [],
   "source": [
    "#looking at the schema the below columns need to be recast to a float as they are being defaulted to a string\n",
    "columns_to_float = ['rain','temp','wetb','dewpt','vappr','msl','sun']\n",
    "\n",
    "for col_name in columns_to_float:\n",
    "    weather_df = weather_df.withColumn(col_name, col(col_name).cast('float'))"
   ]
  },
  {
   "cell_type": "code",
   "execution_count": 54,
   "id": "2ad6f118",
   "metadata": {},
   "outputs": [],
   "source": [
    "#similarly the below columns need to be recast to integers from string\n",
    "columns_to_integer = ['rhum','wdsp','wddir','ww','w','vis','clht','clamt']\n",
    "\n",
    "for col_name in columns_to_integer:\n",
    "    weather_df = weather_df.withColumn(col_name, col(col_name).cast('integer'))"
   ]
  },
  {
   "cell_type": "code",
   "execution_count": 14,
   "id": "79795f12",
   "metadata": {},
   "outputs": [
    {
     "name": "stdout",
     "output_type": "stream",
     "text": [
      "root\n",
      " |-- date: timestamp (nullable = true)\n",
      " |-- ind: string (nullable = true)\n",
      " |-- rain: float (nullable = true)\n",
      " |-- ind.1: string (nullable = true)\n",
      " |-- temp: float (nullable = true)\n",
      " |-- ind.2: string (nullable = true)\n",
      " |-- wetb: float (nullable = true)\n",
      " |-- dewpt: float (nullable = true)\n",
      " |-- vappr: float (nullable = true)\n",
      " |-- rhum: integer (nullable = true)\n",
      " |-- msl: float (nullable = true)\n",
      " |-- ind.3: string (nullable = true)\n",
      " |-- wdsp: integer (nullable = true)\n",
      " |-- ind.4: string (nullable = true)\n",
      " |-- wddir: integer (nullable = true)\n",
      " |-- ww: integer (nullable = true)\n",
      " |-- w: integer (nullable = true)\n",
      " |-- sun: float (nullable = true)\n",
      " |-- vis: integer (nullable = true)\n",
      " |-- clht: integer (nullable = true)\n",
      " |-- clamt: integer (nullable = true)\n",
      " |-- station_name: string (nullable = true)\n",
      "\n"
     ]
    }
   ],
   "source": [
    "weather_df.printSchema()"
   ]
  },
  {
   "cell_type": "code",
   "execution_count": 15,
   "id": "35dc4ce5",
   "metadata": {},
   "outputs": [],
   "source": [
    "#dropping indicator columns which will not be required for modelling therefore are removed from the dataframe\n",
    "columns_to_drop = ['ind','ind.1','ind.2','ind.3','ind.4']\n",
    "weather_df = weather_df.drop(*columns_to_drop)"
   ]
  },
  {
   "cell_type": "code",
   "execution_count": 16,
   "id": "4da9edfd",
   "metadata": {},
   "outputs": [
    {
     "name": "stdout",
     "output_type": "stream",
     "text": [
      "+-------------------+----+----+----+-----+-----+----+------+----+-----+---+---+---+-----+----+-----+--------------+\n",
      "|               date|rain|temp|wetb|dewpt|vappr|rhum|   msl|wdsp|wddir| ww|  w|sun|  vis|clht|clamt|  station_name|\n",
      "+-------------------+----+----+----+-----+-----+----+------+----+-----+---+---+---+-----+----+-----+--------------+\n",
      "|1944-01-01 00:00:00| 0.0| 7.2| 6.7|  6.1|  9.4|  93|1027.9|  19|  290| 50|  5|0.0|20000|  12|    8|Dublin Airport|\n",
      "|1944-01-01 01:00:00| 0.0| 7.2| 6.6|  6.1|  9.3|  91|1027.6|  19|  280|  2|  2|0.0|30000|  15|    7|Dublin Airport|\n",
      "|1944-01-01 02:00:00| 0.0| 7.2| 6.6|  6.1|  9.3|  92|1027.0|  19|  260| 50|  5|0.0|30000|  15|    8|Dublin Airport|\n",
      "|1944-01-01 03:00:00| 0.0| 7.2| 6.5|  5.5|  9.1|  90|1026.2|  19|  270| 50|  5|0.0|20000|  15|    7|Dublin Airport|\n",
      "|1944-01-01 04:00:00| 0.0| 7.2| 6.5|  5.5|  9.1|  89|1025.5|  19|  270|  2|  2|0.0|30000|  18|    7|Dublin Airport|\n",
      "+-------------------+----+----+----+-----+-----+----+------+----+-----+---+---+---+-----+----+-----+--------------+\n",
      "only showing top 5 rows\n",
      "\n"
     ]
    }
   ],
   "source": [
    "weather_df.show(5)"
   ]
  },
  {
   "cell_type": "code",
   "execution_count": 17,
   "id": "37e0e94f",
   "metadata": {},
   "outputs": [],
   "source": [
    "#dropping \"ww\" and \"w\" columns as these represent synop code for present and past weather respectively.\n",
    "#These columns will not add any value to the modelling part of this project so are not required.\n",
    "columns_to_drop = ['ww','w']\n",
    "weather_df = weather_df.drop(*columns_to_drop)"
   ]
  },
  {
   "cell_type": "code",
   "execution_count": 18,
   "id": "42dfc10d",
   "metadata": {},
   "outputs": [
    {
     "name": "stdout",
     "output_type": "stream",
     "text": [
      "+-------------------+----+----+--------+---------+------------+--------+------------+----------+--------+---+-----+------------+------------+--------------+\n",
      "|           datetime|rain|temp|wet_bulb|dew_point|vap_pressure|humidity|sea_pressure|wind_speed|wind_dir|sun|  vis|cloud_height|clout_amount|  station_name|\n",
      "+-------------------+----+----+--------+---------+------------+--------+------------+----------+--------+---+-----+------------+------------+--------------+\n",
      "|1944-01-01 00:00:00| 0.0| 7.2|     6.7|      6.1|         9.4|      93|      1027.9|        19|     290|0.0|20000|          12|           8|Dublin Airport|\n",
      "|1944-01-01 01:00:00| 0.0| 7.2|     6.6|      6.1|         9.3|      91|      1027.6|        19|     280|0.0|30000|          15|           7|Dublin Airport|\n",
      "+-------------------+----+----+--------+---------+------------+--------+------------+----------+--------+---+-----+------------+------------+--------------+\n",
      "only showing top 2 rows\n",
      "\n"
     ]
    }
   ],
   "source": [
    "#renaming some columns for improved clarity\n",
    "weather_df = weather_df.withColumnRenamed(\"date\", \"datetime\") \\\n",
    "                       .withColumnRenamed(\"wetb\", \"wet_bulb\") \\\n",
    "                       .withColumnRenamed(\"dewpt\", \"dew_point\") \\\n",
    "                       .withColumnRenamed(\"vappr\", \"vap_pressure\") \\\n",
    "                       .withColumnRenamed(\"rhum\", \"humidity\") \\\n",
    "                       .withColumnRenamed(\"msl\", \"sea_pressure\") \\\n",
    "                       .withColumnRenamed(\"wdsp\", \"wind_speed\") \\\n",
    "                       .withColumnRenamed(\"wddir\", \"wind_dir\") \\\n",
    "                       .withColumnRenamed(\"clht\", \"cloud_height\") \\\n",
    "                       .withColumnRenamed(\"clamt\", \"clout_amount\")\n",
    "weather_df.show(2)"
   ]
  },
  {
   "cell_type": "code",
   "execution_count": 19,
   "id": "dae928d4",
   "metadata": {},
   "outputs": [
    {
     "name": "stderr",
     "output_type": "stream",
     "text": [
      "24/04/02 16:22:14 WARN package: Truncated the string representation of a plan since it was too large. This behavior can be adjusted by setting 'spark.sql.debug.maxToStringFields'.\n",
      "[Stage 9:>                                                          (0 + 1) / 1]\r"
     ]
    },
    {
     "name": "stdout",
     "output_type": "stream",
     "text": [
      "+-------+-------------------+------------------+-----------------+-----------------+------------------+------------------+------------------+-----------------+-----------------+-------------------+------------------+------------------+------------------+\n",
      "|summary|               rain|              temp|         wet_bulb|        dew_point|      vap_pressure|          humidity|      sea_pressure|       wind_speed|         wind_dir|                sun|               vis|      cloud_height|      clout_amount|\n",
      "+-------+-------------------+------------------+-----------------+-----------------+------------------+------------------+------------------+-----------------+-----------------+-------------------+------------------+------------------+------------------+\n",
      "|  count|            2175331|           2177539|          2177441|          2177539|           2177536|           2177536|           2177521|          2177477|          2177474|            2175380|           2177539|           2177539|           2177539|\n",
      "|   mean|0.11547419724918802| 9.775322837869162|8.472494461878576|7.029847090705246|  10.4577699316739| 83.95087612788032|1013.8000736018528|9.954815596215253|205.7630079624372|0.15684082824431841|25326.416454538816|274.52825643995357|5.7829857467535595|\n",
      "| stddev|  0.478254039709831|4.7880963633299105|4.347364631794184|4.536511953606065|3.1570195398247822|11.912055579886252|12.404899252776135|5.598082274616829|89.80474320731456|0.32619555675341627|15535.132201860415|408.80937182837886| 2.481774239027778|\n",
      "|    min|                0.0|             -11.5|            -49.0|            -17.7|               0.0|                 0|             942.8|                0|                0|                0.0|                 5|                 0|                 0|\n",
      "|    max|               38.4|              31.5|             25.1|             23.8|              79.0|               760|            1050.0|               60|              360|                4.9|             75000|               999|                 9|\n",
      "+-------+-------------------+------------------+-----------------+-----------------+------------------+------------------+------------------+-----------------+-----------------+-------------------+------------------+------------------+------------------+\n",
      "\n"
     ]
    },
    {
     "name": "stderr",
     "output_type": "stream",
     "text": [
      "\r",
      "                                                                                \r"
     ]
    }
   ],
   "source": [
    "cols_to_describe = weather_df.drop('date','station_name').columns\n",
    "desc = weather_df.describe(cols_to_describe)\n",
    "desc.show()"
   ]
  },
  {
   "cell_type": "code",
   "execution_count": 20,
   "id": "a2632ebe",
   "metadata": {},
   "outputs": [
    {
     "name": "stderr",
     "output_type": "stream",
     "text": [
      "[Stage 10:=============================>                            (1 + 1) / 2]\r"
     ]
    },
    {
     "name": "stdout",
     "output_type": "stream",
     "text": [
      "+---------------+\n",
      "|   station_name|\n",
      "+---------------+\n",
      "| Dublin Airport|\n",
      "|Shannon Airport|\n",
      "|  Knock Airport|\n",
      "|   Cork Airport|\n",
      "+---------------+\n",
      "\n"
     ]
    },
    {
     "name": "stderr",
     "output_type": "stream",
     "text": [
      "\r",
      "                                                                                \r"
     ]
    }
   ],
   "source": [
    "#displaying available weather station names in the dataset\n",
    "weather_df.select(\"station_name\").distinct().show() "
   ]
  },
  {
   "cell_type": "code",
   "execution_count": 21,
   "id": "d9e38922",
   "metadata": {},
   "outputs": [
    {
     "name": "stderr",
     "output_type": "stream",
     "text": [
      "\r",
      "[Stage 13:>                                                         (0 + 2) / 2]\r"
     ]
    },
    {
     "name": "stdout",
     "output_type": "stream",
     "text": [
      "+---------------+------+\n",
      "|   station_name| count|\n",
      "+---------------+------+\n",
      "| Dublin Airport|702721|\n",
      "|Shannon Airport|688104|\n",
      "|  Knock Airport|241794|\n",
      "|   Cork Airport|544920|\n",
      "+---------------+------+\n",
      "\n"
     ]
    },
    {
     "name": "stderr",
     "output_type": "stream",
     "text": [
      "\r",
      "                                                                                \r"
     ]
    }
   ],
   "source": [
    "#checking the count of available rows for each weather station\n",
    "weather_df.groupBy('station_name').count().show()"
   ]
  },
  {
   "cell_type": "code",
   "execution_count": 22,
   "id": "9896acc6",
   "metadata": {},
   "outputs": [
    {
     "name": "stderr",
     "output_type": "stream",
     "text": [
      "[Stage 16:=============================>                            (1 + 1) / 2]\r"
     ]
    },
    {
     "name": "stdout",
     "output_type": "stream",
     "text": [
      "+--------------+\n",
      "|  station_name|\n",
      "+--------------+\n",
      "|Dublin Airport|\n",
      "+--------------+\n",
      "\n"
     ]
    },
    {
     "name": "stderr",
     "output_type": "stream",
     "text": [
      "\r",
      "                                                                                \r"
     ]
    }
   ],
   "source": [
    "# As part of the modelling phase, only one weather station will be utilsed. \n",
    "# Dublin Airport is chosen for this and the dataframe is filtered to only contain weather data related to this station:\n",
    "weather_df = weather_df.filter(weather_df.station_name=='Dublin Airport')\n",
    "weather_df.select(\"station_name\").distinct().show() "
   ]
  },
  {
   "cell_type": "code",
   "execution_count": 23,
   "id": "1e2f44ec",
   "metadata": {},
   "outputs": [],
   "source": [
    "#station_name is no longer required and can be dropped from the dataframe\n",
    "weather_df = weather_df.drop('station_name')"
   ]
  },
  {
   "cell_type": "code",
   "execution_count": 24,
   "id": "908b0d6a",
   "metadata": {},
   "outputs": [
    {
     "name": "stdout",
     "output_type": "stream",
     "text": [
      "+-------------------+----+----+--------+---------+------------+--------+------------+----------+--------+---+-----+------------+------------+\n",
      "|           datetime|rain|temp|wet_bulb|dew_point|vap_pressure|humidity|sea_pressure|wind_speed|wind_dir|sun|  vis|cloud_height|clout_amount|\n",
      "+-------------------+----+----+--------+---------+------------+--------+------------+----------+--------+---+-----+------------+------------+\n",
      "|1944-01-01 00:00:00| 0.0| 7.2|     6.7|      6.1|         9.4|      93|      1027.9|        19|     290|0.0|20000|          12|           8|\n",
      "|1944-01-01 01:00:00| 0.0| 7.2|     6.6|      6.1|         9.3|      91|      1027.6|        19|     280|0.0|30000|          15|           7|\n",
      "|1944-01-01 02:00:00| 0.0| 7.2|     6.6|      6.1|         9.3|      92|      1027.0|        19|     260|0.0|30000|          15|           8|\n",
      "|1944-01-01 03:00:00| 0.0| 7.2|     6.5|      5.5|         9.1|      90|      1026.2|        19|     270|0.0|20000|          15|           7|\n",
      "|1944-01-01 04:00:00| 0.0| 7.2|     6.5|      5.5|         9.1|      89|      1025.5|        19|     270|0.0|30000|          18|           7|\n",
      "|1944-01-01 05:00:00| 0.0| 7.5|     6.6|      5.5|         9.0|      87|      1024.9|        19|     270|0.0|30000|          19|           8|\n",
      "|1944-01-01 06:00:00| 0.0| 7.1|     6.2|      5.0|         8.8|      87|      1024.4|        19|     280|0.0|30000|          21|           6|\n",
      "|1944-01-01 07:00:00| 0.0| 7.2|     6.3|      5.0|         8.9|      87|      1024.0|        24|     280|0.0|30000|          21|           6|\n",
      "|1944-01-01 08:00:00| 0.0| 7.3|     6.2|      5.0|         8.6|      84|      1024.0|        24|     280|0.0|30000|         200|           6|\n",
      "|1944-01-01 09:00:00| 0.0| 7.7|     6.6|      5.5|         8.9|      85|      1024.1|        24|     280|0.0|30000|          23|           7|\n",
      "|1944-01-01 10:00:00| 0.0| 7.7|     6.6|      5.5|         8.9|      85|      1023.9|        24|     270|0.2|30000|          26|           7|\n",
      "|1944-01-01 11:00:00| 0.0| 7.8|     6.8|      5.5|         9.1|      86|      1024.3|        24|     270|0.0|30000|          26|           7|\n",
      "|1944-01-01 12:00:00| 0.0| 8.5|     7.3|      6.1|         9.3|      84|      1024.2|        19|     270|0.2|30000|          28|           7|\n",
      "|1944-01-01 13:00:00| 0.0| 8.9|     7.6|      6.1|         9.5|      83|      1024.1|        19|     280|0.1|30000|          29|           7|\n",
      "|1944-01-01 14:00:00| 0.0| 8.8|     7.6|      6.1|         9.4|      83|      1024.1|        19|     270|0.0|30000|          31|           7|\n",
      "|1944-01-01 15:00:00| 0.0| 9.0|     7.3|      5.5|         9.0|      78|      1024.1|        19|     280|0.0|30000|          21|           7|\n",
      "|1944-01-01 16:00:00| 0.0| 8.7|     7.3|      5.5|         9.1|      80|      1024.1|        19|     280|0.0|30000|          28|           7|\n",
      "|1944-01-01 17:00:00| 0.0| 8.4|     7.0|      5.5|         8.9|      81|      1023.9|        19|     280|0.0|30000|          25|           7|\n",
      "|1944-01-01 18:00:00| 0.0| 8.3|     6.8|      5.0|         8.8|      80|      1023.8|        19|     260|0.0|30000|          25|           7|\n",
      "|1944-01-01 19:00:00| 0.0| 8.0|     6.8|      5.5|         9.0|      83|      1024.0|        19|     260|0.0|30000|          25|           7|\n",
      "+-------------------+----+----+--------+---------+------------+--------+------------+----------+--------+---+-----+------------+------------+\n",
      "only showing top 20 rows\n",
      "\n"
     ]
    }
   ],
   "source": [
    "weather_df.show()"
   ]
  },
  {
   "cell_type": "markdown",
   "id": "f71e65b7",
   "metadata": {},
   "source": [
    "### Checking for missing values in the dataframe"
   ]
  },
  {
   "cell_type": "code",
   "execution_count": 25,
   "id": "46b6aae2",
   "metadata": {},
   "outputs": [
    {
     "name": "stderr",
     "output_type": "stream",
     "text": [
      "[Stage 20:=============================>                            (1 + 1) / 2]\r"
     ]
    },
    {
     "name": "stdout",
     "output_type": "stream",
     "text": [
      "+--------+----+----+--------+---------+------------+--------+------------+----------+--------+---+---+------------+------------+\n",
      "|datetime|rain|temp|wet_bulb|dew_point|vap_pressure|humidity|sea_pressure|wind_speed|wind_dir|sun|vis|cloud_height|clout_amount|\n",
      "+--------+----+----+--------+---------+------------+--------+------------+----------+--------+---+---+------------+------------+\n",
      "|       0|   0|   0|       0|        0|           1|       1|           0|         0|       1|  0|  0|           0|           0|\n",
      "+--------+----+----+--------+---------+------------+--------+------------+----------+--------+---+---+------------+------------+\n",
      "\n"
     ]
    },
    {
     "name": "stderr",
     "output_type": "stream",
     "text": [
      "\r",
      "                                                                                \r"
     ]
    }
   ],
   "source": [
    "weather_df.select([count(when(col(c).isNull(), c)).alias(c) for c in weather_df.columns]).show()"
   ]
  },
  {
   "cell_type": "code",
   "execution_count": 26,
   "id": "8d767fba",
   "metadata": {},
   "outputs": [
    {
     "name": "stderr",
     "output_type": "stream",
     "text": [
      "[Stage 24:>                                                         (0 + 1) / 1]\r"
     ]
    },
    {
     "name": "stdout",
     "output_type": "stream",
     "text": [
      "+-------------------+----+----+--------+---------+------------+--------+------------+----------+--------+---+----+------------+------------+\n",
      "|           datetime|rain|temp|wet_bulb|dew_point|vap_pressure|humidity|sea_pressure|wind_speed|wind_dir|sun| vis|cloud_height|clout_amount|\n",
      "+-------------------+----+----+--------+---------+------------+--------+------------+----------+--------+---+----+------------+------------+\n",
      "|1998-09-26 04:00:00| 0.2|13.7|    13.7|     13.7|        null|    null|      1003.8|        10|      50|0.0|1300|           3|           8|\n",
      "+-------------------+----+----+--------+---------+------------+--------+------------+----------+--------+---+----+------------+------------+\n",
      "\n"
     ]
    },
    {
     "name": "stderr",
     "output_type": "stream",
     "text": [
      "\r",
      "                                                                                \r"
     ]
    }
   ],
   "source": [
    "#taking a look at the null values\n",
    "weather_df.filter(weather_df.vap_pressure.isNull()).show()"
   ]
  },
  {
   "cell_type": "code",
   "execution_count": 27,
   "id": "6f31c5bb",
   "metadata": {
    "scrolled": true
   },
   "outputs": [
    {
     "name": "stderr",
     "output_type": "stream",
     "text": [
      "[Stage 26:>                                                         (0 + 1) / 1]\r"
     ]
    },
    {
     "name": "stdout",
     "output_type": "stream",
     "text": [
      "+-------------------+----+----+--------+---------+------------+--------+------------+----------+--------+---+-----+------------+------------+\n",
      "|           datetime|rain|temp|wet_bulb|dew_point|vap_pressure|humidity|sea_pressure|wind_speed|wind_dir|sun|  vis|cloud_height|clout_amount|\n",
      "+-------------------+----+----+--------+---------+------------+--------+------------+----------+--------+---+-----+------------+------------+\n",
      "|2007-07-16 18:00:00| 0.0|17.8|    14.5|     11.9|        13.9|      68|      1005.2|        10|    null|0.5|30000|          90|           5|\n",
      "+-------------------+----+----+--------+---------+------------+--------+------------+----------+--------+---+-----+------------+------------+\n",
      "\n"
     ]
    },
    {
     "name": "stderr",
     "output_type": "stream",
     "text": [
      "\r",
      "                                                                                \r"
     ]
    }
   ],
   "source": [
    "weather_df.filter(weather_df.wind_dir.isNull()).show()"
   ]
  },
  {
   "cell_type": "markdown",
   "id": "12f02af3",
   "metadata": {},
   "source": [
    "**Forward filling** is used as the method of dealing with these missing values. This method works by replacing the missing values with the most recent available observations and is particularly useful when dealing with time series data. Since there is only 1 missing value for each affected column forward fillining was deemed a suitable approach"
   ]
  },
  {
   "cell_type": "markdown",
   "id": "f2496bfa",
   "metadata": {},
   "source": [
    "To implement forward filling in pyspark, a *Window* function is used. A window function in pySpark allows one to perform calculations (such as fetching the last value) across a set of rows that are related to the current row. <br>\n",
    "\n",
    "This allows me to use the *Last* function from pyspark.sql functions across each date partition defined below and ordered by datetime. Using *ignorenulls=True* means that only null values will be updated with the last available value for that column, therefore forward filling the missing values:"
   ]
  },
  {
   "cell_type": "code",
   "execution_count": 28,
   "id": "f5caa5c9",
   "metadata": {},
   "outputs": [],
   "source": [
    "#creating temporary date column from datetime for partitioning purposes\n",
    "weather_df = weather_df.withColumn('date', to_date('datetime'))"
   ]
  },
  {
   "cell_type": "code",
   "execution_count": 29,
   "id": "865f9eb8",
   "metadata": {},
   "outputs": [],
   "source": [
    "#defining the window order by datetime and partitioned by date\n",
    "#setting rowsBetween -sys.maxsize and 0, includes all rows from the beginning of the partition up until the current row\n",
    "window = Window.partitionBy('date').orderBy('datetime').rowsBetween(-sys.maxsize,0)"
   ]
  },
  {
   "cell_type": "code",
   "execution_count": 30,
   "id": "cadc75dd",
   "metadata": {},
   "outputs": [],
   "source": [
    "#applying the window function to the affected columns and utilising the last function to fill the missing values\n",
    "weather_df = weather_df.withColumn('vap_pressure', F.last('vap_pressure',ignorenulls=True).over(window))\n",
    "weather_df = weather_df.withColumn('humidity', F.last('humidity',ignorenulls=True).over(window))\n",
    "weather_df = weather_df.withColumn('wind_dir', F.last('wind_dir',ignorenulls=True).over(window))"
   ]
  },
  {
   "cell_type": "code",
   "execution_count": 31,
   "id": "dbb40a68",
   "metadata": {},
   "outputs": [
    {
     "name": "stderr",
     "output_type": "stream",
     "text": [
      "[Stage 29:>                                                         (0 + 2) / 2]\r"
     ]
    },
    {
     "name": "stdout",
     "output_type": "stream",
     "text": [
      "+--------+----+----+--------+---------+------------+--------+------------+----------+--------+---+---+------------+------------+----+\n",
      "|datetime|rain|temp|wet_bulb|dew_point|vap_pressure|humidity|sea_pressure|wind_speed|wind_dir|sun|vis|cloud_height|clout_amount|date|\n",
      "+--------+----+----+--------+---------+------------+--------+------------+----------+--------+---+---+------------+------------+----+\n",
      "|       0|   0|   0|       0|        0|           0|       0|           0|         0|       0|  0|  0|           0|           0|   0|\n",
      "+--------+----+----+--------+---------+------------+--------+------------+----------+--------+---+---+------------+------------+----+\n",
      "\n"
     ]
    },
    {
     "name": "stderr",
     "output_type": "stream",
     "text": [
      "\r",
      "                                                                                \r"
     ]
    }
   ],
   "source": [
    "#checking number of null values aagin\n",
    "weather_df.select([count(when(col(c).isNull(), c)).alias(c) for c in weather_df.columns]).show()"
   ]
  },
  {
   "cell_type": "code",
   "execution_count": 32,
   "id": "10c0ea03",
   "metadata": {},
   "outputs": [
    {
     "name": "stderr",
     "output_type": "stream",
     "text": [
      "                                                                                \r"
     ]
    },
    {
     "name": "stdout",
     "output_type": "stream",
     "text": [
      "+--------+----+----+--------+---------+------------+--------+------------+----------+--------+---+---+------------+------------+----+\n",
      "|datetime|rain|temp|wet_bulb|dew_point|vap_pressure|humidity|sea_pressure|wind_speed|wind_dir|sun|vis|cloud_height|clout_amount|date|\n",
      "+--------+----+----+--------+---------+------------+--------+------------+----------+--------+---+---+------------+------------+----+\n",
      "+--------+----+----+--------+---------+------------+--------+------------+----------+--------+---+---+------------+------------+----+\n",
      "\n"
     ]
    }
   ],
   "source": [
    "weather_df.filter(weather_df.vis.isNull()).show()"
   ]
  },
  {
   "cell_type": "code",
   "execution_count": 33,
   "id": "497c3061",
   "metadata": {},
   "outputs": [
    {
     "name": "stderr",
     "output_type": "stream",
     "text": [
      "24/04/02 16:23:47 WARN RowBasedKeyValueBatch: Calling spill() on RowBasedKeyValueBatch. Will not spill but return 0.\n",
      "24/04/02 16:23:48 WARN RowBasedKeyValueBatch: Calling spill() on RowBasedKeyValueBatch. Will not spill but return 0.\n",
      "                                                                                \r"
     ]
    },
    {
     "name": "stdout",
     "output_type": "stream",
     "text": [
      "+--------+----+----+--------+---------+------------+--------+------------+----------+--------+---+---+------------+------------+----+\n",
      "|datetime|rain|temp|wet_bulb|dew_point|vap_pressure|humidity|sea_pressure|wind_speed|wind_dir|sun|vis|cloud_height|clout_amount|date|\n",
      "+--------+----+----+--------+---------+------------+--------+------------+----------+--------+---+---+------------+------------+----+\n",
      "+--------+----+----+--------+---------+------------+--------+------------+----------+--------+---+---+------------+------------+----+\n",
      "\n"
     ]
    },
    {
     "name": "stderr",
     "output_type": "stream",
     "text": [
      "\r",
      "[Stage 46:>                                                         (0 + 1) / 1]\r",
      "\r",
      "                                                                                \r"
     ]
    }
   ],
   "source": [
    "#Checking for duplicates\n",
    "weather_df.exceptAll(weather_df.dropDuplicates()).show()"
   ]
  },
  {
   "cell_type": "code",
   "execution_count": 34,
   "id": "d1338c96",
   "metadata": {},
   "outputs": [
    {
     "name": "stderr",
     "output_type": "stream",
     "text": [
      "                                                                                \r"
     ]
    },
    {
     "data": {
      "text/plain": [
       "702721"
      ]
     },
     "execution_count": 34,
     "metadata": {},
     "output_type": "execute_result"
    }
   ],
   "source": [
    "weather_df.count()"
   ]
  },
  {
   "cell_type": "markdown",
   "id": "f61f544d",
   "metadata": {},
   "source": [
    "For the modelling stage of this project only the last 5 years worth of weather data will be used to ensure the processing time of the neural networks isnt too large. Since the time intervals are hourly, 5 years worth of data will provide me with sufficient amount of data for neural networks."
   ]
  },
  {
   "cell_type": "code",
   "execution_count": 35,
   "id": "da978943",
   "metadata": {},
   "outputs": [],
   "source": [
    "weather_df = weather_df.filter(col('date')>'2019')"
   ]
  },
  {
   "cell_type": "code",
   "execution_count": 36,
   "id": "d2b0268a",
   "metadata": {},
   "outputs": [
    {
     "name": "stderr",
     "output_type": "stream",
     "text": [
      "                                                                                \r"
     ]
    },
    {
     "data": {
      "text/plain": [
       "45241"
      ]
     },
     "execution_count": 36,
     "metadata": {},
     "output_type": "execute_result"
    }
   ],
   "source": [
    "weather_df.count()"
   ]
  },
  {
   "cell_type": "code",
   "execution_count": 37,
   "id": "8e5f7681",
   "metadata": {},
   "outputs": [
    {
     "name": "stderr",
     "output_type": "stream",
     "text": [
      "                                                                                \r"
     ]
    }
   ],
   "source": [
    "#exporting csv for modelling stage\n",
    "weather_df.write.csv('/user/weatherProcessed.csv',header=True,sep=',',mode='overwrite')"
   ]
  },
  {
   "cell_type": "code",
   "execution_count": null,
   "id": "4793e7c8",
   "metadata": {},
   "outputs": [],
   "source": [
    "weather_df.printSchema()"
   ]
  }
 ],
 "metadata": {
  "kernelspec": {
   "display_name": "Python 3 (ipykernel)",
   "language": "python",
   "name": "python3"
  },
  "language_info": {
   "codemirror_mode": {
    "name": "ipython",
    "version": 3
   },
   "file_extension": ".py",
   "mimetype": "text/x-python",
   "name": "python",
   "nbconvert_exporter": "python",
   "pygments_lexer": "ipython3",
   "version": "3.10.12"
  }
 },
 "nbformat": 4,
 "nbformat_minor": 5
}
