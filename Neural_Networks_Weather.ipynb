{
 "cells": [
  {
   "cell_type": "code",
   "execution_count": 255,
   "id": "fe17bd3f",
   "metadata": {},
   "outputs": [],
   "source": [
    "#importing necessary packages\n",
    "import math\n",
    "import numpy as np\n",
    "import pandas as pd\n",
    "\n",
    "#importing tensorflow and keras packages\n",
    "from keras.models import Sequential\n",
    "from keras.layers import Dense, LSTM\n",
    "from tensorflow.keras.layers import Dropout\n",
    "import tensorflow as tf\n",
    "from tensorflow import keras\n",
    "from scikeras.wrappers import KerasRegressor\n",
    "\n",
    "#importing matplotlib for visualisations\n",
    "import matplotlib.pyplot as plt\n",
    "import seaborn as sns\n",
    "\n",
    "#importing sklearn packages\n",
    "from sklearn.preprocessing import StandardScaler\n",
    "from sklearn.model_selection import GridSearchCV,RandomizedSearchCV\n",
    "from sklearn.model_selection import TimeSeriesSplit\n",
    "from sklearn.preprocessing import MinMaxScaler\n",
    "from sklearn.metrics import mean_squared_error, r2_score\n",
    "\n",
    "\n",
    "#supressing warnings\n",
    "import warnings\n",
    "warnings.filterwarnings('ignore')\n",
    "\n",
    "#loading in evaluation metrics from statsmodels\n",
    "from statsmodels.tools.eval_measures import mse, rmse"
   ]
  },
  {
   "cell_type": "markdown",
   "id": "fda763e4",
   "metadata": {},
   "source": [
    "#### Loading in the dataset in multiple parts as when pulled directly from HDFS it is split up into multiple blocks"
   ]
  },
  {
   "cell_type": "code",
   "execution_count": 482,
   "id": "dfe18b27",
   "metadata": {},
   "outputs": [],
   "source": [
    "part1_df = pd.read_csv('part-00000-5600618e-29bd-47b1-b674-47ff83c57f73-c000.csv')"
   ]
  },
  {
   "cell_type": "code",
   "execution_count": 483,
   "id": "71636468",
   "metadata": {},
   "outputs": [],
   "source": [
    "part2_df = pd.read_csv('part-00001-5600618e-29bd-47b1-b674-47ff83c57f73-c000.csv')"
   ]
  },
  {
   "cell_type": "code",
   "execution_count": 484,
   "id": "6bc42ac8",
   "metadata": {},
   "outputs": [],
   "source": [
    "df = pd.concat([part1_df, part2_df])"
   ]
  },
  {
   "cell_type": "markdown",
   "id": "a1bc0396",
   "metadata": {},
   "source": [
    "#### data understanding and preparation"
   ]
  },
  {
   "cell_type": "code",
   "execution_count": 259,
   "id": "e4b8745f",
   "metadata": {},
   "outputs": [
    {
     "data": {
      "text/html": [
       "<div>\n",
       "<style scoped>\n",
       "    .dataframe tbody tr th:only-of-type {\n",
       "        vertical-align: middle;\n",
       "    }\n",
       "\n",
       "    .dataframe tbody tr th {\n",
       "        vertical-align: top;\n",
       "    }\n",
       "\n",
       "    .dataframe thead th {\n",
       "        text-align: right;\n",
       "    }\n",
       "</style>\n",
       "<table border=\"1\" class=\"dataframe\">\n",
       "  <thead>\n",
       "    <tr style=\"text-align: right;\">\n",
       "      <th></th>\n",
       "      <th>datetime</th>\n",
       "      <th>rain</th>\n",
       "      <th>temp</th>\n",
       "      <th>wet_bulb</th>\n",
       "      <th>dew_point</th>\n",
       "      <th>vap_pressure</th>\n",
       "      <th>humidity</th>\n",
       "      <th>sea_pressure</th>\n",
       "      <th>wind_speed</th>\n",
       "      <th>wind_dir</th>\n",
       "      <th>sun</th>\n",
       "      <th>vis</th>\n",
       "      <th>cloud_height</th>\n",
       "      <th>clout_amount</th>\n",
       "      <th>date</th>\n",
       "    </tr>\n",
       "  </thead>\n",
       "  <tbody>\n",
       "    <tr>\n",
       "      <th>0</th>\n",
       "      <td>2019-01-02T00:00:00.000Z</td>\n",
       "      <td>0.0</td>\n",
       "      <td>4.4</td>\n",
       "      <td>3.5</td>\n",
       "      <td>2.2</td>\n",
       "      <td>7.1</td>\n",
       "      <td>85</td>\n",
       "      <td>1042.4</td>\n",
       "      <td>2</td>\n",
       "      <td>290</td>\n",
       "      <td>0.0</td>\n",
       "      <td>18000</td>\n",
       "      <td>28</td>\n",
       "      <td>5</td>\n",
       "      <td>2019-01-02</td>\n",
       "    </tr>\n",
       "    <tr>\n",
       "      <th>1</th>\n",
       "      <td>2019-01-02T01:00:00.000Z</td>\n",
       "      <td>0.0</td>\n",
       "      <td>4.3</td>\n",
       "      <td>3.7</td>\n",
       "      <td>2.7</td>\n",
       "      <td>7.5</td>\n",
       "      <td>90</td>\n",
       "      <td>1043.1</td>\n",
       "      <td>3</td>\n",
       "      <td>70</td>\n",
       "      <td>0.0</td>\n",
       "      <td>18000</td>\n",
       "      <td>30</td>\n",
       "      <td>7</td>\n",
       "      <td>2019-01-02</td>\n",
       "    </tr>\n",
       "    <tr>\n",
       "      <th>2</th>\n",
       "      <td>2019-01-02T02:00:00.000Z</td>\n",
       "      <td>0.0</td>\n",
       "      <td>4.7</td>\n",
       "      <td>3.9</td>\n",
       "      <td>2.6</td>\n",
       "      <td>7.4</td>\n",
       "      <td>87</td>\n",
       "      <td>1043.2</td>\n",
       "      <td>2</td>\n",
       "      <td>340</td>\n",
       "      <td>0.0</td>\n",
       "      <td>18000</td>\n",
       "      <td>30</td>\n",
       "      <td>7</td>\n",
       "      <td>2019-01-02</td>\n",
       "    </tr>\n",
       "    <tr>\n",
       "      <th>3</th>\n",
       "      <td>2019-01-02T03:00:00.000Z</td>\n",
       "      <td>0.0</td>\n",
       "      <td>5.1</td>\n",
       "      <td>4.2</td>\n",
       "      <td>2.8</td>\n",
       "      <td>7.5</td>\n",
       "      <td>86</td>\n",
       "      <td>1043.3</td>\n",
       "      <td>2</td>\n",
       "      <td>320</td>\n",
       "      <td>0.0</td>\n",
       "      <td>18000</td>\n",
       "      <td>30</td>\n",
       "      <td>7</td>\n",
       "      <td>2019-01-02</td>\n",
       "    </tr>\n",
       "    <tr>\n",
       "      <th>4</th>\n",
       "      <td>2019-01-02T04:00:00.000Z</td>\n",
       "      <td>0.0</td>\n",
       "      <td>5.1</td>\n",
       "      <td>4.2</td>\n",
       "      <td>2.9</td>\n",
       "      <td>7.5</td>\n",
       "      <td>86</td>\n",
       "      <td>1043.2</td>\n",
       "      <td>3</td>\n",
       "      <td>100</td>\n",
       "      <td>0.0</td>\n",
       "      <td>18000</td>\n",
       "      <td>30</td>\n",
       "      <td>7</td>\n",
       "      <td>2019-01-02</td>\n",
       "    </tr>\n",
       "  </tbody>\n",
       "</table>\n",
       "</div>"
      ],
      "text/plain": [
       "                   datetime  rain  temp  wet_bulb  dew_point  vap_pressure  \\\n",
       "0  2019-01-02T00:00:00.000Z   0.0   4.4       3.5        2.2           7.1   \n",
       "1  2019-01-02T01:00:00.000Z   0.0   4.3       3.7        2.7           7.5   \n",
       "2  2019-01-02T02:00:00.000Z   0.0   4.7       3.9        2.6           7.4   \n",
       "3  2019-01-02T03:00:00.000Z   0.0   5.1       4.2        2.8           7.5   \n",
       "4  2019-01-02T04:00:00.000Z   0.0   5.1       4.2        2.9           7.5   \n",
       "\n",
       "   humidity  sea_pressure  wind_speed  wind_dir  sun    vis  cloud_height  \\\n",
       "0        85        1042.4           2       290  0.0  18000            28   \n",
       "1        90        1043.1           3        70  0.0  18000            30   \n",
       "2        87        1043.2           2       340  0.0  18000            30   \n",
       "3        86        1043.3           2       320  0.0  18000            30   \n",
       "4        86        1043.2           3       100  0.0  18000            30   \n",
       "\n",
       "   clout_amount        date  \n",
       "0             5  2019-01-02  \n",
       "1             7  2019-01-02  \n",
       "2             7  2019-01-02  \n",
       "3             7  2019-01-02  \n",
       "4             7  2019-01-02  "
      ]
     },
     "execution_count": 259,
     "metadata": {},
     "output_type": "execute_result"
    }
   ],
   "source": [
    "df.head()"
   ]
  },
  {
   "cell_type": "code",
   "execution_count": 260,
   "id": "47880aa6",
   "metadata": {},
   "outputs": [],
   "source": [
    "#sorting values by datetime\n",
    "df = df.sort_values('datetime')"
   ]
  },
  {
   "cell_type": "code",
   "execution_count": 261,
   "id": "498f80ec",
   "metadata": {},
   "outputs": [],
   "source": [
    "df = df.reset_index().drop(columns='index')"
   ]
  },
  {
   "cell_type": "code",
   "execution_count": 263,
   "id": "0e855df5",
   "metadata": {},
   "outputs": [
    {
     "data": {
      "text/html": [
       "<div>\n",
       "<style scoped>\n",
       "    .dataframe tbody tr th:only-of-type {\n",
       "        vertical-align: middle;\n",
       "    }\n",
       "\n",
       "    .dataframe tbody tr th {\n",
       "        vertical-align: top;\n",
       "    }\n",
       "\n",
       "    .dataframe thead th {\n",
       "        text-align: right;\n",
       "    }\n",
       "</style>\n",
       "<table border=\"1\" class=\"dataframe\">\n",
       "  <thead>\n",
       "    <tr style=\"text-align: right;\">\n",
       "      <th></th>\n",
       "      <th>datetime</th>\n",
       "      <th>rain</th>\n",
       "      <th>temp</th>\n",
       "      <th>wet_bulb</th>\n",
       "      <th>dew_point</th>\n",
       "      <th>vap_pressure</th>\n",
       "      <th>humidity</th>\n",
       "      <th>sea_pressure</th>\n",
       "      <th>wind_speed</th>\n",
       "      <th>wind_dir</th>\n",
       "      <th>sun</th>\n",
       "      <th>vis</th>\n",
       "      <th>cloud_height</th>\n",
       "      <th>clout_amount</th>\n",
       "      <th>date</th>\n",
       "    </tr>\n",
       "  </thead>\n",
       "  <tbody>\n",
       "    <tr>\n",
       "      <th>0</th>\n",
       "      <td>2019-01-02T00:00:00.000Z</td>\n",
       "      <td>0.0</td>\n",
       "      <td>4.4</td>\n",
       "      <td>3.5</td>\n",
       "      <td>2.2</td>\n",
       "      <td>7.1</td>\n",
       "      <td>85</td>\n",
       "      <td>1042.4</td>\n",
       "      <td>2</td>\n",
       "      <td>290</td>\n",
       "      <td>0.0</td>\n",
       "      <td>18000</td>\n",
       "      <td>28</td>\n",
       "      <td>5</td>\n",
       "      <td>2019-01-02</td>\n",
       "    </tr>\n",
       "    <tr>\n",
       "      <th>1</th>\n",
       "      <td>2019-01-02T01:00:00.000Z</td>\n",
       "      <td>0.0</td>\n",
       "      <td>4.3</td>\n",
       "      <td>3.7</td>\n",
       "      <td>2.7</td>\n",
       "      <td>7.5</td>\n",
       "      <td>90</td>\n",
       "      <td>1043.1</td>\n",
       "      <td>3</td>\n",
       "      <td>70</td>\n",
       "      <td>0.0</td>\n",
       "      <td>18000</td>\n",
       "      <td>30</td>\n",
       "      <td>7</td>\n",
       "      <td>2019-01-02</td>\n",
       "    </tr>\n",
       "    <tr>\n",
       "      <th>2</th>\n",
       "      <td>2019-01-02T02:00:00.000Z</td>\n",
       "      <td>0.0</td>\n",
       "      <td>4.7</td>\n",
       "      <td>3.9</td>\n",
       "      <td>2.6</td>\n",
       "      <td>7.4</td>\n",
       "      <td>87</td>\n",
       "      <td>1043.2</td>\n",
       "      <td>2</td>\n",
       "      <td>340</td>\n",
       "      <td>0.0</td>\n",
       "      <td>18000</td>\n",
       "      <td>30</td>\n",
       "      <td>7</td>\n",
       "      <td>2019-01-02</td>\n",
       "    </tr>\n",
       "    <tr>\n",
       "      <th>3</th>\n",
       "      <td>2019-01-02T03:00:00.000Z</td>\n",
       "      <td>0.0</td>\n",
       "      <td>5.1</td>\n",
       "      <td>4.2</td>\n",
       "      <td>2.8</td>\n",
       "      <td>7.5</td>\n",
       "      <td>86</td>\n",
       "      <td>1043.3</td>\n",
       "      <td>2</td>\n",
       "      <td>320</td>\n",
       "      <td>0.0</td>\n",
       "      <td>18000</td>\n",
       "      <td>30</td>\n",
       "      <td>7</td>\n",
       "      <td>2019-01-02</td>\n",
       "    </tr>\n",
       "    <tr>\n",
       "      <th>4</th>\n",
       "      <td>2019-01-02T04:00:00.000Z</td>\n",
       "      <td>0.0</td>\n",
       "      <td>5.1</td>\n",
       "      <td>4.2</td>\n",
       "      <td>2.9</td>\n",
       "      <td>7.5</td>\n",
       "      <td>86</td>\n",
       "      <td>1043.2</td>\n",
       "      <td>3</td>\n",
       "      <td>100</td>\n",
       "      <td>0.0</td>\n",
       "      <td>18000</td>\n",
       "      <td>30</td>\n",
       "      <td>7</td>\n",
       "      <td>2019-01-02</td>\n",
       "    </tr>\n",
       "  </tbody>\n",
       "</table>\n",
       "</div>"
      ],
      "text/plain": [
       "                   datetime  rain  temp  wet_bulb  dew_point  vap_pressure  \\\n",
       "0  2019-01-02T00:00:00.000Z   0.0   4.4       3.5        2.2           7.1   \n",
       "1  2019-01-02T01:00:00.000Z   0.0   4.3       3.7        2.7           7.5   \n",
       "2  2019-01-02T02:00:00.000Z   0.0   4.7       3.9        2.6           7.4   \n",
       "3  2019-01-02T03:00:00.000Z   0.0   5.1       4.2        2.8           7.5   \n",
       "4  2019-01-02T04:00:00.000Z   0.0   5.1       4.2        2.9           7.5   \n",
       "\n",
       "   humidity  sea_pressure  wind_speed  wind_dir  sun    vis  cloud_height  \\\n",
       "0        85        1042.4           2       290  0.0  18000            28   \n",
       "1        90        1043.1           3        70  0.0  18000            30   \n",
       "2        87        1043.2           2       340  0.0  18000            30   \n",
       "3        86        1043.3           2       320  0.0  18000            30   \n",
       "4        86        1043.2           3       100  0.0  18000            30   \n",
       "\n",
       "   clout_amount        date  \n",
       "0             5  2019-01-02  \n",
       "1             7  2019-01-02  \n",
       "2             7  2019-01-02  \n",
       "3             7  2019-01-02  \n",
       "4             7  2019-01-02  "
      ]
     },
     "execution_count": 263,
     "metadata": {},
     "output_type": "execute_result"
    }
   ],
   "source": [
    "df.head()"
   ]
  },
  {
   "cell_type": "code",
   "execution_count": 351,
   "id": "52b4c660",
   "metadata": {},
   "outputs": [
    {
     "data": {
      "text/html": [
       "<div>\n",
       "<style scoped>\n",
       "    .dataframe tbody tr th:only-of-type {\n",
       "        vertical-align: middle;\n",
       "    }\n",
       "\n",
       "    .dataframe tbody tr th {\n",
       "        vertical-align: top;\n",
       "    }\n",
       "\n",
       "    .dataframe thead th {\n",
       "        text-align: right;\n",
       "    }\n",
       "</style>\n",
       "<table border=\"1\" class=\"dataframe\">\n",
       "  <thead>\n",
       "    <tr style=\"text-align: right;\">\n",
       "      <th></th>\n",
       "      <th>rain</th>\n",
       "      <th>temp</th>\n",
       "      <th>wet_bulb</th>\n",
       "      <th>dew_point</th>\n",
       "      <th>vap_pressure</th>\n",
       "      <th>humidity</th>\n",
       "      <th>sea_pressure</th>\n",
       "      <th>wind_speed</th>\n",
       "      <th>wind_dir</th>\n",
       "      <th>sun</th>\n",
       "      <th>vis</th>\n",
       "      <th>cloud_height</th>\n",
       "      <th>clout_amount</th>\n",
       "    </tr>\n",
       "  </thead>\n",
       "  <tbody>\n",
       "    <tr>\n",
       "      <th>count</th>\n",
       "      <td>45241.000000</td>\n",
       "      <td>45241.000000</td>\n",
       "      <td>45241.000000</td>\n",
       "      <td>45241.000000</td>\n",
       "      <td>45241.000000</td>\n",
       "      <td>45241.000000</td>\n",
       "      <td>45241.000000</td>\n",
       "      <td>45241.000000</td>\n",
       "      <td>45241.000000</td>\n",
       "      <td>45241.000000</td>\n",
       "      <td>45241.000000</td>\n",
       "      <td>45241.000000</td>\n",
       "      <td>45241.000000</td>\n",
       "    </tr>\n",
       "    <tr>\n",
       "      <th>mean</th>\n",
       "      <td>0.091183</td>\n",
       "      <td>10.028536</td>\n",
       "      <td>8.537119</td>\n",
       "      <td>6.892100</td>\n",
       "      <td>10.375509</td>\n",
       "      <td>81.926770</td>\n",
       "      <td>1013.127022</td>\n",
       "      <td>9.099357</td>\n",
       "      <td>205.984616</td>\n",
       "      <td>0.168900</td>\n",
       "      <td>26647.728830</td>\n",
       "      <td>284.163436</td>\n",
       "      <td>5.563759</td>\n",
       "    </tr>\n",
       "    <tr>\n",
       "      <th>std</th>\n",
       "      <td>0.431982</td>\n",
       "      <td>5.029428</td>\n",
       "      <td>4.463000</td>\n",
       "      <td>4.549308</td>\n",
       "      <td>3.201364</td>\n",
       "      <td>11.827704</td>\n",
       "      <td>13.168481</td>\n",
       "      <td>4.386793</td>\n",
       "      <td>81.752517</td>\n",
       "      <td>0.322627</td>\n",
       "      <td>12535.303629</td>\n",
       "      <td>399.873695</td>\n",
       "      <td>2.196293</td>\n",
       "    </tr>\n",
       "    <tr>\n",
       "      <th>min</th>\n",
       "      <td>0.000000</td>\n",
       "      <td>-5.600000</td>\n",
       "      <td>-5.900000</td>\n",
       "      <td>-7.600000</td>\n",
       "      <td>3.400000</td>\n",
       "      <td>24.000000</td>\n",
       "      <td>961.800000</td>\n",
       "      <td>0.000000</td>\n",
       "      <td>0.000000</td>\n",
       "      <td>0.000000</td>\n",
       "      <td>100.000000</td>\n",
       "      <td>0.000000</td>\n",
       "      <td>0.000000</td>\n",
       "    </tr>\n",
       "    <tr>\n",
       "      <th>25%</th>\n",
       "      <td>0.000000</td>\n",
       "      <td>6.500000</td>\n",
       "      <td>5.300000</td>\n",
       "      <td>3.500000</td>\n",
       "      <td>7.900000</td>\n",
       "      <td>75.000000</td>\n",
       "      <td>1004.800000</td>\n",
       "      <td>6.000000</td>\n",
       "      <td>140.000000</td>\n",
       "      <td>0.000000</td>\n",
       "      <td>20000.000000</td>\n",
       "      <td>24.000000</td>\n",
       "      <td>4.000000</td>\n",
       "    </tr>\n",
       "    <tr>\n",
       "      <th>50%</th>\n",
       "      <td>0.000000</td>\n",
       "      <td>10.000000</td>\n",
       "      <td>8.600000</td>\n",
       "      <td>7.000000</td>\n",
       "      <td>10.000000</td>\n",
       "      <td>84.000000</td>\n",
       "      <td>1014.600000</td>\n",
       "      <td>9.000000</td>\n",
       "      <td>230.000000</td>\n",
       "      <td>0.000000</td>\n",
       "      <td>25000.000000</td>\n",
       "      <td>50.000000</td>\n",
       "      <td>7.000000</td>\n",
       "    </tr>\n",
       "    <tr>\n",
       "      <th>75%</th>\n",
       "      <td>0.000000</td>\n",
       "      <td>13.700000</td>\n",
       "      <td>11.900000</td>\n",
       "      <td>10.200000</td>\n",
       "      <td>12.500000</td>\n",
       "      <td>91.000000</td>\n",
       "      <td>1022.400000</td>\n",
       "      <td>12.000000</td>\n",
       "      <td>270.000000</td>\n",
       "      <td>0.100000</td>\n",
       "      <td>30000.000000</td>\n",
       "      <td>250.000000</td>\n",
       "      <td>7.000000</td>\n",
       "    </tr>\n",
       "    <tr>\n",
       "      <th>max</th>\n",
       "      <td>13.800000</td>\n",
       "      <td>29.100000</td>\n",
       "      <td>21.400000</td>\n",
       "      <td>19.500000</td>\n",
       "      <td>22.600000</td>\n",
       "      <td>100.000000</td>\n",
       "      <td>1048.200000</td>\n",
       "      <td>35.000000</td>\n",
       "      <td>360.000000</td>\n",
       "      <td>1.000000</td>\n",
       "      <td>75000.000000</td>\n",
       "      <td>999.000000</td>\n",
       "      <td>9.000000</td>\n",
       "    </tr>\n",
       "  </tbody>\n",
       "</table>\n",
       "</div>"
      ],
      "text/plain": [
       "               rain          temp      wet_bulb     dew_point  vap_pressure  \\\n",
       "count  45241.000000  45241.000000  45241.000000  45241.000000  45241.000000   \n",
       "mean       0.091183     10.028536      8.537119      6.892100     10.375509   \n",
       "std        0.431982      5.029428      4.463000      4.549308      3.201364   \n",
       "min        0.000000     -5.600000     -5.900000     -7.600000      3.400000   \n",
       "25%        0.000000      6.500000      5.300000      3.500000      7.900000   \n",
       "50%        0.000000     10.000000      8.600000      7.000000     10.000000   \n",
       "75%        0.000000     13.700000     11.900000     10.200000     12.500000   \n",
       "max       13.800000     29.100000     21.400000     19.500000     22.600000   \n",
       "\n",
       "           humidity  sea_pressure    wind_speed      wind_dir           sun  \\\n",
       "count  45241.000000  45241.000000  45241.000000  45241.000000  45241.000000   \n",
       "mean      81.926770   1013.127022      9.099357    205.984616      0.168900   \n",
       "std       11.827704     13.168481      4.386793     81.752517      0.322627   \n",
       "min       24.000000    961.800000      0.000000      0.000000      0.000000   \n",
       "25%       75.000000   1004.800000      6.000000    140.000000      0.000000   \n",
       "50%       84.000000   1014.600000      9.000000    230.000000      0.000000   \n",
       "75%       91.000000   1022.400000     12.000000    270.000000      0.100000   \n",
       "max      100.000000   1048.200000     35.000000    360.000000      1.000000   \n",
       "\n",
       "                vis  cloud_height  clout_amount  \n",
       "count  45241.000000  45241.000000  45241.000000  \n",
       "mean   26647.728830    284.163436      5.563759  \n",
       "std    12535.303629    399.873695      2.196293  \n",
       "min      100.000000      0.000000      0.000000  \n",
       "25%    20000.000000     24.000000      4.000000  \n",
       "50%    25000.000000     50.000000      7.000000  \n",
       "75%    30000.000000    250.000000      7.000000  \n",
       "max    75000.000000    999.000000      9.000000  "
      ]
     },
     "execution_count": 351,
     "metadata": {},
     "output_type": "execute_result"
    }
   ],
   "source": [
    "df.describe()"
   ]
  },
  {
   "cell_type": "code",
   "execution_count": 265,
   "id": "d8a2da8c",
   "metadata": {},
   "outputs": [
    {
     "name": "stdout",
     "output_type": "stream",
     "text": [
      "<class 'pandas.core.frame.DataFrame'>\n",
      "RangeIndex: 45241 entries, 0 to 45240\n",
      "Data columns (total 15 columns):\n",
      " #   Column        Non-Null Count  Dtype  \n",
      "---  ------        --------------  -----  \n",
      " 0   datetime      45241 non-null  object \n",
      " 1   rain          45241 non-null  float64\n",
      " 2   temp          45241 non-null  float64\n",
      " 3   wet_bulb      45241 non-null  float64\n",
      " 4   dew_point     45241 non-null  float64\n",
      " 5   vap_pressure  45241 non-null  float64\n",
      " 6   humidity      45241 non-null  int64  \n",
      " 7   sea_pressure  45241 non-null  float64\n",
      " 8   wind_speed    45241 non-null  int64  \n",
      " 9   wind_dir      45241 non-null  int64  \n",
      " 10  sun           45241 non-null  float64\n",
      " 11  vis           45241 non-null  int64  \n",
      " 12  cloud_height  45241 non-null  int64  \n",
      " 13  clout_amount  45241 non-null  int64  \n",
      " 14  date          45241 non-null  object \n",
      "dtypes: float64(7), int64(6), object(2)\n",
      "memory usage: 5.2+ MB\n"
     ]
    }
   ],
   "source": [
    "df.info()"
   ]
  },
  {
   "cell_type": "code",
   "execution_count": 266,
   "id": "4320e37c",
   "metadata": {},
   "outputs": [
    {
     "data": {
      "text/plain": [
       "datetime        0\n",
       "rain            0\n",
       "temp            0\n",
       "wet_bulb        0\n",
       "dew_point       0\n",
       "vap_pressure    0\n",
       "humidity        0\n",
       "sea_pressure    0\n",
       "wind_speed      0\n",
       "wind_dir        0\n",
       "sun             0\n",
       "vis             0\n",
       "cloud_height    0\n",
       "clout_amount    0\n",
       "date            0\n",
       "dtype: int64"
      ]
     },
     "execution_count": 266,
     "metadata": {},
     "output_type": "execute_result"
    }
   ],
   "source": [
    "df.isnull().sum()"
   ]
  },
  {
   "cell_type": "code",
   "execution_count": 267,
   "id": "d5004219",
   "metadata": {},
   "outputs": [
    {
     "data": {
      "text/plain": [
       "<function matplotlib.pyplot.show(close=None, block=None)>"
      ]
     },
     "execution_count": 267,
     "metadata": {},
     "output_type": "execute_result"
    },
    {
     "data": {
      "image/png": "[encoded data removed]",
      "text/plain": [
       "<Figure size 1600x800 with 1 Axes>"
      ]
     },
     "metadata": {},
     "output_type": "display_data"
    }
   ],
   "source": [
    "#taking a look at the temperature data\n",
    "plt.figure(figsize=(16,8))\n",
    "plt.title('Air Temperature')\n",
    "plt.plot(df['temp'])\n",
    "plt.xlabel('date', fontsize=18)\n",
    "plt.ylabel('temp (Celcius)', fontsize=18)\n",
    "plt.show"
   ]
  },
  {
   "cell_type": "code",
   "execution_count": 273,
   "id": "94d14375",
   "metadata": {},
   "outputs": [
    {
     "name": "stdout",
     "output_type": "stream",
     "text": [
      "922\n",
      "44319\n"
     ]
    }
   ],
   "source": [
    "#majority of values are positive\n",
    "print(len(df[df['temp']<0]))\n",
    "print(len(df[df['temp']>=0]))"
   ]
  },
  {
   "cell_type": "markdown",
   "id": "d3339500",
   "metadata": {},
   "source": [
    "# Modelling and Evaluation"
   ]
  },
  {
   "cell_type": "markdown",
   "id": "9f89e4de",
   "metadata": {},
   "source": [
    "models to be constructed and evaluated: \n",
    "- Univariate ANN (simple)\n",
    "- Univariate ANN (more complex + tuned hyperparams)\n",
    "- Multivariate ANN \n",
    "- Univariate LSTM \n",
    "- Univariate LSTM (more complex + tuned hyperparams)\n",
    "- Multivariate LSTM"
   ]
  },
  {
   "cell_type": "markdown",
   "id": "6a0c5b3b",
   "metadata": {},
   "source": [
    "### creating functions to be used during modelling phase"
   ]
  },
  {
   "cell_type": "markdown",
   "id": "eb96a52b",
   "metadata": {},
   "source": [
    "*create_samples* will take the entire dataset (data), number of timesteps (n_steps) and training data size (train_size) as arguments.<br>\n",
    "**n_steps** specifies how many previous observations should be considered by the network when making a prediction about the current observation.<br>\n",
    "**train_size** specifies the precentage size of the dataset that should be used for training. Since the data in question is time series data, the train_test_split function cannot be utilised and the data will need to be split without being shuffled."
   ]
  },
  {
   "cell_type": "code",
   "execution_count": 274,
   "id": "6b04aeff",
   "metadata": {},
   "outputs": [],
   "source": [
    "#defining function to creating training and testing samples for univariate models\n",
    "\n",
    "def create_samples(data, n_steps, train_size):\n",
    "    \n",
    "    #getting the lenght of the training data\n",
    "    training_len = math.ceil( len(data) * train_size )\n",
    "    \n",
    "    #splitting data into training/testing data data using slicing\n",
    "    #since we are dealing with timeseries data we cannot use train_test_split\n",
    "    training_data = data[0:training_len , :]\n",
    "    testing_data = data[training_len - n_steps: , :]\n",
    "    \n",
    "    #defining empty arrays for appending independent and dependent features\n",
    "    x_train =[]\n",
    "    y_train =[]\n",
    "    \n",
    "    x_test = []\n",
    "    y_test = data[training_len:]\n",
    "    \n",
    "    # iterating through the specified number of steps to create\n",
    "    # multiple samples where each sample has a specified number of time steps and the output is a single time step.\n",
    "    for i in range(n_steps, training_len):\n",
    "        x_train.append(training_data[i - n_steps: i, 0])\n",
    "        y_train.append(training_data[i, 0])\n",
    "    \n",
    "    for i in range(n_steps, len(testing_data)):\n",
    "        x_test.append(testing_data[i - n_steps: i, 0])\n",
    "        \n",
    "    return np.array(x_train), np.array(y_train), np.array(x_test), np.array(y_test)"
   ]
  },
  {
   "cell_type": "markdown",
   "id": "90f2d8e4",
   "metadata": {},
   "source": [
    "*create_ANN* creates a sinple two laters feed forward neural network and the arguments are the relevant hyperparameters. This function will be used for fine tuning the hyperparameters.<br>\n",
    "\n",
    "\n",
    "Similar to all Neural networks constructed during this project, the Multilayer perceptron created in *create_ANN* utilises Keras (a high-level API) which runs on top of TensorFlow (provides the computational backend for the constructed networks). <br>\n",
    "The model is initialized as an object from Tensorflows sequential class. This is utilized to create models in a linear layer-by-layer stack.<br>\n",
    "After initialising the model, each layer can be added in succession. Each layer is added as a *Dense* layer. This means that every neuron in the layer takes the input from all the other neurons of the previous layer.<br>\n",
    "Within each Dense layer ,the number of neurons is defined using the arguments **layer_1** and **layer_2**. <br>\n",
    "By providing **input_dim** in the first hidden layer, an input layer with *input_dim* number of neurons is implicitly created. *input_dim* should be equal to the number of input features.<br>\n",
    "The **activation** argument can be used to specify the activation function used in each layer. This hyperparameter is used to calculate the output at each node (neuron) based on its individual inputs and weights. <br>\n",
    "The **optimizer** argument is used within the compile method and determines what algorithm is to be used to change the attributes of the network to reduce the loss.<br>\n",
    "Finally, the **loss** argument is used to determine what loss function (a function that compares the target and predicted outcome values), is to be minimised during the training process. \n",
    "\n",
    "output layer:<br>\n",
    "For the output layer of regression tasks (like temperature forecasting), often no activation function is used, or a linear activation function is employed. This allows the network to predict continuous values without imposing any constraints on the output range\n",
    "\n",
    "references: <br>\n",
    "- https://www.tensorflow.org/guide/keras\n",
    "- https://pypi.org/project/tensorflow/\n"
   ]
  },
  {
   "cell_type": "code",
   "execution_count": 275,
   "id": "34d5d945",
   "metadata": {},
   "outputs": [],
   "source": [
    "def create_ANN(layer_1,  layer_2, input_dim, activation, optimizer='adam', loss='mse'):\n",
    "    #initialising model as a Sequential model\n",
    "    model = Sequential()\n",
    "    #first hidden layer\n",
    "    model.add(Dense(layer_1, input_dim=input_dim, activation=activation))\n",
    "    #second hidden layer\n",
    "    model.add(Dense(layer_2, activation=activation))\n",
    "    #output layer with only 1 neuron, no activation here due to regression task \n",
    "    model.add(Dense(1))\n",
    "    #compiling the model\n",
    "    model.compile(loss=loss, optimizer=optimizer)\n",
    "    return model"
   ]
  },
  {
   "cell_type": "markdown",
   "id": "3a09e075",
   "metadata": {},
   "source": [
    "*create_mv_samples* is an extension on *create_samples* but for the multivariate models. In this case, an additional argument **target** is required which indicates the target variable values from the dataset. <br>\n",
    "\n",
    "For the multivariate models, a variety of historical weather readings as well as historical temperature readings at **n_steps** number of timesteps from the past are used to predict the current observation. "
   ]
  },
  {
   "cell_type": "code",
   "execution_count": 276,
   "id": "beac08fe",
   "metadata": {},
   "outputs": [],
   "source": [
    "def create_mv_samples(data, target, train_size, n_steps):\n",
    "    #getting the lenght of the training data\n",
    "    training_len = math.ceil( len(data) * train_size )\n",
    "    \n",
    "    #splitting data into training/testing data data using slicing\n",
    "    #since we are dealing with timeseries data we cannot use train_test_split\n",
    "    training_data = data[0:training_len , :]\n",
    "    testing_data = data[training_len - n_steps: , :]\n",
    "    \n",
    "    #defining empty arrays for appending independent and dependent features\n",
    "    x_train = []\n",
    "    y_train = []\n",
    "    \n",
    "    x_test = []\n",
    "    y_test = target[training_len:]\n",
    "    \n",
    "    # iterating through the specified number of steps to create\n",
    "    # multiple samples where each sample has a specified number of time steps and the output is a single time step.\n",
    "    for i in range(n_steps, training_len):\n",
    "        x_train.append(training_data[i - n_steps: i])\n",
    "        y_train.append(target[i])\n",
    "    \n",
    "    for i in range(n_steps, len(testing_data)):\n",
    "        x_test.append(testing_data[i - n_steps: i])\n",
    "        \n",
    "    return np.array(x_train), np.array(y_train), np.array(x_test), np.array(y_test)\n",
    "    "
   ]
  },
  {
   "cell_type": "code",
   "execution_count": null,
   "id": "62ca3fb6",
   "metadata": {},
   "outputs": [],
   "source": []
  },
  {
   "cell_type": "markdown",
   "id": "c23e3b38",
   "metadata": {},
   "source": [
    "### Setting up univariate ANN for temperature predictions"
   ]
  },
  {
   "cell_type": "code",
   "execution_count": 412,
   "id": "b90629f7",
   "metadata": {},
   "outputs": [],
   "source": [
    "#selecting only temperature from the dataframe\n",
    "data = df.filter(['temp'])"
   ]
  },
  {
   "cell_type": "code",
   "execution_count": 278,
   "id": "b4ae398d",
   "metadata": {},
   "outputs": [],
   "source": [
    "#selecting out the values of temp to create an array of values, \n",
    "#Tensorflow only accepts NumPy arrays as parameters\n",
    "data = data.values"
   ]
  },
  {
   "cell_type": "code",
   "execution_count": 279,
   "id": "c70d5bce",
   "metadata": {},
   "outputs": [
    {
     "data": {
      "text/plain": [
       "array([[4.4],\n",
       "       [4.3],\n",
       "       [4.7],\n",
       "       ...,\n",
       "       [3.2],\n",
       "       [3.5],\n",
       "       [3.9]])"
      ]
     },
     "execution_count": 279,
     "metadata": {},
     "output_type": "execute_result"
    }
   ],
   "source": [
    "data"
   ]
  },
  {
   "cell_type": "markdown",
   "id": "26362c96",
   "metadata": {},
   "source": [
    "For this model the number of timesteps is chosen to be 48. Since the dataset is broken down into hourly data, 48 timesteps would mean that each predicted observation uses the previous 2 days worth of hourly temperature data which should be sufficient for an accurate model.<br>\n",
    "80% of the dataset is used for training, by setting the train_size to .80. This should give a sufficient amount of data to train the model while leaving a large enough testing data size to validate the model."
   ]
  },
  {
   "cell_type": "code",
   "execution_count": 280,
   "id": "9423bb31",
   "metadata": {},
   "outputs": [],
   "source": [
    "#creating samples with a timestep of 40 and a training size of 80%\n",
    "x_train, y_train, x_test, y_test  = create_samples(data, 48, .80)"
   ]
  },
  {
   "cell_type": "code",
   "execution_count": 281,
   "id": "d8aae957",
   "metadata": {},
   "outputs": [
    {
     "data": {
      "text/plain": [
       "9048"
      ]
     },
     "execution_count": 281,
     "metadata": {},
     "output_type": "execute_result"
    }
   ],
   "source": [
    "len(x_test)"
   ]
  },
  {
   "cell_type": "code",
   "execution_count": 282,
   "id": "664ca93e",
   "metadata": {},
   "outputs": [],
   "source": [
    "#scaling the data \n",
    "scaler = StandardScaler()\n",
    "x_train = scaler.fit_transform(x_train)\n",
    "x_test =  scaler.fit_transform(x_test)"
   ]
  },
  {
   "cell_type": "markdown",
   "id": "d6aabe9e",
   "metadata": {},
   "source": [
    "### Model 1 - univariate ANN\n",
    "setting up a basic Feed Forward neural network with an input layer, two hidden layers and an output layer"
   ]
  },
  {
   "cell_type": "markdown",
   "id": "9a7cfb15",
   "metadata": {},
   "source": [
    "For the initial model the following hyperparameters were used: \n",
    "- To keep the model relatively simple, the number of nuerons in both hidden layers is set to 20. \n",
    "- input_dim is set to 48, representing the 48 timestep temperature features being inputted into the network.\n",
    "-The **adam** optimizer is chosen due to it being one of the most widely used optimizers because of its robustness across various model architectures and its faster convergence compared with other optimizers.\n",
    "- **relu** activation function was decided to be used for the hidden layers since it introduces non-linearity into the model (corresponding to the nature of the temperature data). It should be noted that within create_ANN, the output layer activation is left as the default **linear** activation to ensure the output is a numerical value that is not squashed or transformed. Using relu with the linear activation function allows negative outputs to be predicted.\n",
    "- **mse** (mean squared error) is chosen as the loss function as this is the standard loss function utilized in most regression tasks. It directs the model to minimise the squared differences between the predicted and target values."
   ]
  },
  {
   "cell_type": "code",
   "execution_count": 285,
   "id": "758e3c0c",
   "metadata": {},
   "outputs": [],
   "source": [
    "model_1 = create_ANN(layer_1=20, layer_2=20,input_dim=48, activation='relu',optimizer='adam', loss='mse')"
   ]
  },
  {
   "cell_type": "markdown",
   "id": "eedd4f4b",
   "metadata": {},
   "source": [
    "The final two hyperparameters that need to be tuned are the **epochs** (the number of iterations the network will be trained on) and the **batch_size** (the number of training samples that are fed into the network at once).\n",
    "\n",
    "- 50 epochs was chosen for this initial model to create a baseline. This number was chosen as it is a sufficient number of epochs to generate accurate results wihtout making the model two complex.\n",
    "- 100 was chosen for the batch size due to the size of the data and the speed at which the model performed with this batch size."
   ]
  },
  {
   "cell_type": "code",
   "execution_count": 80,
   "id": "d4d50740",
   "metadata": {
    "scrolled": true
   },
   "outputs": [
    {
     "name": "stdout",
     "output_type": "stream",
     "text": [
      "Epoch 1/50\n",
      "362/362 - 1s - loss: 27.1453 - 644ms/epoch - 2ms/step\n",
      "Epoch 2/50\n",
      "362/362 - 0s - loss: 3.4353 - 297ms/epoch - 820us/step\n",
      "Epoch 3/50\n",
      "362/362 - 0s - loss: 1.1563 - 299ms/epoch - 825us/step\n",
      "Epoch 4/50\n",
      "362/362 - 0s - loss: 0.8262 - 297ms/epoch - 821us/step\n",
      "Epoch 5/50\n",
      "362/362 - 0s - loss: 0.7450 - 309ms/epoch - 855us/step\n",
      "Epoch 6/50\n",
      "362/362 - 0s - loss: 0.7029 - 288ms/epoch - 797us/step\n",
      "Epoch 7/50\n",
      "362/362 - 0s - loss: 0.6889 - 288ms/epoch - 796us/step\n",
      "Epoch 8/50\n",
      "362/362 - 0s - loss: 0.6685 - 290ms/epoch - 801us/step\n",
      "Epoch 9/50\n",
      "362/362 - 0s - loss: 0.6661 - 290ms/epoch - 801us/step\n",
      "Epoch 10/50\n",
      "362/362 - 0s - loss: 0.6526 - 286ms/epoch - 791us/step\n",
      "Epoch 11/50\n",
      "362/362 - 0s - loss: 0.6539 - 376ms/epoch - 1ms/step\n",
      "Epoch 12/50\n",
      "362/362 - 0s - loss: 0.6489 - 305ms/epoch - 842us/step\n",
      "Epoch 13/50\n",
      "362/362 - 0s - loss: 0.6532 - 291ms/epoch - 804us/step\n",
      "Epoch 14/50\n",
      "362/362 - 0s - loss: 0.6438 - 286ms/epoch - 791us/step\n",
      "Epoch 15/50\n",
      "362/362 - 0s - loss: 0.6461 - 300ms/epoch - 830us/step\n",
      "Epoch 16/50\n",
      "362/362 - 0s - loss: 0.6449 - 285ms/epoch - 788us/step\n",
      "Epoch 17/50\n",
      "362/362 - 0s - loss: 0.6456 - 286ms/epoch - 789us/step\n",
      "Epoch 18/50\n",
      "362/362 - 0s - loss: 0.6377 - 303ms/epoch - 838us/step\n",
      "Epoch 19/50\n",
      "362/362 - 0s - loss: 0.6456 - 291ms/epoch - 803us/step\n",
      "Epoch 20/50\n",
      "362/362 - 0s - loss: 0.6353 - 283ms/epoch - 782us/step\n",
      "Epoch 21/50\n",
      "362/362 - 0s - loss: 0.6339 - 294ms/epoch - 812us/step\n",
      "Epoch 22/50\n",
      "362/362 - 0s - loss: 0.6320 - 289ms/epoch - 797us/step\n",
      "Epoch 23/50\n",
      "362/362 - 0s - loss: 0.6379 - 280ms/epoch - 773us/step\n",
      "Epoch 24/50\n",
      "362/362 - 0s - loss: 0.6297 - 355ms/epoch - 982us/step\n",
      "Epoch 25/50\n",
      "362/362 - 0s - loss: 0.6314 - 308ms/epoch - 850us/step\n",
      "Epoch 26/50\n",
      "362/362 - 0s - loss: 0.6356 - 288ms/epoch - 796us/step\n",
      "Epoch 27/50\n",
      "362/362 - 0s - loss: 0.6283 - 284ms/epoch - 785us/step\n",
      "Epoch 28/50\n",
      "362/362 - 0s - loss: 0.6283 - 286ms/epoch - 789us/step\n",
      "Epoch 29/50\n",
      "362/362 - 0s - loss: 0.6275 - 287ms/epoch - 793us/step\n",
      "Epoch 30/50\n",
      "362/362 - 0s - loss: 0.6315 - 285ms/epoch - 787us/step\n",
      "Epoch 31/50\n",
      "362/362 - 0s - loss: 0.6266 - 282ms/epoch - 779us/step\n",
      "Epoch 32/50\n",
      "362/362 - 0s - loss: 0.6251 - 302ms/epoch - 834us/step\n",
      "Epoch 33/50\n",
      "362/362 - 0s - loss: 0.6254 - 287ms/epoch - 793us/step\n",
      "Epoch 34/50\n",
      "362/362 - 0s - loss: 0.6234 - 291ms/epoch - 803us/step\n",
      "Epoch 35/50\n",
      "362/362 - 0s - loss: 0.6251 - 289ms/epoch - 798us/step\n",
      "Epoch 36/50\n",
      "362/362 - 0s - loss: 0.6214 - 292ms/epoch - 807us/step\n",
      "Epoch 37/50\n",
      "362/362 - 0s - loss: 0.6202 - 313ms/epoch - 865us/step\n",
      "Epoch 38/50\n",
      "362/362 - 0s - loss: 0.6230 - 300ms/epoch - 828us/step\n",
      "Epoch 39/50\n",
      "362/362 - 0s - loss: 0.6222 - 317ms/epoch - 876us/step\n",
      "Epoch 40/50\n",
      "362/362 - 0s - loss: 0.6239 - 294ms/epoch - 812us/step\n",
      "Epoch 41/50\n",
      "362/362 - 0s - loss: 0.6196 - 288ms/epoch - 796us/step\n",
      "Epoch 42/50\n",
      "362/362 - 0s - loss: 0.6200 - 287ms/epoch - 792us/step\n",
      "Epoch 43/50\n",
      "362/362 - 0s - loss: 0.6217 - 291ms/epoch - 804us/step\n",
      "Epoch 44/50\n",
      "362/362 - 0s - loss: 0.6213 - 305ms/epoch - 843us/step\n",
      "Epoch 45/50\n",
      "362/362 - 0s - loss: 0.6159 - 332ms/epoch - 917us/step\n",
      "Epoch 46/50\n",
      "362/362 - 0s - loss: 0.6217 - 356ms/epoch - 983us/step\n",
      "Epoch 47/50\n",
      "362/362 - 0s - loss: 0.6170 - 331ms/epoch - 915us/step\n",
      "Epoch 48/50\n",
      "362/362 - 0s - loss: 0.6136 - 326ms/epoch - 901us/step\n",
      "Epoch 49/50\n",
      "362/362 - 0s - loss: 0.6135 - 299ms/epoch - 826us/step\n",
      "Epoch 50/50\n",
      "362/362 - 0s - loss: 0.6165 - 303ms/epoch - 837us/step\n"
     ]
    }
   ],
   "source": [
    "#fitting the model on to the training and testing data\n",
    "model_history_1 = model_1.fit(x_train, y_train, epochs=50, batch_size=100,  verbose=2) "
   ]
  },
  {
   "cell_type": "code",
   "execution_count": 81,
   "id": "7aea00b3",
   "metadata": {},
   "outputs": [
    {
     "data": {
      "text/plain": [
       "dict_keys(['loss'])"
      ]
     },
     "execution_count": 81,
     "metadata": {},
     "output_type": "execute_result"
    }
   ],
   "source": [
    "model_history_1.history.keys()"
   ]
  },
  {
   "cell_type": "code",
   "execution_count": 82,
   "id": "32f816a7",
   "metadata": {
    "scrolled": true
   },
   "outputs": [
    {
     "data": {
      "image/png": "[encoded data removed]",
      "text/plain": [
       "<Figure size 800x600 with 1 Axes>"
      ]
     },
     "metadata": {},
     "output_type": "display_data"
    }
   ],
   "source": [
    "#plotting the loss as a function of number of epochs to visualise how the model is learning\n",
    "plt.figure(figsize=(8,6))\n",
    "plt.plot(model_history_1.history['loss'], color='blue')\n",
    "plt.title('Model loss Progress during training')\n",
    "plt.xlabel('Epochs')\n",
    "plt.ylabel('Training loss')\n",
    "plt.show()"
   ]
  },
  {
   "cell_type": "code",
   "execution_count": 83,
   "id": "236e99b5",
   "metadata": {},
   "outputs": [
    {
     "name": "stdout",
     "output_type": "stream",
     "text": [
      "1130/1130 [==============================] - 1s 687us/step\n",
      "283/283 [==============================] - 0s 695us/step\n"
     ]
    }
   ],
   "source": [
    "#making predictions from the trained neural network on the train and test data\n",
    "y_preds_train_m_1 = model_1.predict(x_train)\n",
    "y_preds_test_m_1 = model_1.predict(x_test) "
   ]
  },
  {
   "cell_type": "markdown",
   "id": "5f851a28",
   "metadata": {},
   "source": [
    "**evaluation metrics for regression problem**:\n",
    "- *R-Squared* (r2) is the proportion of variance explained by the model(i.e goodness of fit). It ranges from 0 to 1, with 0 relating to a model that predicts 0% of the relationship between the variables and 1 relating to model that correctly predicts 100% of the output.\n",
    "\n",
    "- *Mean Squared Error* (mse) is one of the most common metrics for regression algorithms. It assesses the average squared difference between the observed and predicted values."
   ]
  },
  {
   "cell_type": "code",
   "execution_count": 84,
   "id": "3f84ed32",
   "metadata": {},
   "outputs": [
    {
     "name": "stdout",
     "output_type": "stream",
     "text": [
      "1) the mean squared error for the test set is: 1.0155041522887516\n",
      "2) the r^2 score for the test set is: 0.9588463935450104\n",
      "3) the r^2 score for the training set is: 0.9761725160932618\n"
     ]
    }
   ],
   "source": [
    "## accuracy metrics for regression model: \n",
    "r_squared_test_m_1 = r2_score(y_test,y_preds_test_m_1)\n",
    "r_squared_train_m_1 = r2_score(y_train,y_preds_train_m_1)\n",
    "\n",
    "mse_test_m_1 = mse(y_test, y_preds_test_m_1)\n",
    "\n",
    "print(f'1) the mean squared error for the test set is: {mse_test_m_1[0]}')\n",
    "print(f'2) the r^2 score for the test set is: {r_squared_test_m_1}')\n",
    "print(f'3) the r^2 score for the training set is: {r_squared_train_m_1}')"
   ]
  },
  {
   "cell_type": "markdown",
   "id": "d0afb09f",
   "metadata": {},
   "source": [
    "### tuning hyperparameters using randomizedSearchCV"
   ]
  },
  {
   "cell_type": "markdown",
   "id": "502a780d",
   "metadata": {},
   "source": [
    "There are multiple ways at tuning neural network hyperparameters using optimization algorithms such as GridSearchCV, RandomizedSearchCV and Bayesian optimization. For this project **RandomizedSearchCV** was utilized to try to obtain optimal hyperparamters for the Multilayer perceptron network. This was chosen for the following reasons:\n",
    "- Due to the larger number of hyperparameters that are required to be tuned for neural networks, RandomizedSearchCV provides a more efficient alternative to GridSearchCV.\n",
    "- Due to its ease of implementation compared to Bayesian optimization."
   ]
  },
  {
   "cell_type": "code",
   "execution_count": 290,
   "id": "6f0145da",
   "metadata": {},
   "outputs": [],
   "source": [
    "#defining dictionary of hyperparams to be tuned\n",
    "param_grid = {\n",
    "    'layer_1':[10, 15, 20, 25, 30],\n",
    "    'layer_2':[10, 15, 20, 25, 30],\n",
    "    'epochs':[30,40,50,60,70],\n",
    "    'batch_size':[50, 80, 100],\n",
    "    'activation':['relu','leaky_relu']}"
   ]
  },
  {
   "cell_type": "markdown",
   "id": "425d3720",
   "metadata": {},
   "source": [
    "The below wrapper class (KerasRegressor) provided by scikeras enables keras models to be used as if it were a scikit-learn classifier, enabling randomizedSearchCV \n",
    "\n",
    "reference: https://pypi.org/project/scikeras/0.1.8/"
   ]
  },
  {
   "cell_type": "code",
   "execution_count": 291,
   "id": "27b6e193",
   "metadata": {},
   "outputs": [],
   "source": [
    "#creating wrapper around the keras model feeding the parameter space\n",
    "keras_reg = KerasRegressor(model=create_ANN,layer_1=param_grid['layer_1'],\n",
    "                           layer_2=param_grid['layer_2'],input_dim=48,\n",
    "                           activation=param_grid['activation'],verbose=0)"
   ]
  },
  {
   "cell_type": "markdown",
   "id": "ad2e23c6",
   "metadata": {},
   "source": [
    "Regular k-fold cross validation cannot be used with time series data due to the fact that the data is required to be kept in the same order and not split randomly. Therefore **TimeSeriesSplit** is utilised to maintain the temporal order of the data while splitting the data into multiple consecutive fold. "
   ]
  },
  {
   "cell_type": "code",
   "execution_count": 292,
   "id": "67409999",
   "metadata": {},
   "outputs": [],
   "source": [
    "my_cv = TimeSeriesSplit(n_splits=5).split(x_train)"
   ]
  },
  {
   "cell_type": "code",
   "execution_count": 293,
   "id": "db658503",
   "metadata": {
    "scrolled": true
   },
   "outputs": [
    {
     "name": "stdout",
     "output_type": "stream",
     "text": [
      "Fitting 5 folds for each of 10 candidates, totalling 50 fits\n",
      "[CV] END activation=tanh, batch_size=50, epochs=50, layer_1=15, layer_2=20; total time=   7.4s\n",
      "[CV] END activation=tanh, batch_size=50, epochs=50, layer_1=15, layer_2=20; total time=  13.1s\n",
      "[CV] END activation=tanh, batch_size=50, epochs=50, layer_1=15, layer_2=20; total time=  15.2s\n",
      "[CV] END activation=tanh, batch_size=50, epochs=50, layer_1=15, layer_2=20; total time=  19.7s\n",
      "[CV] END activation=tanh, batch_size=50, epochs=50, layer_1=15, layer_2=20; total time=  24.1s\n",
      "[CV] END activation=relu, batch_size=50, epochs=70, layer_1=30, layer_2=20; total time=   7.2s\n",
      "[CV] END activation=relu, batch_size=50, epochs=70, layer_1=30, layer_2=20; total time=  13.9s\n",
      "[CV] END activation=relu, batch_size=50, epochs=70, layer_1=30, layer_2=20; total time=  20.3s\n",
      "[CV] END activation=relu, batch_size=50, epochs=70, layer_1=30, layer_2=20; total time=  26.9s\n",
      "[CV] END activation=relu, batch_size=50, epochs=70, layer_1=30, layer_2=20; total time=  34.0s\n",
      "[CV] END activation=relu, batch_size=80, epochs=60, layer_1=15, layer_2=30; total time=   5.3s\n",
      "[CV] END activation=relu, batch_size=80, epochs=60, layer_1=15, layer_2=30; total time=   8.4s\n",
      "[CV] END activation=relu, batch_size=80, epochs=60, layer_1=15, layer_2=30; total time=  12.4s\n",
      "[CV] END activation=relu, batch_size=80, epochs=60, layer_1=15, layer_2=30; total time=  16.6s\n",
      "[CV] END activation=relu, batch_size=80, epochs=60, layer_1=15, layer_2=30; total time=  21.4s\n",
      "[CV] END activation=tanh, batch_size=50, epochs=60, layer_1=15, layer_2=30; total time=   9.1s\n",
      "[CV] END activation=tanh, batch_size=50, epochs=60, layer_1=15, layer_2=30; total time=  14.3s\n",
      "[CV] END activation=tanh, batch_size=50, epochs=60, layer_1=15, layer_2=30; total time=  20.9s\n",
      "[CV] END activation=tanh, batch_size=50, epochs=60, layer_1=15, layer_2=30; total time=  27.4s\n",
      "[CV] END activation=tanh, batch_size=50, epochs=60, layer_1=15, layer_2=30; total time=  36.0s\n",
      "[CV] END activation=leaky_relu, batch_size=50, epochs=50, layer_1=30, layer_2=10; total time=   6.1s\n",
      "[CV] END activation=leaky_relu, batch_size=50, epochs=50, layer_1=30, layer_2=10; total time=  11.6s\n",
      "[CV] END activation=leaky_relu, batch_size=50, epochs=50, layer_1=30, layer_2=10; total time=  16.1s\n",
      "[CV] END activation=leaky_relu, batch_size=50, epochs=50, layer_1=30, layer_2=10; total time=  24.6s\n",
      "[CV] END activation=leaky_relu, batch_size=50, epochs=50, layer_1=30, layer_2=10; total time=  25.8s\n",
      "[CV] END activation=leaky_relu, batch_size=50, epochs=40, layer_1=25, layer_2=10; total time=   4.7s\n",
      "[CV] END activation=leaky_relu, batch_size=50, epochs=40, layer_1=25, layer_2=10; total time=   8.4s\n",
      "[CV] END activation=leaky_relu, batch_size=50, epochs=40, layer_1=25, layer_2=10; total time=  12.9s\n",
      "[CV] END activation=leaky_relu, batch_size=50, epochs=40, layer_1=25, layer_2=10; total time=  15.7s\n",
      "[CV] END activation=leaky_relu, batch_size=50, epochs=40, layer_1=25, layer_2=10; total time=  20.0s\n",
      "[CV] END activation=tanh, batch_size=50, epochs=40, layer_1=25, layer_2=30; total time=   4.3s\n",
      "[CV] END activation=tanh, batch_size=50, epochs=40, layer_1=25, layer_2=30; total time=   8.5s\n",
      "[CV] END activation=tanh, batch_size=50, epochs=40, layer_1=25, layer_2=30; total time=  12.2s\n",
      "[CV] END activation=tanh, batch_size=50, epochs=40, layer_1=25, layer_2=30; total time=  16.5s\n",
      "[CV] END activation=tanh, batch_size=50, epochs=40, layer_1=25, layer_2=30; total time=  21.4s\n",
      "[CV] END activation=leaky_relu, batch_size=50, epochs=40, layer_1=20, layer_2=20; total time=   4.5s\n",
      "[CV] END activation=leaky_relu, batch_size=50, epochs=40, layer_1=20, layer_2=20; total time=   8.5s\n",
      "[CV] END activation=leaky_relu, batch_size=50, epochs=40, layer_1=20, layer_2=20; total time=  12.7s\n",
      "[CV] END activation=leaky_relu, batch_size=50, epochs=40, layer_1=20, layer_2=20; total time=  16.3s\n",
      "[CV] END activation=leaky_relu, batch_size=50, epochs=40, layer_1=20, layer_2=20; total time=  22.2s\n",
      "[CV] END activation=tanh, batch_size=50, epochs=40, layer_1=30, layer_2=20; total time=   4.3s\n",
      "[CV] END activation=tanh, batch_size=50, epochs=40, layer_1=30, layer_2=20; total time=   8.2s\n",
      "[CV] END activation=tanh, batch_size=50, epochs=40, layer_1=30, layer_2=20; total time=  11.8s\n",
      "[CV] END activation=tanh, batch_size=50, epochs=40, layer_1=30, layer_2=20; total time=  15.5s\n",
      "[CV] END activation=tanh, batch_size=50, epochs=40, layer_1=30, layer_2=20; total time=  19.9s\n",
      "[CV] END activation=tanh, batch_size=100, epochs=30, layer_1=25, layer_2=20; total time=   2.0s\n",
      "[CV] END activation=tanh, batch_size=100, epochs=30, layer_1=25, layer_2=20; total time=   3.5s\n",
      "[CV] END activation=tanh, batch_size=100, epochs=30, layer_1=25, layer_2=20; total time=   4.8s\n",
      "[CV] END activation=tanh, batch_size=100, epochs=30, layer_1=25, layer_2=20; total time=   6.6s\n",
      "[CV] END activation=tanh, batch_size=100, epochs=30, layer_1=25, layer_2=20; total time=   8.7s\n",
      "{'layer_2': 10, 'layer_1': 30, 'epochs': 50, 'batch_size': 50, 'activation': 'leaky_relu'}\n"
     ]
    }
   ],
   "source": [
    "#initialising the randomizedSearchCV\n",
    "randSearch = RandomizedSearchCV(keras_reg, param_grid,cv=my_cv, scoring='r2', verbose=2, n_jobs=1)\n",
    "\n",
    "#fitting the model to the training data\n",
    "randSearch.fit(x_train, y_train)\n",
    "print(randSearch.best_params_)"
   ]
  },
  {
   "cell_type": "code",
   "execution_count": 294,
   "id": "b82974a6",
   "metadata": {},
   "outputs": [
    {
     "name": "stdout",
     "output_type": "stream",
     "text": [
      "{'layer_2': 10, 'layer_1': 30, 'epochs': 50, 'batch_size': 50, 'activation': 'leaky_relu'}\n"
     ]
    }
   ],
   "source": [
    "print(randSearch.best_params_)"
   ]
  },
  {
   "cell_type": "markdown",
   "id": "903f1a1f",
   "metadata": {},
   "source": [
    "### Model 2 - univariate ANN with tuned hyperparameters"
   ]
  },
  {
   "cell_type": "code",
   "execution_count": 295,
   "id": "9e3c79c6",
   "metadata": {},
   "outputs": [],
   "source": [
    "#adding in hyperparameters from best_params_ output above\n",
    "model_2 = create_ANN(layer_1=10, layer_2=30, input_dim=48,optimizer='adam', activation='leaky_relu')"
   ]
  },
  {
   "cell_type": "code",
   "execution_count": 296,
   "id": "fc552c3e",
   "metadata": {
    "scrolled": true
   },
   "outputs": [
    {
     "name": "stdout",
     "output_type": "stream",
     "text": [
      "Epoch 1/50\n",
      "723/723 - 1s - loss: 21.8053 - 891ms/epoch - 1ms/step\n",
      "Epoch 2/50\n",
      "723/723 - 1s - loss: 1.2826 - 561ms/epoch - 776us/step\n",
      "Epoch 3/50\n",
      "723/723 - 1s - loss: 0.8407 - 581ms/epoch - 804us/step\n",
      "Epoch 4/50\n",
      "723/723 - 1s - loss: 0.7333 - 574ms/epoch - 794us/step\n",
      "Epoch 5/50\n",
      "723/723 - 1s - loss: 0.6993 - 565ms/epoch - 781us/step\n",
      "Epoch 6/50\n",
      "723/723 - 1s - loss: 0.6753 - 613ms/epoch - 848us/step\n",
      "Epoch 7/50\n",
      "723/723 - 1s - loss: 0.6711 - 565ms/epoch - 781us/step\n",
      "Epoch 8/50\n",
      "723/723 - 1s - loss: 0.6572 - 588ms/epoch - 814us/step\n",
      "Epoch 9/50\n",
      "723/723 - 1s - loss: 0.6528 - 618ms/epoch - 855us/step\n",
      "Epoch 10/50\n",
      "723/723 - 1s - loss: 0.6493 - 607ms/epoch - 839us/step\n",
      "Epoch 11/50\n",
      "723/723 - 1s - loss: 0.6523 - 592ms/epoch - 819us/step\n",
      "Epoch 12/50\n",
      "723/723 - 1s - loss: 0.6455 - 601ms/epoch - 832us/step\n",
      "Epoch 13/50\n",
      "723/723 - 1s - loss: 0.6452 - 638ms/epoch - 883us/step\n",
      "Epoch 14/50\n",
      "723/723 - 1s - loss: 0.6450 - 685ms/epoch - 948us/step\n",
      "Epoch 15/50\n",
      "723/723 - 1s - loss: 0.6387 - 600ms/epoch - 830us/step\n",
      "Epoch 16/50\n",
      "723/723 - 1s - loss: 0.6417 - 594ms/epoch - 822us/step\n",
      "Epoch 17/50\n",
      "723/723 - 1s - loss: 0.6408 - 588ms/epoch - 813us/step\n",
      "Epoch 18/50\n",
      "723/723 - 1s - loss: 0.6396 - 573ms/epoch - 793us/step\n",
      "Epoch 19/50\n",
      "723/723 - 1s - loss: 0.6361 - 558ms/epoch - 772us/step\n",
      "Epoch 20/50\n",
      "723/723 - 1s - loss: 0.6396 - 563ms/epoch - 778us/step\n",
      "Epoch 21/50\n",
      "723/723 - 1s - loss: 0.6365 - 578ms/epoch - 799us/step\n",
      "Epoch 22/50\n",
      "723/723 - 1s - loss: 0.6389 - 581ms/epoch - 804us/step\n",
      "Epoch 23/50\n",
      "723/723 - 1s - loss: 0.6396 - 566ms/epoch - 782us/step\n",
      "Epoch 24/50\n",
      "723/723 - 1s - loss: 0.6369 - 603ms/epoch - 834us/step\n",
      "Epoch 25/50\n",
      "723/723 - 1s - loss: 0.6307 - 599ms/epoch - 828us/step\n",
      "Epoch 26/50\n",
      "723/723 - 1s - loss: 0.6327 - 624ms/epoch - 863us/step\n",
      "Epoch 27/50\n",
      "723/723 - 1s - loss: 0.6304 - 695ms/epoch - 961us/step\n",
      "Epoch 28/50\n",
      "723/723 - 1s - loss: 0.6304 - 588ms/epoch - 814us/step\n",
      "Epoch 29/50\n",
      "723/723 - 1s - loss: 0.6266 - 559ms/epoch - 773us/step\n",
      "Epoch 30/50\n",
      "723/723 - 1s - loss: 0.6292 - 571ms/epoch - 790us/step\n",
      "Epoch 31/50\n",
      "723/723 - 1s - loss: 0.6288 - 585ms/epoch - 809us/step\n",
      "Epoch 32/50\n",
      "723/723 - 1s - loss: 0.6295 - 555ms/epoch - 768us/step\n",
      "Epoch 33/50\n",
      "723/723 - 1s - loss: 0.6308 - 561ms/epoch - 776us/step\n",
      "Epoch 34/50\n",
      "723/723 - 1s - loss: 0.6286 - 574ms/epoch - 794us/step\n",
      "Epoch 35/50\n",
      "723/723 - 1s - loss: 0.6253 - 628ms/epoch - 868us/step\n",
      "Epoch 36/50\n",
      "723/723 - 1s - loss: 0.6247 - 583ms/epoch - 807us/step\n",
      "Epoch 37/50\n",
      "723/723 - 1s - loss: 0.6257 - 588ms/epoch - 814us/step\n",
      "Epoch 38/50\n",
      "723/723 - 1s - loss: 0.6229 - 606ms/epoch - 838us/step\n",
      "Epoch 39/50\n",
      "723/723 - 1s - loss: 0.6235 - 748ms/epoch - 1ms/step\n",
      "Epoch 40/50\n",
      "723/723 - 1s - loss: 0.6216 - 662ms/epoch - 916us/step\n",
      "Epoch 41/50\n",
      "723/723 - 1s - loss: 0.6260 - 618ms/epoch - 854us/step\n",
      "Epoch 42/50\n",
      "723/723 - 1s - loss: 0.6216 - 602ms/epoch - 833us/step\n",
      "Epoch 43/50\n",
      "723/723 - 1s - loss: 0.6182 - 627ms/epoch - 867us/step\n",
      "Epoch 44/50\n",
      "723/723 - 1s - loss: 0.6194 - 599ms/epoch - 829us/step\n",
      "Epoch 45/50\n",
      "723/723 - 1s - loss: 0.6161 - 567ms/epoch - 784us/step\n",
      "Epoch 46/50\n",
      "723/723 - 1s - loss: 0.6204 - 568ms/epoch - 785us/step\n",
      "Epoch 47/50\n",
      "723/723 - 1s - loss: 0.6204 - 574ms/epoch - 794us/step\n",
      "Epoch 48/50\n",
      "723/723 - 1s - loss: 0.6226 - 576ms/epoch - 796us/step\n",
      "Epoch 49/50\n",
      "723/723 - 1s - loss: 0.6184 - 569ms/epoch - 787us/step\n",
      "Epoch 50/50\n",
      "723/723 - 1s - loss: 0.6192 - 574ms/epoch - 794us/step\n"
     ]
    }
   ],
   "source": [
    "#fitting the model\n",
    "model_history_2 = model_2.fit(x_train, y_train, epochs=50, batch_size=50,  verbose=2) "
   ]
  },
  {
   "cell_type": "code",
   "execution_count": 297,
   "id": "7b159db6",
   "metadata": {},
   "outputs": [
    {
     "data": {
      "text/plain": [
       "dict_keys(['loss'])"
      ]
     },
     "execution_count": 297,
     "metadata": {},
     "output_type": "execute_result"
    }
   ],
   "source": [
    "model_history_2.history.keys()"
   ]
  },
  {
   "cell_type": "code",
   "execution_count": 298,
   "id": "2266ae6c",
   "metadata": {},
   "outputs": [
    {
     "name": "stdout",
     "output_type": "stream",
     "text": [
      "1130/1130 [==============================] - 1s 744us/step\n",
      "283/283 [==============================] - 0s 699us/step\n"
     ]
    }
   ],
   "source": [
    "#making predicitons with new model\n",
    "y_preds_train_m_2 = model_2.predict(x_train)\n",
    "y_preds_test_m_2 = model_2.predict(x_test) "
   ]
  },
  {
   "cell_type": "code",
   "execution_count": 299,
   "id": "e37ff49b",
   "metadata": {},
   "outputs": [
    {
     "name": "stdout",
     "output_type": "stream",
     "text": [
      "1) the mean squared error for the test set is: 0.9026416230719727\n",
      "2) the r^2 score for the test set is: 0.9634201809593049\n",
      "3) the r^2 score for the training set is: 0.9762225430485922\n"
     ]
    }
   ],
   "source": [
    "## accuracy metrics for regression model: \n",
    "r_squared_test_m_2 = r2_score(y_test,y_preds_test_m_2)\n",
    "r_squared_train_m_2 = r2_score(y_train,y_preds_train_m_2)\n",
    "\n",
    "mse_test_m_2 = mse(y_test, y_preds_test_m_2)\n",
    "\n",
    "print(f'1) the mean squared error for the test set is: {mse_test_m_2[0]}')\n",
    "print(f'2) the r^2 score for the test set is: {r_squared_test_m_2}')\n",
    "print(f'3) the r^2 score for the training set is: {r_squared_train_m_2}')"
   ]
  },
  {
   "cell_type": "markdown",
   "id": "d60352a7",
   "metadata": {},
   "source": [
    "##  multivariate ANN - using other weather readings to determine temperature"
   ]
  },
  {
   "cell_type": "markdown",
   "id": "cbe5fb2a",
   "metadata": {},
   "source": [
    "For the mulitvariate model set up, different weather readings are also taking into consideration by the model when making predictions on the temperature. "
   ]
  },
  {
   "cell_type": "code",
   "execution_count": 300,
   "id": "90f946a2",
   "metadata": {},
   "outputs": [
    {
     "data": {
      "text/html": [
       "<div>\n",
       "<style scoped>\n",
       "    .dataframe tbody tr th:only-of-type {\n",
       "        vertical-align: middle;\n",
       "    }\n",
       "\n",
       "    .dataframe tbody tr th {\n",
       "        vertical-align: top;\n",
       "    }\n",
       "\n",
       "    .dataframe thead th {\n",
       "        text-align: right;\n",
       "    }\n",
       "</style>\n",
       "<table border=\"1\" class=\"dataframe\">\n",
       "  <thead>\n",
       "    <tr style=\"text-align: right;\">\n",
       "      <th></th>\n",
       "      <th>datetime</th>\n",
       "      <th>rain</th>\n",
       "      <th>temp</th>\n",
       "      <th>wet_bulb</th>\n",
       "      <th>dew_point</th>\n",
       "      <th>vap_pressure</th>\n",
       "      <th>humidity</th>\n",
       "      <th>sea_pressure</th>\n",
       "      <th>wind_speed</th>\n",
       "      <th>wind_dir</th>\n",
       "      <th>sun</th>\n",
       "      <th>vis</th>\n",
       "      <th>cloud_height</th>\n",
       "      <th>clout_amount</th>\n",
       "      <th>date</th>\n",
       "    </tr>\n",
       "  </thead>\n",
       "  <tbody>\n",
       "    <tr>\n",
       "      <th>0</th>\n",
       "      <td>2019-01-02T00:00:00.000Z</td>\n",
       "      <td>0.0</td>\n",
       "      <td>4.4</td>\n",
       "      <td>3.5</td>\n",
       "      <td>2.2</td>\n",
       "      <td>7.1</td>\n",
       "      <td>85</td>\n",
       "      <td>1042.4</td>\n",
       "      <td>2</td>\n",
       "      <td>290</td>\n",
       "      <td>0.0</td>\n",
       "      <td>18000</td>\n",
       "      <td>28</td>\n",
       "      <td>5</td>\n",
       "      <td>2019-01-02</td>\n",
       "    </tr>\n",
       "    <tr>\n",
       "      <th>1</th>\n",
       "      <td>2019-01-02T01:00:00.000Z</td>\n",
       "      <td>0.0</td>\n",
       "      <td>4.3</td>\n",
       "      <td>3.7</td>\n",
       "      <td>2.7</td>\n",
       "      <td>7.5</td>\n",
       "      <td>90</td>\n",
       "      <td>1043.1</td>\n",
       "      <td>3</td>\n",
       "      <td>70</td>\n",
       "      <td>0.0</td>\n",
       "      <td>18000</td>\n",
       "      <td>30</td>\n",
       "      <td>7</td>\n",
       "      <td>2019-01-02</td>\n",
       "    </tr>\n",
       "    <tr>\n",
       "      <th>2</th>\n",
       "      <td>2019-01-02T02:00:00.000Z</td>\n",
       "      <td>0.0</td>\n",
       "      <td>4.7</td>\n",
       "      <td>3.9</td>\n",
       "      <td>2.6</td>\n",
       "      <td>7.4</td>\n",
       "      <td>87</td>\n",
       "      <td>1043.2</td>\n",
       "      <td>2</td>\n",
       "      <td>340</td>\n",
       "      <td>0.0</td>\n",
       "      <td>18000</td>\n",
       "      <td>30</td>\n",
       "      <td>7</td>\n",
       "      <td>2019-01-02</td>\n",
       "    </tr>\n",
       "    <tr>\n",
       "      <th>3</th>\n",
       "      <td>2019-01-02T03:00:00.000Z</td>\n",
       "      <td>0.0</td>\n",
       "      <td>5.1</td>\n",
       "      <td>4.2</td>\n",
       "      <td>2.8</td>\n",
       "      <td>7.5</td>\n",
       "      <td>86</td>\n",
       "      <td>1043.3</td>\n",
       "      <td>2</td>\n",
       "      <td>320</td>\n",
       "      <td>0.0</td>\n",
       "      <td>18000</td>\n",
       "      <td>30</td>\n",
       "      <td>7</td>\n",
       "      <td>2019-01-02</td>\n",
       "    </tr>\n",
       "    <tr>\n",
       "      <th>4</th>\n",
       "      <td>2019-01-02T04:00:00.000Z</td>\n",
       "      <td>0.0</td>\n",
       "      <td>5.1</td>\n",
       "      <td>4.2</td>\n",
       "      <td>2.9</td>\n",
       "      <td>7.5</td>\n",
       "      <td>86</td>\n",
       "      <td>1043.2</td>\n",
       "      <td>3</td>\n",
       "      <td>100</td>\n",
       "      <td>0.0</td>\n",
       "      <td>18000</td>\n",
       "      <td>30</td>\n",
       "      <td>7</td>\n",
       "      <td>2019-01-02</td>\n",
       "    </tr>\n",
       "    <tr>\n",
       "      <th>...</th>\n",
       "      <td>...</td>\n",
       "      <td>...</td>\n",
       "      <td>...</td>\n",
       "      <td>...</td>\n",
       "      <td>...</td>\n",
       "      <td>...</td>\n",
       "      <td>...</td>\n",
       "      <td>...</td>\n",
       "      <td>...</td>\n",
       "      <td>...</td>\n",
       "      <td>...</td>\n",
       "      <td>...</td>\n",
       "      <td>...</td>\n",
       "      <td>...</td>\n",
       "      <td>...</td>\n",
       "    </tr>\n",
       "    <tr>\n",
       "      <th>45236</th>\n",
       "      <td>2024-02-29T20:00:00.000Z</td>\n",
       "      <td>0.0</td>\n",
       "      <td>2.5</td>\n",
       "      <td>1.4</td>\n",
       "      <td>-0.4</td>\n",
       "      <td>5.9</td>\n",
       "      <td>80</td>\n",
       "      <td>997.2</td>\n",
       "      <td>7</td>\n",
       "      <td>200</td>\n",
       "      <td>0.0</td>\n",
       "      <td>25000</td>\n",
       "      <td>999</td>\n",
       "      <td>1</td>\n",
       "      <td>2024-02-29</td>\n",
       "    </tr>\n",
       "    <tr>\n",
       "      <th>45237</th>\n",
       "      <td>2024-02-29T21:00:00.000Z</td>\n",
       "      <td>0.0</td>\n",
       "      <td>2.1</td>\n",
       "      <td>1.0</td>\n",
       "      <td>-0.9</td>\n",
       "      <td>5.7</td>\n",
       "      <td>80</td>\n",
       "      <td>996.1</td>\n",
       "      <td>7</td>\n",
       "      <td>190</td>\n",
       "      <td>0.0</td>\n",
       "      <td>25000</td>\n",
       "      <td>999</td>\n",
       "      <td>1</td>\n",
       "      <td>2024-02-29</td>\n",
       "    </tr>\n",
       "    <tr>\n",
       "      <th>45238</th>\n",
       "      <td>2024-02-29T22:00:00.000Z</td>\n",
       "      <td>0.0</td>\n",
       "      <td>3.2</td>\n",
       "      <td>1.5</td>\n",
       "      <td>-1.6</td>\n",
       "      <td>5.4</td>\n",
       "      <td>71</td>\n",
       "      <td>994.6</td>\n",
       "      <td>7</td>\n",
       "      <td>170</td>\n",
       "      <td>0.0</td>\n",
       "      <td>25000</td>\n",
       "      <td>170</td>\n",
       "      <td>6</td>\n",
       "      <td>2024-02-29</td>\n",
       "    </tr>\n",
       "    <tr>\n",
       "      <th>45239</th>\n",
       "      <td>2024-02-29T23:00:00.000Z</td>\n",
       "      <td>0.0</td>\n",
       "      <td>3.5</td>\n",
       "      <td>1.9</td>\n",
       "      <td>-0.8</td>\n",
       "      <td>5.7</td>\n",
       "      <td>73</td>\n",
       "      <td>993.3</td>\n",
       "      <td>7</td>\n",
       "      <td>150</td>\n",
       "      <td>0.0</td>\n",
       "      <td>30000</td>\n",
       "      <td>120</td>\n",
       "      <td>7</td>\n",
       "      <td>2024-02-29</td>\n",
       "    </tr>\n",
       "    <tr>\n",
       "      <th>45240</th>\n",
       "      <td>2024-03-01T00:00:00.000Z</td>\n",
       "      <td>0.0</td>\n",
       "      <td>3.9</td>\n",
       "      <td>2.5</td>\n",
       "      <td>0.3</td>\n",
       "      <td>6.2</td>\n",
       "      <td>77</td>\n",
       "      <td>991.3</td>\n",
       "      <td>7</td>\n",
       "      <td>150</td>\n",
       "      <td>0.0</td>\n",
       "      <td>30000</td>\n",
       "      <td>50</td>\n",
       "      <td>7</td>\n",
       "      <td>2024-03-01</td>\n",
       "    </tr>\n",
       "  </tbody>\n",
       "</table>\n",
       "<p>45241 rows × 15 columns</p>\n",
       "</div>"
      ],
      "text/plain": [
       "                       datetime  rain  temp  wet_bulb  dew_point  \\\n",
       "0      2019-01-02T00:00:00.000Z   0.0   4.4       3.5        2.2   \n",
       "1      2019-01-02T01:00:00.000Z   0.0   4.3       3.7        2.7   \n",
       "2      2019-01-02T02:00:00.000Z   0.0   4.7       3.9        2.6   \n",
       "3      2019-01-02T03:00:00.000Z   0.0   5.1       4.2        2.8   \n",
       "4      2019-01-02T04:00:00.000Z   0.0   5.1       4.2        2.9   \n",
       "...                         ...   ...   ...       ...        ...   \n",
       "45236  2024-02-29T20:00:00.000Z   0.0   2.5       1.4       -0.4   \n",
       "45237  2024-02-29T21:00:00.000Z   0.0   2.1       1.0       -0.9   \n",
       "45238  2024-02-29T22:00:00.000Z   0.0   3.2       1.5       -1.6   \n",
       "45239  2024-02-29T23:00:00.000Z   0.0   3.5       1.9       -0.8   \n",
       "45240  2024-03-01T00:00:00.000Z   0.0   3.9       2.5        0.3   \n",
       "\n",
       "       vap_pressure  humidity  sea_pressure  wind_speed  wind_dir  sun    vis  \\\n",
       "0               7.1        85        1042.4           2       290  0.0  18000   \n",
       "1               7.5        90        1043.1           3        70  0.0  18000   \n",
       "2               7.4        87        1043.2           2       340  0.0  18000   \n",
       "3               7.5        86        1043.3           2       320  0.0  18000   \n",
       "4               7.5        86        1043.2           3       100  0.0  18000   \n",
       "...             ...       ...           ...         ...       ...  ...    ...   \n",
       "45236           5.9        80         997.2           7       200  0.0  25000   \n",
       "45237           5.7        80         996.1           7       190  0.0  25000   \n",
       "45238           5.4        71         994.6           7       170  0.0  25000   \n",
       "45239           5.7        73         993.3           7       150  0.0  30000   \n",
       "45240           6.2        77         991.3           7       150  0.0  30000   \n",
       "\n",
       "       cloud_height  clout_amount        date  \n",
       "0                28             5  2019-01-02  \n",
       "1                30             7  2019-01-02  \n",
       "2                30             7  2019-01-02  \n",
       "3                30             7  2019-01-02  \n",
       "4                30             7  2019-01-02  \n",
       "...             ...           ...         ...  \n",
       "45236           999             1  2024-02-29  \n",
       "45237           999             1  2024-02-29  \n",
       "45238           170             6  2024-02-29  \n",
       "45239           120             7  2024-02-29  \n",
       "45240            50             7  2024-03-01  \n",
       "\n",
       "[45241 rows x 15 columns]"
      ]
     },
     "execution_count": 300,
     "metadata": {},
     "output_type": "execute_result"
    }
   ],
   "source": [
    "df"
   ]
  },
  {
   "cell_type": "code",
   "execution_count": 301,
   "id": "a4a753b3",
   "metadata": {},
   "outputs": [],
   "source": [
    "#filtering out the features to be passed to model\n",
    "df_new = df.drop(columns=['date'])"
   ]
  },
  {
   "cell_type": "code",
   "execution_count": 302,
   "id": "79360399",
   "metadata": {},
   "outputs": [
    {
     "data": {
      "text/html": [
       "<div>\n",
       "<style scoped>\n",
       "    .dataframe tbody tr th:only-of-type {\n",
       "        vertical-align: middle;\n",
       "    }\n",
       "\n",
       "    .dataframe tbody tr th {\n",
       "        vertical-align: top;\n",
       "    }\n",
       "\n",
       "    .dataframe thead th {\n",
       "        text-align: right;\n",
       "    }\n",
       "</style>\n",
       "<table border=\"1\" class=\"dataframe\">\n",
       "  <thead>\n",
       "    <tr style=\"text-align: right;\">\n",
       "      <th></th>\n",
       "      <th>datetime</th>\n",
       "      <th>rain</th>\n",
       "      <th>temp</th>\n",
       "      <th>wet_bulb</th>\n",
       "      <th>dew_point</th>\n",
       "      <th>vap_pressure</th>\n",
       "      <th>humidity</th>\n",
       "      <th>sea_pressure</th>\n",
       "      <th>wind_speed</th>\n",
       "      <th>wind_dir</th>\n",
       "      <th>sun</th>\n",
       "      <th>vis</th>\n",
       "      <th>cloud_height</th>\n",
       "      <th>clout_amount</th>\n",
       "    </tr>\n",
       "  </thead>\n",
       "  <tbody>\n",
       "    <tr>\n",
       "      <th>0</th>\n",
       "      <td>2019-01-02T00:00:00.000Z</td>\n",
       "      <td>0.0</td>\n",
       "      <td>4.4</td>\n",
       "      <td>3.5</td>\n",
       "      <td>2.2</td>\n",
       "      <td>7.1</td>\n",
       "      <td>85</td>\n",
       "      <td>1042.4</td>\n",
       "      <td>2</td>\n",
       "      <td>290</td>\n",
       "      <td>0.0</td>\n",
       "      <td>18000</td>\n",
       "      <td>28</td>\n",
       "      <td>5</td>\n",
       "    </tr>\n",
       "    <tr>\n",
       "      <th>1</th>\n",
       "      <td>2019-01-02T01:00:00.000Z</td>\n",
       "      <td>0.0</td>\n",
       "      <td>4.3</td>\n",
       "      <td>3.7</td>\n",
       "      <td>2.7</td>\n",
       "      <td>7.5</td>\n",
       "      <td>90</td>\n",
       "      <td>1043.1</td>\n",
       "      <td>3</td>\n",
       "      <td>70</td>\n",
       "      <td>0.0</td>\n",
       "      <td>18000</td>\n",
       "      <td>30</td>\n",
       "      <td>7</td>\n",
       "    </tr>\n",
       "    <tr>\n",
       "      <th>2</th>\n",
       "      <td>2019-01-02T02:00:00.000Z</td>\n",
       "      <td>0.0</td>\n",
       "      <td>4.7</td>\n",
       "      <td>3.9</td>\n",
       "      <td>2.6</td>\n",
       "      <td>7.4</td>\n",
       "      <td>87</td>\n",
       "      <td>1043.2</td>\n",
       "      <td>2</td>\n",
       "      <td>340</td>\n",
       "      <td>0.0</td>\n",
       "      <td>18000</td>\n",
       "      <td>30</td>\n",
       "      <td>7</td>\n",
       "    </tr>\n",
       "    <tr>\n",
       "      <th>3</th>\n",
       "      <td>2019-01-02T03:00:00.000Z</td>\n",
       "      <td>0.0</td>\n",
       "      <td>5.1</td>\n",
       "      <td>4.2</td>\n",
       "      <td>2.8</td>\n",
       "      <td>7.5</td>\n",
       "      <td>86</td>\n",
       "      <td>1043.3</td>\n",
       "      <td>2</td>\n",
       "      <td>320</td>\n",
       "      <td>0.0</td>\n",
       "      <td>18000</td>\n",
       "      <td>30</td>\n",
       "      <td>7</td>\n",
       "    </tr>\n",
       "    <tr>\n",
       "      <th>4</th>\n",
       "      <td>2019-01-02T04:00:00.000Z</td>\n",
       "      <td>0.0</td>\n",
       "      <td>5.1</td>\n",
       "      <td>4.2</td>\n",
       "      <td>2.9</td>\n",
       "      <td>7.5</td>\n",
       "      <td>86</td>\n",
       "      <td>1043.2</td>\n",
       "      <td>3</td>\n",
       "      <td>100</td>\n",
       "      <td>0.0</td>\n",
       "      <td>18000</td>\n",
       "      <td>30</td>\n",
       "      <td>7</td>\n",
       "    </tr>\n",
       "  </tbody>\n",
       "</table>\n",
       "</div>"
      ],
      "text/plain": [
       "                   datetime  rain  temp  wet_bulb  dew_point  vap_pressure  \\\n",
       "0  2019-01-02T00:00:00.000Z   0.0   4.4       3.5        2.2           7.1   \n",
       "1  2019-01-02T01:00:00.000Z   0.0   4.3       3.7        2.7           7.5   \n",
       "2  2019-01-02T02:00:00.000Z   0.0   4.7       3.9        2.6           7.4   \n",
       "3  2019-01-02T03:00:00.000Z   0.0   5.1       4.2        2.8           7.5   \n",
       "4  2019-01-02T04:00:00.000Z   0.0   5.1       4.2        2.9           7.5   \n",
       "\n",
       "   humidity  sea_pressure  wind_speed  wind_dir  sun    vis  cloud_height  \\\n",
       "0        85        1042.4           2       290  0.0  18000            28   \n",
       "1        90        1043.1           3        70  0.0  18000            30   \n",
       "2        87        1043.2           2       340  0.0  18000            30   \n",
       "3        86        1043.3           2       320  0.0  18000            30   \n",
       "4        86        1043.2           3       100  0.0  18000            30   \n",
       "\n",
       "   clout_amount  \n",
       "0             5  \n",
       "1             7  \n",
       "2             7  \n",
       "3             7  \n",
       "4             7  "
      ]
     },
     "execution_count": 302,
     "metadata": {},
     "output_type": "execute_result"
    }
   ],
   "source": [
    "df_new.head()"
   ]
  },
  {
   "cell_type": "code",
   "execution_count": 303,
   "id": "d3b5a74c",
   "metadata": {},
   "outputs": [],
   "source": [
    "#datetime will not be used as an input feature to the model since the data is timeseries (at regular\n",
    "# intervals). Therefore it will be set as the index:\n",
    "df_new.index = df_new['datetime']"
   ]
  },
  {
   "cell_type": "code",
   "execution_count": 304,
   "id": "dd700394",
   "metadata": {},
   "outputs": [],
   "source": [
    "df_new = df_new.drop(columns='datetime')"
   ]
  },
  {
   "cell_type": "code",
   "execution_count": 305,
   "id": "8e16f6bf",
   "metadata": {},
   "outputs": [
    {
     "data": {
      "text/html": [
       "<div>\n",
       "<style scoped>\n",
       "    .dataframe tbody tr th:only-of-type {\n",
       "        vertical-align: middle;\n",
       "    }\n",
       "\n",
       "    .dataframe tbody tr th {\n",
       "        vertical-align: top;\n",
       "    }\n",
       "\n",
       "    .dataframe thead th {\n",
       "        text-align: right;\n",
       "    }\n",
       "</style>\n",
       "<table border=\"1\" class=\"dataframe\">\n",
       "  <thead>\n",
       "    <tr style=\"text-align: right;\">\n",
       "      <th></th>\n",
       "      <th>rain</th>\n",
       "      <th>temp</th>\n",
       "      <th>wet_bulb</th>\n",
       "      <th>dew_point</th>\n",
       "      <th>vap_pressure</th>\n",
       "      <th>humidity</th>\n",
       "      <th>sea_pressure</th>\n",
       "      <th>wind_speed</th>\n",
       "      <th>wind_dir</th>\n",
       "      <th>sun</th>\n",
       "      <th>vis</th>\n",
       "      <th>cloud_height</th>\n",
       "      <th>clout_amount</th>\n",
       "    </tr>\n",
       "    <tr>\n",
       "      <th>datetime</th>\n",
       "      <th></th>\n",
       "      <th></th>\n",
       "      <th></th>\n",
       "      <th></th>\n",
       "      <th></th>\n",
       "      <th></th>\n",
       "      <th></th>\n",
       "      <th></th>\n",
       "      <th></th>\n",
       "      <th></th>\n",
       "      <th></th>\n",
       "      <th></th>\n",
       "      <th></th>\n",
       "    </tr>\n",
       "  </thead>\n",
       "  <tbody>\n",
       "    <tr>\n",
       "      <th>2019-01-02T00:00:00.000Z</th>\n",
       "      <td>0.0</td>\n",
       "      <td>4.4</td>\n",
       "      <td>3.5</td>\n",
       "      <td>2.2</td>\n",
       "      <td>7.1</td>\n",
       "      <td>85</td>\n",
       "      <td>1042.4</td>\n",
       "      <td>2</td>\n",
       "      <td>290</td>\n",
       "      <td>0.0</td>\n",
       "      <td>18000</td>\n",
       "      <td>28</td>\n",
       "      <td>5</td>\n",
       "    </tr>\n",
       "    <tr>\n",
       "      <th>2019-01-02T01:00:00.000Z</th>\n",
       "      <td>0.0</td>\n",
       "      <td>4.3</td>\n",
       "      <td>3.7</td>\n",
       "      <td>2.7</td>\n",
       "      <td>7.5</td>\n",
       "      <td>90</td>\n",
       "      <td>1043.1</td>\n",
       "      <td>3</td>\n",
       "      <td>70</td>\n",
       "      <td>0.0</td>\n",
       "      <td>18000</td>\n",
       "      <td>30</td>\n",
       "      <td>7</td>\n",
       "    </tr>\n",
       "    <tr>\n",
       "      <th>2019-01-02T02:00:00.000Z</th>\n",
       "      <td>0.0</td>\n",
       "      <td>4.7</td>\n",
       "      <td>3.9</td>\n",
       "      <td>2.6</td>\n",
       "      <td>7.4</td>\n",
       "      <td>87</td>\n",
       "      <td>1043.2</td>\n",
       "      <td>2</td>\n",
       "      <td>340</td>\n",
       "      <td>0.0</td>\n",
       "      <td>18000</td>\n",
       "      <td>30</td>\n",
       "      <td>7</td>\n",
       "    </tr>\n",
       "    <tr>\n",
       "      <th>2019-01-02T03:00:00.000Z</th>\n",
       "      <td>0.0</td>\n",
       "      <td>5.1</td>\n",
       "      <td>4.2</td>\n",
       "      <td>2.8</td>\n",
       "      <td>7.5</td>\n",
       "      <td>86</td>\n",
       "      <td>1043.3</td>\n",
       "      <td>2</td>\n",
       "      <td>320</td>\n",
       "      <td>0.0</td>\n",
       "      <td>18000</td>\n",
       "      <td>30</td>\n",
       "      <td>7</td>\n",
       "    </tr>\n",
       "    <tr>\n",
       "      <th>2019-01-02T04:00:00.000Z</th>\n",
       "      <td>0.0</td>\n",
       "      <td>5.1</td>\n",
       "      <td>4.2</td>\n",
       "      <td>2.9</td>\n",
       "      <td>7.5</td>\n",
       "      <td>86</td>\n",
       "      <td>1043.2</td>\n",
       "      <td>3</td>\n",
       "      <td>100</td>\n",
       "      <td>0.0</td>\n",
       "      <td>18000</td>\n",
       "      <td>30</td>\n",
       "      <td>7</td>\n",
       "    </tr>\n",
       "  </tbody>\n",
       "</table>\n",
       "</div>"
      ],
      "text/plain": [
       "                          rain  temp  wet_bulb  dew_point  vap_pressure  \\\n",
       "datetime                                                                  \n",
       "2019-01-02T00:00:00.000Z   0.0   4.4       3.5        2.2           7.1   \n",
       "2019-01-02T01:00:00.000Z   0.0   4.3       3.7        2.7           7.5   \n",
       "2019-01-02T02:00:00.000Z   0.0   4.7       3.9        2.6           7.4   \n",
       "2019-01-02T03:00:00.000Z   0.0   5.1       4.2        2.8           7.5   \n",
       "2019-01-02T04:00:00.000Z   0.0   5.1       4.2        2.9           7.5   \n",
       "\n",
       "                          humidity  sea_pressure  wind_speed  wind_dir  sun  \\\n",
       "datetime                                                                      \n",
       "2019-01-02T00:00:00.000Z        85        1042.4           2       290  0.0   \n",
       "2019-01-02T01:00:00.000Z        90        1043.1           3        70  0.0   \n",
       "2019-01-02T02:00:00.000Z        87        1043.2           2       340  0.0   \n",
       "2019-01-02T03:00:00.000Z        86        1043.3           2       320  0.0   \n",
       "2019-01-02T04:00:00.000Z        86        1043.2           3       100  0.0   \n",
       "\n",
       "                            vis  cloud_height  clout_amount  \n",
       "datetime                                                     \n",
       "2019-01-02T00:00:00.000Z  18000            28             5  \n",
       "2019-01-02T01:00:00.000Z  18000            30             7  \n",
       "2019-01-02T02:00:00.000Z  18000            30             7  \n",
       "2019-01-02T03:00:00.000Z  18000            30             7  \n",
       "2019-01-02T04:00:00.000Z  18000            30             7  "
      ]
     },
     "execution_count": 305,
     "metadata": {},
     "output_type": "execute_result"
    }
   ],
   "source": [
    "df_new.head()"
   ]
  },
  {
   "cell_type": "code",
   "execution_count": 306,
   "id": "0549ab14",
   "metadata": {},
   "outputs": [],
   "source": [
    "#extracing the features as arrays instead of a dataframe, since tensorflow only accepts NumPy arrays as parameters\n",
    "df_new = df_new.values"
   ]
  },
  {
   "cell_type": "code",
   "execution_count": 307,
   "id": "f978776c",
   "metadata": {},
   "outputs": [],
   "source": [
    "#creating the target variable by extracting out the \"temp\" row at index 0\n",
    "target = df_new[:,1]"
   ]
  },
  {
   "cell_type": "code",
   "execution_count": 308,
   "id": "f98e0e83",
   "metadata": {},
   "outputs": [
    {
     "data": {
      "text/plain": [
       "array([4.4, 4.3, 4.7, ..., 3.2, 3.5, 3.9])"
      ]
     },
     "execution_count": 308,
     "metadata": {},
     "output_type": "execute_result"
    }
   ],
   "source": [
    "target"
   ]
  },
  {
   "cell_type": "code",
   "execution_count": 309,
   "id": "31e0e7e8",
   "metadata": {},
   "outputs": [],
   "source": [
    "#scaling the data\n",
    "scaler = StandardScaler()\n",
    "df_new = scaler.fit_transform(df_new)"
   ]
  },
  {
   "cell_type": "markdown",
   "id": "456d627b",
   "metadata": {},
   "source": [
    "For this model the number of timesteps is chosen to be 48, similar to the univariate model. <br>\n",
    "80% of the dataset is used again for training.<br>\n",
    "The new independent features are input into the function as *df_new* and the target variable as *target*."
   ]
  },
  {
   "cell_type": "code",
   "execution_count": 310,
   "id": "4a681eef",
   "metadata": {},
   "outputs": [],
   "source": [
    "x_train, y_train, x_test, y_test = create_mv_samples(df_new,target, 0.80, 48)"
   ]
  },
  {
   "cell_type": "code",
   "execution_count": 311,
   "id": "2a19eaf6",
   "metadata": {},
   "outputs": [
    {
     "data": {
      "text/plain": [
       "((36145, 48, 13), (9048, 48, 13), (36145,), (9048,))"
      ]
     },
     "execution_count": 311,
     "metadata": {},
     "output_type": "execute_result"
    }
   ],
   "source": [
    "#taking a look at the shapes of the datasets\n",
    "x_train.shape, x_test.shape, y_train.shape, y_test.shape"
   ]
  },
  {
   "cell_type": "code",
   "execution_count": 312,
   "id": "679373dd",
   "metadata": {},
   "outputs": [],
   "source": [
    "#flattening the x_train and x_test arrays from 3D to 2D arrays so that they can be passed to model\n",
    "x_train = x_train.reshape(x_train.shape[0], -1)\n",
    "x_test = x_test.reshape(x_test.shape[0], -1)"
   ]
  },
  {
   "cell_type": "code",
   "execution_count": 313,
   "id": "dcf5f60d",
   "metadata": {},
   "outputs": [
    {
     "data": {
      "text/plain": [
       "((36145, 624), (9048, 624))"
      ]
     },
     "execution_count": 313,
     "metadata": {},
     "output_type": "execute_result"
    }
   ],
   "source": [
    "x_train.shape, x_test.shape"
   ]
  },
  {
   "cell_type": "code",
   "execution_count": 342,
   "id": "9921216a",
   "metadata": {},
   "outputs": [],
   "source": [
    "#creating the model with same hyperparameters as chosen from optimized univariate model\n",
    "model_3 = create_ANN(layer_1=10, layer_2=30, input_dim= x_train.shape[1], optimizer='adam', activation='leaky_relu')"
   ]
  },
  {
   "cell_type": "code",
   "execution_count": 343,
   "id": "766eff56",
   "metadata": {
    "scrolled": true
   },
   "outputs": [
    {
     "name": "stdout",
     "output_type": "stream",
     "text": [
      "Epoch 1/50\n",
      "723/723 - 1s - loss: 7.7249 - 1s/epoch - 2ms/step\n",
      "Epoch 2/50\n",
      "723/723 - 1s - loss: 1.3136 - 760ms/epoch - 1ms/step\n",
      "Epoch 3/50\n",
      "723/723 - 1s - loss: 0.9897 - 764ms/epoch - 1ms/step\n",
      "Epoch 4/50\n",
      "723/723 - 1s - loss: 0.8547 - 733ms/epoch - 1ms/step\n",
      "Epoch 5/50\n",
      "723/723 - 1s - loss: 0.7837 - 675ms/epoch - 933us/step\n",
      "Epoch 6/50\n",
      "723/723 - 1s - loss: 0.7291 - 666ms/epoch - 922us/step\n",
      "Epoch 7/50\n",
      "723/723 - 1s - loss: 0.6939 - 678ms/epoch - 938us/step\n",
      "Epoch 8/50\n",
      "723/723 - 1s - loss: 0.6600 - 675ms/epoch - 933us/step\n",
      "Epoch 9/50\n",
      "723/723 - 1s - loss: 0.6363 - 663ms/epoch - 916us/step\n",
      "Epoch 10/50\n",
      "723/723 - 1s - loss: 0.6232 - 675ms/epoch - 933us/step\n",
      "Epoch 11/50\n",
      "723/723 - 1s - loss: 0.6049 - 691ms/epoch - 956us/step\n",
      "Epoch 12/50\n",
      "723/723 - 1s - loss: 0.5895 - 660ms/epoch - 914us/step\n",
      "Epoch 13/50\n",
      "723/723 - 1s - loss: 0.5771 - 663ms/epoch - 916us/step\n",
      "Epoch 14/50\n",
      "723/723 - 1s - loss: 0.5724 - 659ms/epoch - 911us/step\n",
      "Epoch 15/50\n",
      "723/723 - 1s - loss: 0.5523 - 704ms/epoch - 974us/step\n",
      "Epoch 16/50\n",
      "723/723 - 1s - loss: 0.5506 - 726ms/epoch - 1ms/step\n",
      "Epoch 17/50\n",
      "723/723 - 1s - loss: 0.5506 - 699ms/epoch - 967us/step\n",
      "Epoch 18/50\n",
      "723/723 - 1s - loss: 0.5407 - 691ms/epoch - 956us/step\n",
      "Epoch 19/50\n",
      "723/723 - 1s - loss: 0.5283 - 724ms/epoch - 1ms/step\n",
      "Epoch 20/50\n",
      "723/723 - 1s - loss: 0.5249 - 679ms/epoch - 939us/step\n",
      "Epoch 21/50\n",
      "723/723 - 1s - loss: 0.5107 - 673ms/epoch - 932us/step\n",
      "Epoch 22/50\n",
      "723/723 - 1s - loss: 0.5183 - 672ms/epoch - 929us/step\n",
      "Epoch 23/50\n",
      "723/723 - 1s - loss: 0.5066 - 673ms/epoch - 931us/step\n",
      "Epoch 24/50\n",
      "723/723 - 1s - loss: 0.5037 - 679ms/epoch - 940us/step\n",
      "Epoch 25/50\n",
      "723/723 - 1s - loss: 0.4992 - 675ms/epoch - 934us/step\n",
      "Epoch 26/50\n",
      "723/723 - 1s - loss: 0.4845 - 676ms/epoch - 935us/step\n",
      "Epoch 27/50\n",
      "723/723 - 1s - loss: 0.4863 - 677ms/epoch - 937us/step\n",
      "Epoch 28/50\n",
      "723/723 - 1s - loss: 0.4844 - 678ms/epoch - 938us/step\n",
      "Epoch 29/50\n",
      "723/723 - 1s - loss: 0.4896 - 687ms/epoch - 951us/step\n",
      "Epoch 30/50\n",
      "723/723 - 1s - loss: 0.4768 - 661ms/epoch - 914us/step\n",
      "Epoch 31/50\n",
      "723/723 - 1s - loss: 0.4705 - 666ms/epoch - 921us/step\n",
      "Epoch 32/50\n",
      "723/723 - 1s - loss: 0.4665 - 689ms/epoch - 953us/step\n",
      "Epoch 33/50\n",
      "723/723 - 1s - loss: 0.4653 - 671ms/epoch - 929us/step\n",
      "Epoch 34/50\n",
      "723/723 - 1s - loss: 0.4658 - 665ms/epoch - 920us/step\n",
      "Epoch 35/50\n",
      "723/723 - 1s - loss: 0.4614 - 648ms/epoch - 896us/step\n",
      "Epoch 36/50\n",
      "723/723 - 1s - loss: 0.4552 - 679ms/epoch - 940us/step\n",
      "Epoch 37/50\n",
      "723/723 - 1s - loss: 0.4496 - 641ms/epoch - 886us/step\n",
      "Epoch 38/50\n",
      "723/723 - 1s - loss: 0.4537 - 698ms/epoch - 965us/step\n",
      "Epoch 39/50\n",
      "723/723 - 1s - loss: 0.4512 - 756ms/epoch - 1ms/step\n",
      "Epoch 40/50\n",
      "723/723 - 1s - loss: 0.4483 - 745ms/epoch - 1ms/step\n",
      "Epoch 41/50\n",
      "723/723 - 1s - loss: 0.4412 - 695ms/epoch - 961us/step\n",
      "Epoch 42/50\n",
      "723/723 - 1s - loss: 0.4397 - 770ms/epoch - 1ms/step\n",
      "Epoch 43/50\n",
      "723/723 - 1s - loss: 0.4361 - 735ms/epoch - 1ms/step\n",
      "Epoch 44/50\n",
      "723/723 - 1s - loss: 0.4331 - 673ms/epoch - 931us/step\n",
      "Epoch 45/50\n",
      "723/723 - 1s - loss: 0.4375 - 663ms/epoch - 917us/step\n",
      "Epoch 46/50\n",
      "723/723 - 1s - loss: 0.4280 - 672ms/epoch - 929us/step\n",
      "Epoch 47/50\n",
      "723/723 - 1s - loss: 0.4255 - 676ms/epoch - 934us/step\n",
      "Epoch 48/50\n",
      "723/723 - 1s - loss: 0.4239 - 751ms/epoch - 1ms/step\n",
      "Epoch 49/50\n",
      "723/723 - 1s - loss: 0.4238 - 747ms/epoch - 1ms/step\n",
      "Epoch 50/50\n",
      "723/723 - 1s - loss: 0.4193 - 802ms/epoch - 1ms/step\n"
     ]
    }
   ],
   "source": [
    "model_history_3 = model_3.fit(x_train, y_train, epochs=50, batch_size=50,  verbose=2) "
   ]
  },
  {
   "cell_type": "code",
   "execution_count": 344,
   "id": "8dd1ac0a",
   "metadata": {},
   "outputs": [
    {
     "name": "stdout",
     "output_type": "stream",
     "text": [
      "1130/1130 [==============================] - 1s 749us/step\n",
      "283/283 [==============================] - 0s 741us/step\n"
     ]
    }
   ],
   "source": [
    "#making predictions from the training neural network\n",
    "y_preds_train_m_3 = model_3.predict(x_train)\n",
    "y_preds_test_m_3 = model_3.predict(x_test) "
   ]
  },
  {
   "cell_type": "code",
   "execution_count": 345,
   "id": "8ffb70d0",
   "metadata": {},
   "outputs": [],
   "source": [
    "y_preds_test_m_3 = y_preds_test_m_3.reshape(1,-1)[0]"
   ]
  },
  {
   "cell_type": "code",
   "execution_count": 346,
   "id": "8db770dd",
   "metadata": {},
   "outputs": [
    {
     "name": "stdout",
     "output_type": "stream",
     "text": [
      "1) the mean squared error for the test set is: 0.6853295080352589\n",
      "2) the r^2 score for the test set is: 0.9722268187657247\n",
      "3) the r^2 score for the training set is: 0.9847183815543946\n"
     ]
    }
   ],
   "source": [
    "## accuracy metrics for regression model: \n",
    "r_squared_test_m_3 = r2_score(y_test,y_preds_test_m_3)\n",
    "r_squared_train_m_3 = r2_score(y_train,y_preds_train_m_3)\n",
    "\n",
    "mse_test_m_3 = mse(y_test, y_preds_test_m_3)\n",
    "\n",
    "print(f'1) the mean squared error for the test set is: {mse_test_m_3}')\n",
    "print(f'2) the r^2 score for the test set is: {r_squared_test_m_3}')\n",
    "print(f'3) the r^2 score for the training set is: {r_squared_train_m_3}')"
   ]
  },
  {
   "cell_type": "markdown",
   "id": "a9b66a75",
   "metadata": {},
   "source": [
    "## LSTM for temperature predictions - univariate model"
   ]
  },
  {
   "cell_type": "markdown",
   "id": "024625ff",
   "metadata": {},
   "source": [
    "The second type of neural network to be implemented as part of this project is a type of Recurrent Neural Network (RNN) called a Long Short-Term Memory (LSTM) network. This model was chosen as unlike traditional neural networks LSTM incorporates feedback connections making it highly effective in understanding and predicting patterns in sequential data (time series).<br>"
   ]
  },
  {
   "cell_type": "code",
   "execution_count": 453,
   "id": "479ca468",
   "metadata": {},
   "outputs": [],
   "source": [
    "#selecting only temperature from the dataframe\n",
    "data = df.filter(['temp'])"
   ]
  },
  {
   "cell_type": "code",
   "execution_count": 454,
   "id": "4630cd28",
   "metadata": {},
   "outputs": [],
   "source": [
    "#selecting out the values of temp to create an array of values\n",
    "data = data.values"
   ]
  },
  {
   "cell_type": "code",
   "execution_count": 455,
   "id": "64749bfe",
   "metadata": {},
   "outputs": [
    {
     "data": {
      "text/plain": [
       "array([[4.4],\n",
       "       [4.3],\n",
       "       [4.7],\n",
       "       ...,\n",
       "       [3.2],\n",
       "       [3.5],\n",
       "       [3.9]])"
      ]
     },
     "execution_count": 455,
     "metadata": {},
     "output_type": "execute_result"
    }
   ],
   "source": [
    "#just using historical temperature data as input to model\n",
    "data"
   ]
  },
  {
   "cell_type": "code",
   "execution_count": 456,
   "id": "f0a78458",
   "metadata": {},
   "outputs": [],
   "source": [
    "#creating samples with a timestep of 48 and a training size of 80%\n",
    "x_train, y_train, x_test, y_test  = create_samples(data, 48, .80)"
   ]
  },
  {
   "cell_type": "code",
   "execution_count": 457,
   "id": "142d5bec",
   "metadata": {},
   "outputs": [
    {
     "data": {
      "text/plain": [
       "((36145, 48), (36145,), (9048, 48), (9048, 1))"
      ]
     },
     "execution_count": 457,
     "metadata": {},
     "output_type": "execute_result"
    }
   ],
   "source": [
    "x_train.shape, y_train.shape, x_test.shape, y_test.shape"
   ]
  },
  {
   "cell_type": "code",
   "execution_count": 458,
   "id": "15a24c6b",
   "metadata": {},
   "outputs": [],
   "source": [
    "#scaling the data \n",
    "scaler = StandardScaler()\n",
    "x_train = scaler.fit_transform(x_train)\n",
    "x_test =  scaler.fit_transform(x_test)"
   ]
  },
  {
   "cell_type": "markdown",
   "id": "a3a8b7af",
   "metadata": {},
   "source": [
    "Since RNNs, and specifically LSTMs, used in tensorflow require the input data to be in the form of a 3D array, the data needs to be reshaped again:"
   ]
  },
  {
   "cell_type": "code",
   "execution_count": 460,
   "id": "c5f99f8d",
   "metadata": {},
   "outputs": [
    {
     "name": "stdout",
     "output_type": "stream",
     "text": [
      "(36145, 48, 1)\n",
      "(9048, 48, 1)\n"
     ]
    }
   ],
   "source": [
    "# reshape input to be [samples, time steps, features]\n",
    "x_train = np.reshape(x_train,(x_train.shape[0], x_train.shape[1], 1))\n",
    "x_test = np.reshape(x_test,(x_test.shape[0], x_test.shape[1], 1))\n",
    "print(x_train.shape)\n",
    "print(x_test.shape)"
   ]
  },
  {
   "cell_type": "markdown",
   "id": "e10a77ea",
   "metadata": {},
   "source": [
    "- Similar to the MLP set up, the model is initialized as an object from TensorFlows sequential class.<br>\n",
    "- The two LSTM layers are set up with 20 neurons each. This configuration was chosen as it creates a baseline model which isnt too complex. The first hidden layer specifies the shape of the input in the hyperparameter **input_shape**. x_train.shape[1] indicates the number of time steps and 1 indicates there is one feature at each time step.<br>\n",
    "- **return_sequences** must always be specified if the current hidden layer is connected to another LSTM layer. specifying return_sequences = False (or leaving blank) indicates the last LSTM layer in the network.<br>\n",
    "- No activation function is specified in any of the LSTM layers.This is because the default activation function is the hyperbolic tangent (*tanh*) which introduces non-linearity into the model and is commonly left as the activation function in LSTM architectures. *ReLu* has traditionally been regarded as inappropriate for use with LSTMs, so this wont be used here.<br>\n",
    "- A *Dense* layer with one neuron (representing one output value) serves as an output layer of the model. The default *linear* activation function is used for this layer due to the nature of the data being predicted.\n"
   ]
  },
  {
   "cell_type": "code",
   "execution_count": 124,
   "id": "a5ac643b",
   "metadata": {},
   "outputs": [],
   "source": [
    "model_lstm_1 = Sequential()\n",
    "model_lstm_1.add(LSTM(20, return_sequences = True, input_shape = (x_train.shape[1], 1)))\n",
    "model_lstm_1.add(LSTM(20, return_sequences = False ))\n",
    "model_lstm_1.add(Dense(1))"
   ]
  },
  {
   "cell_type": "markdown",
   "id": "7b166c70",
   "metadata": {},
   "source": [
    "mean squared error (mse) is used for the loss function as it is appropriate for regression problems, while *adam* is used again as the optimizer:"
   ]
  },
  {
   "cell_type": "code",
   "execution_count": 125,
   "id": "fb9bdc81",
   "metadata": {},
   "outputs": [],
   "source": [
    "model_lstm_1.compile(loss='mse', optimizer='adam')"
   ]
  },
  {
   "cell_type": "code",
   "execution_count": 126,
   "id": "2b5d77c4",
   "metadata": {
    "scrolled": true
   },
   "outputs": [
    {
     "name": "stdout",
     "output_type": "stream",
     "text": [
      "Epoch 1/50\n",
      "362/362 [==============================] - 10s 19ms/step - loss: 35.9353\n",
      "Epoch 2/50\n",
      "362/362 [==============================] - 7s 20ms/step - loss: 5.8212\n",
      "Epoch 3/50\n",
      "362/362 [==============================] - 7s 20ms/step - loss: 2.3362\n",
      "Epoch 4/50\n",
      "362/362 [==============================] - 7s 20ms/step - loss: 1.4133\n",
      "Epoch 5/50\n",
      "362/362 [==============================] - 8s 21ms/step - loss: 1.0751\n",
      "Epoch 6/50\n",
      "362/362 [==============================] - 7s 20ms/step - loss: 0.9151\n",
      "Epoch 7/50\n",
      "362/362 [==============================] - 8s 21ms/step - loss: 0.8293\n",
      "Epoch 8/50\n",
      "362/362 [==============================] - 7s 20ms/step - loss: 0.7747\n",
      "Epoch 9/50\n",
      "362/362 [==============================] - 7s 21ms/step - loss: 0.7364\n",
      "Epoch 10/50\n",
      "362/362 [==============================] - 7s 19ms/step - loss: 0.7062\n",
      "Epoch 11/50\n",
      "362/362 [==============================] - 7s 20ms/step - loss: 0.6880\n",
      "Epoch 12/50\n",
      "362/362 [==============================] - 7s 20ms/step - loss: 0.6730\n",
      "Epoch 13/50\n",
      "362/362 [==============================] - 7s 20ms/step - loss: 0.6631\n",
      "Epoch 14/50\n",
      "362/362 [==============================] - 7s 20ms/step - loss: 0.6544\n",
      "Epoch 15/50\n",
      "362/362 [==============================] - 7s 19ms/step - loss: 0.6448\n",
      "Epoch 16/50\n",
      "362/362 [==============================] - 8s 21ms/step - loss: 0.6412\n",
      "Epoch 17/50\n",
      "362/362 [==============================] - 7s 20ms/step - loss: 0.6340\n",
      "Epoch 18/50\n",
      "362/362 [==============================] - 7s 21ms/step - loss: 0.6370\n",
      "Epoch 19/50\n",
      "362/362 [==============================] - 7s 19ms/step - loss: 0.6307\n",
      "Epoch 20/50\n",
      "362/362 [==============================] - 7s 21ms/step - loss: 0.6278\n",
      "Epoch 21/50\n",
      "362/362 [==============================] - 7s 20ms/step - loss: 0.6257\n",
      "Epoch 22/50\n",
      "362/362 [==============================] - 7s 20ms/step - loss: 0.6223\n",
      "Epoch 23/50\n",
      "362/362 [==============================] - 7s 20ms/step - loss: 0.6216\n",
      "Epoch 24/50\n",
      "362/362 [==============================] - 7s 20ms/step - loss: 0.6226\n",
      "Epoch 25/50\n",
      "362/362 [==============================] - 7s 20ms/step - loss: 0.6178\n",
      "Epoch 26/50\n",
      "362/362 [==============================] - 7s 19ms/step - loss: 0.6158\n",
      "Epoch 27/50\n",
      "362/362 [==============================] - 8s 21ms/step - loss: 0.6178\n",
      "Epoch 28/50\n",
      "362/362 [==============================] - 7s 19ms/step - loss: 0.6160\n",
      "Epoch 29/50\n",
      "362/362 [==============================] - 8s 21ms/step - loss: 0.6156\n",
      "Epoch 30/50\n",
      "362/362 [==============================] - 7s 20ms/step - loss: 0.6134\n",
      "Epoch 31/50\n",
      "362/362 [==============================] - 7s 21ms/step - loss: 0.6122\n",
      "Epoch 32/50\n",
      "362/362 [==============================] - 7s 20ms/step - loss: 0.6129\n",
      "Epoch 33/50\n",
      "362/362 [==============================] - 8s 21ms/step - loss: 0.6117\n",
      "Epoch 34/50\n",
      "362/362 [==============================] - 7s 20ms/step - loss: 0.6092\n",
      "Epoch 35/50\n",
      "362/362 [==============================] - 7s 20ms/step - loss: 0.6121\n",
      "Epoch 36/50\n",
      "362/362 [==============================] - 7s 20ms/step - loss: 0.6082\n",
      "Epoch 37/50\n",
      "362/362 [==============================] - 7s 20ms/step - loss: 0.6069\n",
      "Epoch 38/50\n",
      "362/362 [==============================] - 8s 21ms/step - loss: 0.6060\n",
      "Epoch 39/50\n",
      "362/362 [==============================] - 7s 20ms/step - loss: 0.6067\n",
      "Epoch 40/50\n",
      "362/362 [==============================] - 8s 21ms/step - loss: 0.6057\n",
      "Epoch 41/50\n",
      "362/362 [==============================] - 7s 20ms/step - loss: 0.6060\n",
      "Epoch 42/50\n",
      "362/362 [==============================] - 8s 21ms/step - loss: 0.6043\n",
      "Epoch 43/50\n",
      "362/362 [==============================] - 7s 20ms/step - loss: 0.6056\n",
      "Epoch 44/50\n",
      "362/362 [==============================] - 7s 20ms/step - loss: 0.6035\n",
      "Epoch 45/50\n",
      "362/362 [==============================] - 7s 20ms/step - loss: 0.6051\n",
      "Epoch 46/50\n",
      "362/362 [==============================] - 7s 20ms/step - loss: 0.6028\n",
      "Epoch 47/50\n",
      "362/362 [==============================] - 7s 21ms/step - loss: 0.6006\n",
      "Epoch 48/50\n",
      "362/362 [==============================] - 7s 20ms/step - loss: 0.5994\n",
      "Epoch 49/50\n",
      "362/362 [==============================] - 7s 21ms/step - loss: 0.6023\n",
      "Epoch 50/50\n",
      "362/362 [==============================] - 7s 20ms/step - loss: 0.5998\n"
     ]
    }
   ],
   "source": [
    "#fitting the lstm model with 50 epochs and a batch size of 100\n",
    "lstm_history = model_lstm_1.fit(x_train, y_train, epochs = 50, batch_size = 100)"
   ]
  },
  {
   "cell_type": "code",
   "execution_count": 127,
   "id": "cef6abe2",
   "metadata": {},
   "outputs": [
    {
     "name": "stdout",
     "output_type": "stream",
     "text": [
      "1130/1130 [==============================] - 8s 4ms/step\n",
      "283/283 [==============================] - 1s 4ms/step\n"
     ]
    }
   ],
   "source": [
    "#making predictions from the training neural network\n",
    "y_preds_train_lstm_1 = model_lstm_1.predict(x_train)\n",
    "y_preds_test_lstm_1 = model_lstm_1.predict(x_test) "
   ]
  },
  {
   "cell_type": "code",
   "execution_count": 128,
   "id": "1a9f1fac",
   "metadata": {},
   "outputs": [
    {
     "name": "stdout",
     "output_type": "stream",
     "text": [
      "1) the root mean squared error for the test set is: 1.0034209692212235\n",
      "2) the r^2 score for the test set is: 0.9591969580571786\n",
      "3) the r^2 score for the training set is: 0.9766341372430035\n"
     ]
    }
   ],
   "source": [
    "## accuracy metrics for regression model: \n",
    "r_squared_test_lstm_1 = r2_score(y_test,y_preds_test_lstm_1)\n",
    "r_squared_train_lstm_1 = r2_score(y_train,y_preds_train_lstm_1)\n",
    "\n",
    "rmse_test_lstm_1 = rmse(y_test, y_preds_test_lstm_1)\n",
    "\n",
    "print(f'1) the root mean squared error for the test set is: {rmse_test_lstm_1[0]}')\n",
    "print(f'2) the r^2 score for the test set is: {r_squared_test_lstm_1}')\n",
    "print(f'3) the r^2 score for the training set is: {r_squared_train_lstm_1}')"
   ]
  },
  {
   "cell_type": "code",
   "execution_count": null,
   "id": "08d8bec8",
   "metadata": {},
   "outputs": [],
   "source": []
  },
  {
   "cell_type": "markdown",
   "id": "74da3edc",
   "metadata": {},
   "source": [
    "## increasing LSTM complexity, adding dropout to reduce overfitting"
   ]
  },
  {
   "cell_type": "markdown",
   "id": "8f8645fc",
   "metadata": {},
   "source": [
    "Dropout regularization is a technique used to avoid overfitting when training neural networks.<br>\n",
    "The dropout rate indicates how many neurons should be dropped in a specific layer of the neural network. It is common to use a dropout rate of 20%."
   ]
  },
  {
   "cell_type": "code",
   "execution_count": 197,
   "id": "f6078672",
   "metadata": {},
   "outputs": [],
   "source": [
    "model_lstm_2 = Sequential()\n",
    "model_lstm_2.add(LSTM(units= 45, return_sequences = True, input_shape = (x_train.shape[1], 1)))\n",
    "model_lstm_2.add(Dropout(0.2))\n",
    "model_lstm_2.add(LSTM(units= 45, return_sequences = True))\n",
    "model_lstm_2.add(Dropout(0.2))\n",
    "model_lstm_2.add(LSTM(units= 45))\n",
    "model_lstm_2.add(Dense(1))"
   ]
  },
  {
   "cell_type": "code",
   "execution_count": 198,
   "id": "595c1449",
   "metadata": {},
   "outputs": [],
   "source": [
    "model_lstm_2.compile(loss='mse', optimizer='adam')"
   ]
  },
  {
   "cell_type": "code",
   "execution_count": 199,
   "id": "276fea68",
   "metadata": {
    "scrolled": true
   },
   "outputs": [
    {
     "name": "stdout",
     "output_type": "stream",
     "text": [
      "Epoch 1/50\n",
      "362/362 [==============================] - 23s 53ms/step - loss: 16.6941\n",
      "Epoch 2/50\n",
      "362/362 [==============================] - 21s 57ms/step - loss: 1.8685\n",
      "Epoch 3/50\n",
      "362/362 [==============================] - 20s 56ms/step - loss: 1.1939\n",
      "Epoch 4/50\n",
      "362/362 [==============================] - 20s 56ms/step - loss: 1.0057\n",
      "Epoch 5/50\n",
      "362/362 [==============================] - 21s 57ms/step - loss: 0.9149\n",
      "Epoch 6/50\n",
      "362/362 [==============================] - 22s 59ms/step - loss: 0.8780\n",
      "Epoch 7/50\n",
      "362/362 [==============================] - 20s 56ms/step - loss: 0.8337\n",
      "Epoch 8/50\n",
      "362/362 [==============================] - 21s 57ms/step - loss: 0.8125\n",
      "Epoch 9/50\n",
      "362/362 [==============================] - 21s 57ms/step - loss: 0.7970\n",
      "Epoch 10/50\n",
      "362/362 [==============================] - 21s 58ms/step - loss: 0.7800\n",
      "Epoch 11/50\n",
      "362/362 [==============================] - 21s 58ms/step - loss: 0.7811\n",
      "Epoch 12/50\n",
      "362/362 [==============================] - 21s 57ms/step - loss: 0.7653\n",
      "Epoch 13/50\n",
      "362/362 [==============================] - 20s 56ms/step - loss: 0.7609\n",
      "Epoch 14/50\n",
      "362/362 [==============================] - 20s 55ms/step - loss: 0.7482\n",
      "Epoch 15/50\n",
      "362/362 [==============================] - 20s 56ms/step - loss: 0.7442\n",
      "Epoch 16/50\n",
      "362/362 [==============================] - 21s 57ms/step - loss: 0.7264\n",
      "Epoch 17/50\n",
      "362/362 [==============================] - 20s 56ms/step - loss: 0.7196\n",
      "Epoch 18/50\n",
      "362/362 [==============================] - 20s 56ms/step - loss: 0.7205\n",
      "Epoch 19/50\n",
      "362/362 [==============================] - 20s 57ms/step - loss: 0.7159\n",
      "Epoch 20/50\n",
      "362/362 [==============================] - 20s 57ms/step - loss: 0.7107\n",
      "Epoch 21/50\n",
      "362/362 [==============================] - 20s 56ms/step - loss: 0.7130\n",
      "Epoch 22/50\n",
      "362/362 [==============================] - 20s 56ms/step - loss: 0.7080\n",
      "Epoch 23/50\n",
      "362/362 [==============================] - 21s 57ms/step - loss: 0.7055\n",
      "Epoch 24/50\n",
      "362/362 [==============================] - 21s 58ms/step - loss: 0.7082\n",
      "Epoch 25/50\n",
      "362/362 [==============================] - 20s 57ms/step - loss: 0.7055\n",
      "Epoch 26/50\n",
      "362/362 [==============================] - 21s 57ms/step - loss: 0.6911\n",
      "Epoch 27/50\n",
      "362/362 [==============================] - 20s 55ms/step - loss: 0.6866\n",
      "Epoch 28/50\n",
      "362/362 [==============================] - 20s 55ms/step - loss: 0.6884\n",
      "Epoch 29/50\n",
      "362/362 [==============================] - 21s 57ms/step - loss: 0.6856\n",
      "Epoch 30/50\n",
      "362/362 [==============================] - 21s 59ms/step - loss: 0.6833\n",
      "Epoch 31/50\n",
      "362/362 [==============================] - 20s 56ms/step - loss: 0.6846\n",
      "Epoch 32/50\n",
      "362/362 [==============================] - 20s 56ms/step - loss: 0.6847\n",
      "Epoch 33/50\n",
      "362/362 [==============================] - 21s 58ms/step - loss: 0.6806\n",
      "Epoch 34/50\n",
      "362/362 [==============================] - 21s 57ms/step - loss: 0.6796\n",
      "Epoch 35/50\n",
      "362/362 [==============================] - 20s 56ms/step - loss: 0.6720\n",
      "Epoch 36/50\n",
      "362/362 [==============================] - 21s 57ms/step - loss: 0.6694\n",
      "Epoch 37/50\n",
      "362/362 [==============================] - 21s 57ms/step - loss: 0.6670\n",
      "Epoch 38/50\n",
      "362/362 [==============================] - 21s 57ms/step - loss: 0.6763\n",
      "Epoch 39/50\n",
      "362/362 [==============================] - 21s 57ms/step - loss: 0.6714\n",
      "Epoch 40/50\n",
      "362/362 [==============================] - 21s 57ms/step - loss: 0.6659\n",
      "Epoch 41/50\n",
      "362/362 [==============================] - 21s 57ms/step - loss: 0.6671\n",
      "Epoch 42/50\n",
      "362/362 [==============================] - 20s 56ms/step - loss: 0.6644\n",
      "Epoch 43/50\n",
      "362/362 [==============================] - 20s 56ms/step - loss: 0.6662\n",
      "Epoch 44/50\n",
      "362/362 [==============================] - 21s 58ms/step - loss: 0.6590\n",
      "Epoch 45/50\n",
      "362/362 [==============================] - 21s 57ms/step - loss: 0.6638\n",
      "Epoch 46/50\n",
      "362/362 [==============================] - 21s 57ms/step - loss: 0.6600\n",
      "Epoch 47/50\n",
      "362/362 [==============================] - 21s 58ms/step - loss: 0.6585\n",
      "Epoch 48/50\n",
      "362/362 [==============================] - 21s 57ms/step - loss: 0.6536\n",
      "Epoch 49/50\n",
      "362/362 [==============================] - 20s 56ms/step - loss: 0.6534\n",
      "Epoch 50/50\n",
      "362/362 [==============================] - 20s 54ms/step - loss: 0.6463\n"
     ]
    }
   ],
   "source": [
    "lstm_history_2 = model_lstm_2.fit(x_train, y_train, epochs = 50, batch_size = 100)"
   ]
  },
  {
   "cell_type": "code",
   "execution_count": 201,
   "id": "2858f49a",
   "metadata": {},
   "outputs": [
    {
     "name": "stdout",
     "output_type": "stream",
     "text": [
      "1130/1130 [==============================] - 12s 10ms/step\n",
      "283/283 [==============================] - 3s 11ms/step\n"
     ]
    }
   ],
   "source": [
    "y_preds_train_lstm_2 = model_lstm_2.predict(x_train)\n",
    "y_preds_test_lstm_2 = model_lstm_2.predict(x_test) "
   ]
  },
  {
   "cell_type": "code",
   "execution_count": 466,
   "id": "d4ed4f0d",
   "metadata": {},
   "outputs": [],
   "source": [
    "#x_train.shape"
   ]
  },
  {
   "cell_type": "code",
   "execution_count": 203,
   "id": "d69b6ac7",
   "metadata": {},
   "outputs": [
    {
     "name": "stdout",
     "output_type": "stream",
     "text": [
      "1) the mean squared error for the test set is: 0.5633314935104728\n",
      "2) the r^2 score for the test set is: 0.9771708244270777\n",
      "3) the r^2 score for the training set is: 0.9768994218281678\n"
     ]
    }
   ],
   "source": [
    "## accuracy metrics for regression model: \n",
    "r_squared_test_lstm_2 = r2_score(y_test,y_preds_test_lstm_2)\n",
    "r_squared_train_lstm_2 = r2_score(y_train,y_preds_train_lstm_2)\n",
    "\n",
    "mse_test_lstm_2 = mse(y_test, y_preds_test_lstm_2)\n",
    "\n",
    "print(f'1) the mean squared error for the test set is: {mse_test_lstm_2[0]}')\n",
    "print(f'2) the r^2 score for the test set is: {r_squared_test_lstm_2}')\n",
    "print(f'3) the r^2 score for the training set is: {r_squared_train_lstm_2}')"
   ]
  },
  {
   "cell_type": "code",
   "execution_count": 350,
   "id": "2e76426d",
   "metadata": {},
   "outputs": [],
   "source": [
    "#pd.DataFrame(y_preds_test_lstm_2).to_csv(\"y_preds_test_lstm_2.csv\")\n",
    "#pd.DataFrame(y_preds_train_lstm_2).to_csv(\"y_preds_train_lstm_2.csv\")"
   ]
  },
  {
   "cell_type": "markdown",
   "id": "8776f4ea",
   "metadata": {},
   "source": [
    "### multivariate LSTM"
   ]
  },
  {
   "cell_type": "code",
   "execution_count": 204,
   "id": "3decfb6b",
   "metadata": {},
   "outputs": [],
   "source": [
    "#filtering out the features to be passed to model\n",
    "df_new = df.drop(columns=['date'])"
   ]
  },
  {
   "cell_type": "code",
   "execution_count": 205,
   "id": "bf9ec9e8",
   "metadata": {},
   "outputs": [
    {
     "data": {
      "text/html": [
       "<div>\n",
       "<style scoped>\n",
       "    .dataframe tbody tr th:only-of-type {\n",
       "        vertical-align: middle;\n",
       "    }\n",
       "\n",
       "    .dataframe tbody tr th {\n",
       "        vertical-align: top;\n",
       "    }\n",
       "\n",
       "    .dataframe thead th {\n",
       "        text-align: right;\n",
       "    }\n",
       "</style>\n",
       "<table border=\"1\" class=\"dataframe\">\n",
       "  <thead>\n",
       "    <tr style=\"text-align: right;\">\n",
       "      <th></th>\n",
       "      <th>datetime</th>\n",
       "      <th>rain</th>\n",
       "      <th>temp</th>\n",
       "      <th>wet_bulb</th>\n",
       "      <th>dew_point</th>\n",
       "      <th>vap_pressure</th>\n",
       "      <th>humidity</th>\n",
       "      <th>sea_pressure</th>\n",
       "      <th>wind_speed</th>\n",
       "      <th>wind_dir</th>\n",
       "      <th>sun</th>\n",
       "      <th>vis</th>\n",
       "      <th>cloud_height</th>\n",
       "      <th>clout_amount</th>\n",
       "    </tr>\n",
       "  </thead>\n",
       "  <tbody>\n",
       "    <tr>\n",
       "      <th>0</th>\n",
       "      <td>2019-01-02T00:00:00.000Z</td>\n",
       "      <td>0.0</td>\n",
       "      <td>4.4</td>\n",
       "      <td>3.5</td>\n",
       "      <td>2.2</td>\n",
       "      <td>7.1</td>\n",
       "      <td>85</td>\n",
       "      <td>1042.4</td>\n",
       "      <td>2</td>\n",
       "      <td>290</td>\n",
       "      <td>0.0</td>\n",
       "      <td>18000</td>\n",
       "      <td>28</td>\n",
       "      <td>5</td>\n",
       "    </tr>\n",
       "    <tr>\n",
       "      <th>1</th>\n",
       "      <td>2019-01-02T01:00:00.000Z</td>\n",
       "      <td>0.0</td>\n",
       "      <td>4.3</td>\n",
       "      <td>3.7</td>\n",
       "      <td>2.7</td>\n",
       "      <td>7.5</td>\n",
       "      <td>90</td>\n",
       "      <td>1043.1</td>\n",
       "      <td>3</td>\n",
       "      <td>70</td>\n",
       "      <td>0.0</td>\n",
       "      <td>18000</td>\n",
       "      <td>30</td>\n",
       "      <td>7</td>\n",
       "    </tr>\n",
       "    <tr>\n",
       "      <th>2</th>\n",
       "      <td>2019-01-02T02:00:00.000Z</td>\n",
       "      <td>0.0</td>\n",
       "      <td>4.7</td>\n",
       "      <td>3.9</td>\n",
       "      <td>2.6</td>\n",
       "      <td>7.4</td>\n",
       "      <td>87</td>\n",
       "      <td>1043.2</td>\n",
       "      <td>2</td>\n",
       "      <td>340</td>\n",
       "      <td>0.0</td>\n",
       "      <td>18000</td>\n",
       "      <td>30</td>\n",
       "      <td>7</td>\n",
       "    </tr>\n",
       "    <tr>\n",
       "      <th>3</th>\n",
       "      <td>2019-01-02T03:00:00.000Z</td>\n",
       "      <td>0.0</td>\n",
       "      <td>5.1</td>\n",
       "      <td>4.2</td>\n",
       "      <td>2.8</td>\n",
       "      <td>7.5</td>\n",
       "      <td>86</td>\n",
       "      <td>1043.3</td>\n",
       "      <td>2</td>\n",
       "      <td>320</td>\n",
       "      <td>0.0</td>\n",
       "      <td>18000</td>\n",
       "      <td>30</td>\n",
       "      <td>7</td>\n",
       "    </tr>\n",
       "    <tr>\n",
       "      <th>4</th>\n",
       "      <td>2019-01-02T04:00:00.000Z</td>\n",
       "      <td>0.0</td>\n",
       "      <td>5.1</td>\n",
       "      <td>4.2</td>\n",
       "      <td>2.9</td>\n",
       "      <td>7.5</td>\n",
       "      <td>86</td>\n",
       "      <td>1043.2</td>\n",
       "      <td>3</td>\n",
       "      <td>100</td>\n",
       "      <td>0.0</td>\n",
       "      <td>18000</td>\n",
       "      <td>30</td>\n",
       "      <td>7</td>\n",
       "    </tr>\n",
       "  </tbody>\n",
       "</table>\n",
       "</div>"
      ],
      "text/plain": [
       "                   datetime  rain  temp  wet_bulb  dew_point  vap_pressure  \\\n",
       "0  2019-01-02T00:00:00.000Z   0.0   4.4       3.5        2.2           7.1   \n",
       "1  2019-01-02T01:00:00.000Z   0.0   4.3       3.7        2.7           7.5   \n",
       "2  2019-01-02T02:00:00.000Z   0.0   4.7       3.9        2.6           7.4   \n",
       "3  2019-01-02T03:00:00.000Z   0.0   5.1       4.2        2.8           7.5   \n",
       "4  2019-01-02T04:00:00.000Z   0.0   5.1       4.2        2.9           7.5   \n",
       "\n",
       "   humidity  sea_pressure  wind_speed  wind_dir  sun    vis  cloud_height  \\\n",
       "0        85        1042.4           2       290  0.0  18000            28   \n",
       "1        90        1043.1           3        70  0.0  18000            30   \n",
       "2        87        1043.2           2       340  0.0  18000            30   \n",
       "3        86        1043.3           2       320  0.0  18000            30   \n",
       "4        86        1043.2           3       100  0.0  18000            30   \n",
       "\n",
       "   clout_amount  \n",
       "0             5  \n",
       "1             7  \n",
       "2             7  \n",
       "3             7  \n",
       "4             7  "
      ]
     },
     "execution_count": 205,
     "metadata": {},
     "output_type": "execute_result"
    }
   ],
   "source": [
    "df_new.head()"
   ]
  },
  {
   "cell_type": "code",
   "execution_count": 206,
   "id": "7971c1c6",
   "metadata": {},
   "outputs": [],
   "source": [
    "df_new.index = df_new['datetime']"
   ]
  },
  {
   "cell_type": "code",
   "execution_count": 207,
   "id": "f7f13378",
   "metadata": {},
   "outputs": [],
   "source": [
    "df_new = df_new.drop(columns='datetime')"
   ]
  },
  {
   "cell_type": "code",
   "execution_count": 208,
   "id": "34e9ab96",
   "metadata": {},
   "outputs": [
    {
     "data": {
      "text/html": [
       "<div>\n",
       "<style scoped>\n",
       "    .dataframe tbody tr th:only-of-type {\n",
       "        vertical-align: middle;\n",
       "    }\n",
       "\n",
       "    .dataframe tbody tr th {\n",
       "        vertical-align: top;\n",
       "    }\n",
       "\n",
       "    .dataframe thead th {\n",
       "        text-align: right;\n",
       "    }\n",
       "</style>\n",
       "<table border=\"1\" class=\"dataframe\">\n",
       "  <thead>\n",
       "    <tr style=\"text-align: right;\">\n",
       "      <th></th>\n",
       "      <th>rain</th>\n",
       "      <th>temp</th>\n",
       "      <th>wet_bulb</th>\n",
       "      <th>dew_point</th>\n",
       "      <th>vap_pressure</th>\n",
       "      <th>humidity</th>\n",
       "      <th>sea_pressure</th>\n",
       "      <th>wind_speed</th>\n",
       "      <th>wind_dir</th>\n",
       "      <th>sun</th>\n",
       "      <th>vis</th>\n",
       "      <th>cloud_height</th>\n",
       "      <th>clout_amount</th>\n",
       "    </tr>\n",
       "    <tr>\n",
       "      <th>datetime</th>\n",
       "      <th></th>\n",
       "      <th></th>\n",
       "      <th></th>\n",
       "      <th></th>\n",
       "      <th></th>\n",
       "      <th></th>\n",
       "      <th></th>\n",
       "      <th></th>\n",
       "      <th></th>\n",
       "      <th></th>\n",
       "      <th></th>\n",
       "      <th></th>\n",
       "      <th></th>\n",
       "    </tr>\n",
       "  </thead>\n",
       "  <tbody>\n",
       "    <tr>\n",
       "      <th>2019-01-02T00:00:00.000Z</th>\n",
       "      <td>0.0</td>\n",
       "      <td>4.4</td>\n",
       "      <td>3.5</td>\n",
       "      <td>2.2</td>\n",
       "      <td>7.1</td>\n",
       "      <td>85</td>\n",
       "      <td>1042.4</td>\n",
       "      <td>2</td>\n",
       "      <td>290</td>\n",
       "      <td>0.0</td>\n",
       "      <td>18000</td>\n",
       "      <td>28</td>\n",
       "      <td>5</td>\n",
       "    </tr>\n",
       "    <tr>\n",
       "      <th>2019-01-02T01:00:00.000Z</th>\n",
       "      <td>0.0</td>\n",
       "      <td>4.3</td>\n",
       "      <td>3.7</td>\n",
       "      <td>2.7</td>\n",
       "      <td>7.5</td>\n",
       "      <td>90</td>\n",
       "      <td>1043.1</td>\n",
       "      <td>3</td>\n",
       "      <td>70</td>\n",
       "      <td>0.0</td>\n",
       "      <td>18000</td>\n",
       "      <td>30</td>\n",
       "      <td>7</td>\n",
       "    </tr>\n",
       "    <tr>\n",
       "      <th>2019-01-02T02:00:00.000Z</th>\n",
       "      <td>0.0</td>\n",
       "      <td>4.7</td>\n",
       "      <td>3.9</td>\n",
       "      <td>2.6</td>\n",
       "      <td>7.4</td>\n",
       "      <td>87</td>\n",
       "      <td>1043.2</td>\n",
       "      <td>2</td>\n",
       "      <td>340</td>\n",
       "      <td>0.0</td>\n",
       "      <td>18000</td>\n",
       "      <td>30</td>\n",
       "      <td>7</td>\n",
       "    </tr>\n",
       "    <tr>\n",
       "      <th>2019-01-02T03:00:00.000Z</th>\n",
       "      <td>0.0</td>\n",
       "      <td>5.1</td>\n",
       "      <td>4.2</td>\n",
       "      <td>2.8</td>\n",
       "      <td>7.5</td>\n",
       "      <td>86</td>\n",
       "      <td>1043.3</td>\n",
       "      <td>2</td>\n",
       "      <td>320</td>\n",
       "      <td>0.0</td>\n",
       "      <td>18000</td>\n",
       "      <td>30</td>\n",
       "      <td>7</td>\n",
       "    </tr>\n",
       "    <tr>\n",
       "      <th>2019-01-02T04:00:00.000Z</th>\n",
       "      <td>0.0</td>\n",
       "      <td>5.1</td>\n",
       "      <td>4.2</td>\n",
       "      <td>2.9</td>\n",
       "      <td>7.5</td>\n",
       "      <td>86</td>\n",
       "      <td>1043.2</td>\n",
       "      <td>3</td>\n",
       "      <td>100</td>\n",
       "      <td>0.0</td>\n",
       "      <td>18000</td>\n",
       "      <td>30</td>\n",
       "      <td>7</td>\n",
       "    </tr>\n",
       "  </tbody>\n",
       "</table>\n",
       "</div>"
      ],
      "text/plain": [
       "                          rain  temp  wet_bulb  dew_point  vap_pressure  \\\n",
       "datetime                                                                  \n",
       "2019-01-02T00:00:00.000Z   0.0   4.4       3.5        2.2           7.1   \n",
       "2019-01-02T01:00:00.000Z   0.0   4.3       3.7        2.7           7.5   \n",
       "2019-01-02T02:00:00.000Z   0.0   4.7       3.9        2.6           7.4   \n",
       "2019-01-02T03:00:00.000Z   0.0   5.1       4.2        2.8           7.5   \n",
       "2019-01-02T04:00:00.000Z   0.0   5.1       4.2        2.9           7.5   \n",
       "\n",
       "                          humidity  sea_pressure  wind_speed  wind_dir  sun  \\\n",
       "datetime                                                                      \n",
       "2019-01-02T00:00:00.000Z        85        1042.4           2       290  0.0   \n",
       "2019-01-02T01:00:00.000Z        90        1043.1           3        70  0.0   \n",
       "2019-01-02T02:00:00.000Z        87        1043.2           2       340  0.0   \n",
       "2019-01-02T03:00:00.000Z        86        1043.3           2       320  0.0   \n",
       "2019-01-02T04:00:00.000Z        86        1043.2           3       100  0.0   \n",
       "\n",
       "                            vis  cloud_height  clout_amount  \n",
       "datetime                                                     \n",
       "2019-01-02T00:00:00.000Z  18000            28             5  \n",
       "2019-01-02T01:00:00.000Z  18000            30             7  \n",
       "2019-01-02T02:00:00.000Z  18000            30             7  \n",
       "2019-01-02T03:00:00.000Z  18000            30             7  \n",
       "2019-01-02T04:00:00.000Z  18000            30             7  "
      ]
     },
     "execution_count": 208,
     "metadata": {},
     "output_type": "execute_result"
    }
   ],
   "source": [
    "df_new.head()"
   ]
  },
  {
   "cell_type": "code",
   "execution_count": 209,
   "id": "f72b8510",
   "metadata": {},
   "outputs": [],
   "source": [
    "df_new = df_new.values"
   ]
  },
  {
   "cell_type": "code",
   "execution_count": 210,
   "id": "a966944f",
   "metadata": {},
   "outputs": [],
   "source": [
    "target=df_new[:,1]"
   ]
  },
  {
   "cell_type": "code",
   "execution_count": 211,
   "id": "17fc215a",
   "metadata": {},
   "outputs": [],
   "source": [
    "#scaling the data\n",
    "scaler = StandardScaler()\n",
    "df_new = scaler.fit_transform(df_new)"
   ]
  },
  {
   "cell_type": "code",
   "execution_count": 212,
   "id": "46ea98f4",
   "metadata": {},
   "outputs": [],
   "source": [
    "x_train, y_train, x_test, y_test = create_mv_samples(df_new, target, 0.80, 48)"
   ]
  },
  {
   "cell_type": "code",
   "execution_count": 213,
   "id": "0e553178",
   "metadata": {},
   "outputs": [
    {
     "data": {
      "text/plain": [
       "((36145, 48, 13), (9048, 48, 13), (36145,), (9048,))"
      ]
     },
     "execution_count": 213,
     "metadata": {},
     "output_type": "execute_result"
    }
   ],
   "source": [
    "x_train.shape, x_test.shape, y_train.shape, y_test.shape"
   ]
  },
  {
   "cell_type": "code",
   "execution_count": 166,
   "id": "c16b6244",
   "metadata": {},
   "outputs": [],
   "source": [
    "model_lstm_3 = Sequential()\n",
    "model_lstm_3.add(LSTM(units= 45, return_sequences = True, input_shape = (x_train.shape[1], 13)))\n",
    "model_lstm_3.add(Dropout(0.2))\n",
    "model_lstm_3.add(LSTM(units= 45, return_sequences = True))\n",
    "model_lstm_3.add(Dropout(0.2))\n",
    "model_lstm_3.add(LSTM(units= 45))\n",
    "model_lstm_3.add(Dense(1))"
   ]
  },
  {
   "cell_type": "code",
   "execution_count": 167,
   "id": "598cd9a6",
   "metadata": {},
   "outputs": [],
   "source": [
    "model_lstm_3.compile(loss='mse', optimizer='adam')"
   ]
  },
  {
   "cell_type": "code",
   "execution_count": 168,
   "id": "d400923c",
   "metadata": {
    "scrolled": true
   },
   "outputs": [
    {
     "name": "stdout",
     "output_type": "stream",
     "text": [
      "Epoch 1/50\n",
      "362/362 [==============================] - 22s 51ms/step - loss: 16.4395\n",
      "Epoch 2/50\n",
      "362/362 [==============================] - 19s 53ms/step - loss: 1.8689\n",
      "Epoch 3/50\n",
      "362/362 [==============================] - 19s 53ms/step - loss: 1.1497\n",
      "Epoch 4/50\n",
      "362/362 [==============================] - 20s 54ms/step - loss: 0.9564\n",
      "Epoch 5/50\n",
      "362/362 [==============================] - 19s 53ms/step - loss: 0.8524\n",
      "Epoch 6/50\n",
      "362/362 [==============================] - 20s 54ms/step - loss: 0.8132\n",
      "Epoch 7/50\n",
      "362/362 [==============================] - 20s 54ms/step - loss: 0.7754\n",
      "Epoch 8/50\n",
      "362/362 [==============================] - 20s 54ms/step - loss: 0.7510\n",
      "Epoch 9/50\n",
      "362/362 [==============================] - 20s 55ms/step - loss: 0.7210\n",
      "Epoch 10/50\n",
      "362/362 [==============================] - 20s 55ms/step - loss: 0.6999\n",
      "Epoch 11/50\n",
      "362/362 [==============================] - 20s 55ms/step - loss: 0.6983\n",
      "Epoch 12/50\n",
      "362/362 [==============================] - 20s 54ms/step - loss: 0.6901\n",
      "Epoch 13/50\n",
      "362/362 [==============================] - 20s 55ms/step - loss: 0.6657\n",
      "Epoch 14/50\n",
      "362/362 [==============================] - 20s 55ms/step - loss: 0.6602\n",
      "Epoch 15/50\n",
      "362/362 [==============================] - 20s 56ms/step - loss: 0.6402\n",
      "Epoch 16/50\n",
      "362/362 [==============================] - 20s 55ms/step - loss: 0.6448\n",
      "Epoch 17/50\n",
      "362/362 [==============================] - 20s 56ms/step - loss: 0.6308\n",
      "Epoch 18/50\n",
      "362/362 [==============================] - 20s 56ms/step - loss: 0.6311\n",
      "Epoch 19/50\n",
      "362/362 [==============================] - 20s 56ms/step - loss: 0.6294\n",
      "Epoch 20/50\n",
      "362/362 [==============================] - 20s 55ms/step - loss: 0.6189\n",
      "Epoch 21/50\n",
      "362/362 [==============================] - 20s 54ms/step - loss: 0.6124\n",
      "Epoch 22/50\n",
      "362/362 [==============================] - 20s 56ms/step - loss: 0.6134\n",
      "Epoch 23/50\n",
      "362/362 [==============================] - 20s 56ms/step - loss: 0.6072\n",
      "Epoch 24/50\n",
      "362/362 [==============================] - 20s 56ms/step - loss: 0.6019\n",
      "Epoch 25/50\n",
      "362/362 [==============================] - 20s 55ms/step - loss: 0.5978\n",
      "Epoch 26/50\n",
      "362/362 [==============================] - 20s 57ms/step - loss: 0.5978\n",
      "Epoch 27/50\n",
      "362/362 [==============================] - 20s 56ms/step - loss: 0.5907\n",
      "Epoch 28/50\n",
      "362/362 [==============================] - 20s 56ms/step - loss: 0.5922\n",
      "Epoch 29/50\n",
      "362/362 [==============================] - 20s 56ms/step - loss: 0.5831\n",
      "Epoch 30/50\n",
      "362/362 [==============================] - 21s 58ms/step - loss: 0.5811\n",
      "Epoch 31/50\n",
      "362/362 [==============================] - 21s 58ms/step - loss: 0.5790\n",
      "Epoch 32/50\n",
      "362/362 [==============================] - 21s 59ms/step - loss: 0.5837\n",
      "Epoch 33/50\n",
      "362/362 [==============================] - 21s 59ms/step - loss: 0.5771\n",
      "Epoch 34/50\n",
      "362/362 [==============================] - 19s 53ms/step - loss: 0.5736\n",
      "Epoch 35/50\n",
      "362/362 [==============================] - 19s 53ms/step - loss: 0.5693\n",
      "Epoch 36/50\n",
      "362/362 [==============================] - 19s 53ms/step - loss: 0.5644\n",
      "Epoch 37/50\n",
      "362/362 [==============================] - 20s 54ms/step - loss: 0.5620\n",
      "Epoch 38/50\n",
      "362/362 [==============================] - 19s 53ms/step - loss: 0.5600\n",
      "Epoch 39/50\n",
      "362/362 [==============================] - 19s 53ms/step - loss: 0.5629\n",
      "Epoch 40/50\n",
      "362/362 [==============================] - 19s 53ms/step - loss: 0.5552\n",
      "Epoch 41/50\n",
      "362/362 [==============================] - 19s 53ms/step - loss: 0.5529\n",
      "Epoch 42/50\n",
      "362/362 [==============================] - 19s 53ms/step - loss: 0.5544\n",
      "Epoch 43/50\n",
      "362/362 [==============================] - 19s 54ms/step - loss: 0.5521\n",
      "Epoch 44/50\n",
      "362/362 [==============================] - 19s 53ms/step - loss: 0.5494\n",
      "Epoch 45/50\n",
      "362/362 [==============================] - 19s 54ms/step - loss: 0.5454\n",
      "Epoch 46/50\n",
      "362/362 [==============================] - 19s 53ms/step - loss: 0.5458\n",
      "Epoch 47/50\n",
      "362/362 [==============================] - 20s 54ms/step - loss: 0.5407\n",
      "Epoch 48/50\n",
      "362/362 [==============================] - 19s 53ms/step - loss: 0.5364\n",
      "Epoch 49/50\n",
      "362/362 [==============================] - 19s 53ms/step - loss: 0.5361\n",
      "Epoch 50/50\n",
      "362/362 [==============================] - 19s 53ms/step - loss: 0.5348\n"
     ]
    }
   ],
   "source": [
    "lstm_history_3 = model_lstm_3.fit(x_train, y_train, epochs = 50, batch_size = 100)"
   ]
  },
  {
   "cell_type": "code",
   "execution_count": 214,
   "id": "b5c47634",
   "metadata": {
    "scrolled": true
   },
   "outputs": [
    {
     "name": "stdout",
     "output_type": "stream",
     "text": [
      "1130/1130 [==============================] - 12s 11ms/step\n",
      "283/283 [==============================] - 3s 10ms/step\n"
     ]
    }
   ],
   "source": [
    "y_preds_train_lstm_3 = model_lstm_3.predict(x_train)\n",
    "y_preds_test_lstm_3 = model_lstm_3.predict(x_test) "
   ]
  },
  {
   "cell_type": "code",
   "execution_count": 224,
   "id": "67cf5e12",
   "metadata": {},
   "outputs": [],
   "source": [
    "#needs to be reshaped\n",
    "y_preds_test_lstm_3= y_preds_test_lstm_3.reshape(1,-1)[0]"
   ]
  },
  {
   "cell_type": "code",
   "execution_count": 225,
   "id": "fe4957bf",
   "metadata": {},
   "outputs": [
    {
     "name": "stdout",
     "output_type": "stream",
     "text": [
      "1) the mean squared error for the test set is: 0.5644149083572934\n",
      "2) the r^2 score for the test set is: 0.977126918719619\n",
      "3) the r^2 score for the training set is: 0.9803119252580225\n"
     ]
    }
   ],
   "source": [
    "## accuracy metrics for regression model: \n",
    "r_squared_test_lstm_3 = r2_score(y_test,y_preds_test_lstm_3)\n",
    "r_squared_train_lstm_3 = r2_score(y_train,y_preds_train_lstm_3)\n",
    "\n",
    "mse_test_lstm_3 = mse(y_test, y_preds_test_lstm_3)\n",
    "\n",
    "print(f'1) the mean squared error for the test set is: {mse_test_lstm_3}')\n",
    "print(f'2) the r^2 score for the test set is: {r_squared_test_lstm_3}')\n",
    "print(f'3) the r^2 score for the training set is: {r_squared_train_lstm_3}')"
   ]
  },
  {
   "cell_type": "markdown",
   "id": "5dd54443",
   "metadata": {},
   "source": [
    "## Model Comparison"
   ]
  },
  {
   "cell_type": "code",
   "execution_count": 249,
   "id": "c5421072",
   "metadata": {},
   "outputs": [],
   "source": [
    "models = np.array(['univariate_MLP','multivariate_MLP','univariate_LSTM',\n",
    "                   'multivariate_LSTM'])\n",
    "\n",
    "r_squared_test = np.array([r_squared_test_m_2,r_squared_test_m_3,r_squared_test_lstm_2, r_squared_test_lstm_3])\n",
    "r_squared_train = np.array([r_squared_train_m_2,r_squared_train_m_3,r_squared_train_lstm_2, r_squared_train_lstm_3])\n",
    "\n",
    "mse_test = np.array([mse_test_m_2[0], mse_test_m_3[0], mse_test_lstm_2[0], mse_test_lstm_3])"
   ]
  },
  {
   "cell_type": "code",
   "execution_count": 251,
   "id": "738299f7",
   "metadata": {},
   "outputs": [
    {
     "data": {
      "text/html": [
       "<div>\n",
       "<style scoped>\n",
       "    .dataframe tbody tr th:only-of-type {\n",
       "        vertical-align: middle;\n",
       "    }\n",
       "\n",
       "    .dataframe tbody tr th {\n",
       "        vertical-align: top;\n",
       "    }\n",
       "\n",
       "    .dataframe thead th {\n",
       "        text-align: right;\n",
       "    }\n",
       "</style>\n",
       "<table border=\"1\" class=\"dataframe\">\n",
       "  <thead>\n",
       "    <tr style=\"text-align: right;\">\n",
       "      <th></th>\n",
       "      <th>models</th>\n",
       "      <th>r_squared_test</th>\n",
       "      <th>r_squared_train</th>\n",
       "      <th>mse_test</th>\n",
       "    </tr>\n",
       "  </thead>\n",
       "  <tbody>\n",
       "    <tr>\n",
       "      <th>0</th>\n",
       "      <td>univariate_MLP</td>\n",
       "      <td>0.957283</td>\n",
       "      <td>0.976991</td>\n",
       "      <td>1.054082</td>\n",
       "    </tr>\n",
       "    <tr>\n",
       "      <th>1</th>\n",
       "      <td>multivariate_MLP</td>\n",
       "      <td>0.970896</td>\n",
       "      <td>0.985283</td>\n",
       "      <td>0.718161</td>\n",
       "    </tr>\n",
       "    <tr>\n",
       "      <th>2</th>\n",
       "      <td>univariate_LSTM</td>\n",
       "      <td>0.977171</td>\n",
       "      <td>0.976899</td>\n",
       "      <td>0.563331</td>\n",
       "    </tr>\n",
       "    <tr>\n",
       "      <th>3</th>\n",
       "      <td>multivariate_LSTM</td>\n",
       "      <td>0.977127</td>\n",
       "      <td>0.980312</td>\n",
       "      <td>0.564415</td>\n",
       "    </tr>\n",
       "  </tbody>\n",
       "</table>\n",
       "</div>"
      ],
      "text/plain": [
       "              models  r_squared_test  r_squared_train  mse_test\n",
       "0     univariate_MLP        0.957283         0.976991  1.054082\n",
       "1   multivariate_MLP        0.970896         0.985283  0.718161\n",
       "2    univariate_LSTM        0.977171         0.976899  0.563331\n",
       "3  multivariate_LSTM        0.977127         0.980312  0.564415"
      ]
     },
     "execution_count": 251,
     "metadata": {},
     "output_type": "execute_result"
    }
   ],
   "source": [
    "#creating a dataframe from arrays\n",
    "comparison_metrics = pd.DataFrame({'models':models,\n",
    "                                  'r_squared_test':r_squared_test,\n",
    "                                  'r_squared_train':r_squared_train,\n",
    "                                  'mse_test':mse_test})\n",
    "\n",
    "comparison_metrics.to_csv('comparison_metrics.csv')\n",
    "comparison_metrics"
   ]
  },
  {
   "cell_type": "code",
   "execution_count": 254,
   "id": "160ec49c",
   "metadata": {},
   "outputs": [
    {
     "data": {
      "image/png": "[encoded data removed]",
      "text/plain": [
       "<Figure size 1200x600 with 1 Axes>"
      ]
     },
     "metadata": {},
     "output_type": "display_data"
    }
   ],
   "source": [
    "#plotting the accuracies using the r^2 score of each of the models used\n",
    "plt.figure(figsize=(12,6))\n",
    "sns.barplot(x='models',y='r_squared_test',data=comparison_metrics,width=.4)\n",
    "plt.grid(axis='y',alpha=.3)\n",
    "plt.title('Regression model r2 score comparisons')\n",
    "plt.show()"
   ]
  },
  {
   "cell_type": "code",
   "execution_count": null,
   "id": "72d5abd9",
   "metadata": {},
   "outputs": [],
   "source": []
  },
  {
   "cell_type": "markdown",
   "id": "3818fc91",
   "metadata": {},
   "source": [
    "### plotting predictions with best model\n",
    "\n",
    "Best Model: Univariate LSTM"
   ]
  },
  {
   "cell_type": "code",
   "execution_count": 370,
   "id": "01bd4794",
   "metadata": {},
   "outputs": [],
   "source": [
    "results = pd.DataFrame({'actual values':np.append(y_train,y_test),\n",
    "                        'predicted values':np.append(y_preds_train_lstm_2,y_preds_test_lstm_2)})"
   ]
  },
  {
   "cell_type": "code",
   "execution_count": 372,
   "id": "1c91d53a",
   "metadata": {},
   "outputs": [],
   "source": [
    "#results.to_csv('best_model_results.csv')"
   ]
  },
  {
   "cell_type": "code",
   "execution_count": 373,
   "id": "7b18912f",
   "metadata": {},
   "outputs": [
    {
     "data": {
      "text/html": [
       "<div>\n",
       "<style scoped>\n",
       "    .dataframe tbody tr th:only-of-type {\n",
       "        vertical-align: middle;\n",
       "    }\n",
       "\n",
       "    .dataframe tbody tr th {\n",
       "        vertical-align: top;\n",
       "    }\n",
       "\n",
       "    .dataframe thead th {\n",
       "        text-align: right;\n",
       "    }\n",
       "</style>\n",
       "<table border=\"1\" class=\"dataframe\">\n",
       "  <thead>\n",
       "    <tr style=\"text-align: right;\">\n",
       "      <th></th>\n",
       "      <th>actual values</th>\n",
       "      <th>predicted values</th>\n",
       "    </tr>\n",
       "  </thead>\n",
       "  <tbody>\n",
       "    <tr>\n",
       "      <th>0</th>\n",
       "      <td>6.3</td>\n",
       "      <td>6.094644</td>\n",
       "    </tr>\n",
       "    <tr>\n",
       "      <th>1</th>\n",
       "      <td>6.4</td>\n",
       "      <td>6.049635</td>\n",
       "    </tr>\n",
       "    <tr>\n",
       "      <th>2</th>\n",
       "      <td>6.2</td>\n",
       "      <td>6.204610</td>\n",
       "    </tr>\n",
       "    <tr>\n",
       "      <th>3</th>\n",
       "      <td>6.0</td>\n",
       "      <td>5.904832</td>\n",
       "    </tr>\n",
       "    <tr>\n",
       "      <th>4</th>\n",
       "      <td>5.7</td>\n",
       "      <td>5.720385</td>\n",
       "    </tr>\n",
       "  </tbody>\n",
       "</table>\n",
       "</div>"
      ],
      "text/plain": [
       "   actual values  predicted values\n",
       "0            6.3          6.094644\n",
       "1            6.4          6.049635\n",
       "2            6.2          6.204610\n",
       "3            6.0          5.904832\n",
       "4            5.7          5.720385"
      ]
     },
     "execution_count": 373,
     "metadata": {},
     "output_type": "execute_result"
    }
   ],
   "source": [
    "results.head()"
   ]
  },
  {
   "cell_type": "code",
   "execution_count": 375,
   "id": "982908d4",
   "metadata": {},
   "outputs": [
    {
     "data": {
      "text/plain": [
       "36193"
      ]
     },
     "execution_count": 375,
     "metadata": {},
     "output_type": "execute_result"
    }
   ],
   "source": [
    "#getting the length of training data\n",
    "training_len"
   ]
  },
  {
   "cell_type": "code",
   "execution_count": 376,
   "id": "69fb8fba",
   "metadata": {},
   "outputs": [],
   "source": [
    "train = results['actual values'][:training_len]"
   ]
  },
  {
   "cell_type": "code",
   "execution_count": 378,
   "id": "2cd1a28e",
   "metadata": {},
   "outputs": [],
   "source": [
    "valid = results['actual values'][training_len:]"
   ]
  },
  {
   "cell_type": "code",
   "execution_count": 379,
   "id": "b8165a69",
   "metadata": {},
   "outputs": [],
   "source": [
    "predictions = results['predicted values'][training_len:]"
   ]
  },
  {
   "cell_type": "code",
   "execution_count": 381,
   "id": "3478bdf7",
   "metadata": {},
   "outputs": [
    {
     "data": {
      "image/png": "[encoded data removed]",
      "text/plain": [
       "<Figure size 1600x800 with 1 Axes>"
      ]
     },
     "metadata": {},
     "output_type": "display_data"
    }
   ],
   "source": [
    "#plotting the predictions\n",
    "plt.figure(figsize=(16,8))\n",
    "plt.title('Univariate LSTM Model')\n",
    "plt.xlabel('Date',fontsize=18)\n",
    "plt.ylabel('air temperature', fontsize=18)\n",
    "plt.plot(train)\n",
    "plt.plot(valid)\n",
    "plt.plot(predictions)\n",
    "\n",
    "plt.legend(['Train', 'Valid', 'Predictions'], loc = 'lower right')\n",
    "plt.show()"
   ]
  },
  {
   "cell_type": "code",
   "execution_count": 385,
   "id": "f0705ba6",
   "metadata": {},
   "outputs": [
    {
     "data": {
      "image/png": "[encoded data removed]",
      "text/plain": [
       "<Figure size 1600x800 with 1 Axes>"
      ]
     },
     "metadata": {},
     "output_type": "display_data"
    }
   ],
   "source": [
    "#plotting the predictions\n",
    "plt.figure(figsize=(16,8))\n",
    "plt.title('Univariate LSTM Model')\n",
    "plt.xlabel('Date',fontsize=18)\n",
    "plt.ylabel('air temperature', fontsize=18)\n",
    "plt.plot(valid,color='orange')\n",
    "plt.plot(predictions, color='green')\n",
    "\n",
    "plt.legend([ 'Valid', 'Predictions'], loc = 'lower right')\n",
    "plt.show()"
   ]
  },
  {
   "cell_type": "markdown",
   "id": "42f477b4",
   "metadata": {},
   "source": [
    "### predicting a 1 day ahead air temperature using the model"
   ]
  },
  {
   "cell_type": "code",
   "execution_count": 392,
   "id": "f669ed3b",
   "metadata": {},
   "outputs": [
    {
     "data": {
      "text/plain": [
       "array([7.5, 7. , 6.5, 6. , 5.7, 5.1, 5.1, 5.2, 5.3, 6.4, 7.2, 7.2, 7.6,\n",
       "       6.9, 6.7, 5.9, 3.4, 3.4, 3. , 2.5, 2.1, 3.2, 3.5, 3.9])"
      ]
     },
     "execution_count": 392,
     "metadata": {},
     "output_type": "execute_result"
    }
   ],
   "source": [
    "next_day_temp = df.tail(24)['temp'].values\n",
    "next_day_temp"
   ]
  },
  {
   "cell_type": "code",
   "execution_count": 393,
   "id": "592d556f",
   "metadata": {},
   "outputs": [
    {
     "data": {
      "text/plain": [
       "[<matplotlib.lines.Line2D at 0x22b1ca16350>]"
      ]
     },
     "execution_count": 393,
     "metadata": {},
     "output_type": "execute_result"
    },
    {
     "data": {
      "image/png": "[encoded data removed]",
      "text/plain": [
       "<Figure size 640x480 with 1 Axes>"
      ]
     },
     "metadata": {},
     "output_type": "display_data"
    }
   ],
   "source": [
    "plt.plot(next_day_temp)"
   ]
  },
  {
   "cell_type": "code",
   "execution_count": 439,
   "id": "c61c4764",
   "metadata": {},
   "outputs": [
    {
     "data": {
      "text/html": [
       "<div>\n",
       "<style scoped>\n",
       "    .dataframe tbody tr th:only-of-type {\n",
       "        vertical-align: middle;\n",
       "    }\n",
       "\n",
       "    .dataframe tbody tr th {\n",
       "        vertical-align: top;\n",
       "    }\n",
       "\n",
       "    .dataframe thead th {\n",
       "        text-align: right;\n",
       "    }\n",
       "</style>\n",
       "<table border=\"1\" class=\"dataframe\">\n",
       "  <thead>\n",
       "    <tr style=\"text-align: right;\">\n",
       "      <th></th>\n",
       "      <th>temp</th>\n",
       "    </tr>\n",
       "  </thead>\n",
       "  <tbody>\n",
       "    <tr>\n",
       "      <th>0</th>\n",
       "      <td>3.3</td>\n",
       "    </tr>\n",
       "    <tr>\n",
       "      <th>1</th>\n",
       "      <td>4.3</td>\n",
       "    </tr>\n",
       "    <tr>\n",
       "      <th>2</th>\n",
       "      <td>5.1</td>\n",
       "    </tr>\n",
       "    <tr>\n",
       "      <th>3</th>\n",
       "      <td>5.7</td>\n",
       "    </tr>\n",
       "    <tr>\n",
       "      <th>4</th>\n",
       "      <td>6.4</td>\n",
       "    </tr>\n",
       "  </tbody>\n",
       "</table>\n",
       "</div>"
      ],
      "text/plain": [
       "   temp\n",
       "0   3.3\n",
       "1   4.3\n",
       "2   5.1\n",
       "3   5.7\n",
       "4   6.4"
      ]
     },
     "execution_count": 439,
     "metadata": {},
     "output_type": "execute_result"
    }
   ],
   "source": [
    "##creating an array of temp from 1 day ahead and previous 2 days\n",
    "all_data=df.tail(72)['temp']\n",
    "all_data = all_data.reset_index().drop(columns='index')\n",
    "all_data.head()"
   ]
  },
  {
   "cell_type": "code",
   "execution_count": 440,
   "id": "a3df64f8",
   "metadata": {},
   "outputs": [],
   "source": [
    "x_test_data = all_data[len(all_data) - len(next_day_temp) - 48:].values"
   ]
  },
  {
   "cell_type": "code",
   "execution_count": 441,
   "id": "d85325cc",
   "metadata": {},
   "outputs": [
    {
     "data": {
      "text/plain": [
       "72"
      ]
     },
     "execution_count": 441,
     "metadata": {},
     "output_type": "execute_result"
    }
   ],
   "source": [
    "len(x_test_data)"
   ]
  },
  {
   "cell_type": "code",
   "execution_count": 442,
   "id": "d49a633f",
   "metadata": {},
   "outputs": [],
   "source": [
    "x_test_data = np.reshape(x_test_data, (-1, 1))"
   ]
  },
  {
   "cell_type": "code",
   "execution_count": 436,
   "id": "0b9741b6",
   "metadata": {},
   "outputs": [],
   "source": [
    "#x_test_data = scaler.transform(x_test_data)"
   ]
  },
  {
   "cell_type": "code",
   "execution_count": 443,
   "id": "1dd22311",
   "metadata": {},
   "outputs": [],
   "source": [
    "final_x_test_data = []\n",
    "\n",
    "for i in range(48, len(x_test_data)):\n",
    "\n",
    "    final_x_test_data.append(x_test_data[i-48:i, 0])\n",
    "\n",
    "final_x_test_data = np.array(final_x_test_data)\n"
   ]
  },
  {
   "cell_type": "code",
   "execution_count": 445,
   "id": "8e44758b",
   "metadata": {},
   "outputs": [],
   "source": [
    "final_x_test_data = scaler.transform(final_x_test_data)"
   ]
  },
  {
   "cell_type": "code",
   "execution_count": 447,
   "id": "71aed1e2",
   "metadata": {},
   "outputs": [],
   "source": [
    "final_x_test_data = np.reshape(final_x_test_data, (final_x_test_data.shape[0], final_x_test_data.shape[1],1))"
   ]
  },
  {
   "cell_type": "code",
   "execution_count": 472,
   "id": "b17b311f",
   "metadata": {},
   "outputs": [
    {
     "name": "stdout",
     "output_type": "stream",
     "text": [
      "1/1 [==============================] - 0s 30ms/step\n"
     ]
    }
   ],
   "source": [
    "predictions = model_lstm_2.predict(final_x_test_data)"
   ]
  },
  {
   "cell_type": "code",
   "execution_count": 475,
   "id": "832bf964",
   "metadata": {},
   "outputs": [],
   "source": [
    "#pd.DataFrame(predictions).to_csv('predictions_1_day_ahead.csv')"
   ]
  },
  {
   "cell_type": "code",
   "execution_count": 481,
   "id": "7fe571ec",
   "metadata": {},
   "outputs": [
    {
     "data": {
      "text/plain": [
       "<matplotlib.legend.Legend at 0x22b495a5b90>"
      ]
     },
     "execution_count": 481,
     "metadata": {},
     "output_type": "execute_result"
    },
    {
     "data": {
      "image/png": "[encoded data removed]",
      "text/plain": [
       "<Figure size 640x480 with 1 Axes>"
      ]
     },
     "metadata": {},
     "output_type": "display_data"
    }
   ],
   "source": [
    "plt.plot(predictions, color = 'orange', label = \"Predictions\")\n",
    "\n",
    "plt.plot(next_day_temp, color = 'blue', label = \"Real Data\")\n",
    "\n",
    "plt.title('1 day ahead air temperature forecast')\n",
    "plt.ylabel('temperature (degrees)')\n",
    "plt.xlabel('hour of day')\n",
    "\n",
    "plt.legend()"
   ]
  },
  {
   "cell_type": "code",
   "execution_count": null,
   "id": "1a33b65f",
   "metadata": {},
   "outputs": [],
   "source": []
  }
 ],
 "metadata": {
  "kernelspec": {
   "display_name": "Python 3 (ipykernel)",
   "language": "python",
   "name": "python3"
  },
  "language_info": {
   "codemirror_mode": {
    "name": "ipython",
    "version": 3
   },
   "file_extension": ".py",
   "mimetype": "text/x-python",
   "name": "python",
   "nbconvert_exporter": "python",
   "pygments_lexer": "ipython3",
   "version": "3.11.4"
  }
 },
 "nbformat": 4,
 "nbformat_minor": 5
}
